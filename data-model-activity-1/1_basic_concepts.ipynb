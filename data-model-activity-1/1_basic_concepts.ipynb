{
  "nbformat": 4,
  "nbformat_minor": 0,
  "metadata": {
    "colab": {
      "provenance": []
    },
    "kernelspec": {
      "name": "python3",
      "display_name": "Python 3"
    },
    "language_info": {
      "name": "python"
    }
  },
  "cells": [
    {
      "cell_type": "markdown",
      "source": [
        "# Python Programming (Basic-Intermediate)\n",
        "## Module 1 - Basic Concepts\n",
        "\n",
        "---"
      ],
      "metadata": {
        "id": "F_cetwa97n1l"
      }
    },
    {
      "cell_type": "markdown",
      "source": [
        "## Understanding Google CoLab"
      ],
      "metadata": {
        "id": "gMpGAmsE7zbA"
      }
    },
    {
      "cell_type": "code",
      "source": [
        "print(\"Hello World!\")"
      ],
      "metadata": {
        "id": "kNpV5MYF_y9f",
        "colab": {
          "base_uri": "https://localhost:8080/",
          "height": 0
        },
        "outputId": "b78fc658-fd39-41bf-c730-5f76a93926ac"
      },
      "execution_count": 1,
      "outputs": [
        {
          "output_type": "stream",
          "name": "stdout",
          "text": [
            "Hello World!\n"
          ]
        }
      ]
    },
    {
      "cell_type": "code",
      "source": [
        "1+1"
      ],
      "metadata": {
        "id": "d3ALWnNQMUmI",
        "colab": {
          "base_uri": "https://localhost:8080/",
          "height": 0
        },
        "outputId": "9663c857-a354-4f1c-98bb-599ac8a77454"
      },
      "execution_count": 2,
      "outputs": [
        {
          "output_type": "execute_result",
          "data": {
            "text/plain": [
              "2"
            ]
          },
          "metadata": {},
          "execution_count": 2
        }
      ]
    },
    {
      "cell_type": "code",
      "source": [
        "x = 1\n",
        "y = x + 1\n",
        "print(x, y)"
      ],
      "metadata": {
        "id": "03Ul9RtOWw4r",
        "colab": {
          "base_uri": "https://localhost:8080/",
          "height": 0
        },
        "outputId": "da2de9c2-a63b-4582-d21e-c66f915142fc"
      },
      "execution_count": 3,
      "outputs": [
        {
          "output_type": "stream",
          "name": "stdout",
          "text": [
            "1 2\n"
          ]
        }
      ]
    },
    {
      "cell_type": "code",
      "source": [
        "!ls /content"
      ],
      "metadata": {
        "id": "0Zzh__REBRd4",
        "colab": {
          "base_uri": "https://localhost:8080/",
          "height": 0
        },
        "outputId": "9ce453be-8121-4935-e505-ea8da9726cac"
      },
      "execution_count": 4,
      "outputs": [
        {
          "output_type": "stream",
          "name": "stdout",
          "text": [
            "sample_data\n"
          ]
        }
      ]
    },
    {
      "cell_type": "code",
      "source": [
        "f = open('test.txt','w')\n",
        "f.write('Hello World!')\n",
        "f.close()"
      ],
      "metadata": {
        "id": "i67wkWv1XBaP"
      },
      "execution_count": 5,
      "outputs": []
    },
    {
      "cell_type": "code",
      "source": [
        "from google.colab import drive\n",
        "drive.mount('/content/drive')"
      ],
      "metadata": {
        "id": "AMKfHud6Z2vC",
        "colab": {
          "base_uri": "https://localhost:8080/",
          "height": 0
        },
        "outputId": "767f683c-a994-42e3-a8a8-f584edb7dcdb"
      },
      "execution_count": 6,
      "outputs": [
        {
          "output_type": "stream",
          "name": "stdout",
          "text": [
            "Mounted at /content/drive\n"
          ]
        }
      ]
    },
    {
      "cell_type": "code",
      "source": [
        "import pandas as pd\n",
        "df = pd.read_csv('/content/drive/MyDrive/AIS_DG/Flight_flights.csv')\n",
        "df.head()"
      ],
      "metadata": {
        "id": "Ba9q30JfdJLX",
        "colab": {
          "base_uri": "https://localhost:8080/",
          "height": 330
        },
        "outputId": "9f89ae62-4778-4629-b406-9f653b874f8e"
      },
      "execution_count": 12,
      "outputs": [
        {
          "output_type": "execute_result",
          "data": {
            "text/plain": [
              "   Unnamed: 0  year  month  day  dep_time  sched_dep_time  dep_delay  \\\n",
              "0           1  2013      1    1     517.0             515        2.0   \n",
              "1           2  2013      1    1     533.0             529        4.0   \n",
              "2           3  2013      1    1     542.0             540        2.0   \n",
              "3           4  2013      1    1     544.0             545       -1.0   \n",
              "4           5  2013      1    1     554.0             600       -6.0   \n",
              "\n",
              "   arr_time  sched_arr_time  arr_delay carrier  flight tailnum origin dest  \\\n",
              "0     830.0             819       11.0      UA    1545  N14228    EWR  IAH   \n",
              "1     850.0             830       20.0      UA    1714  N24211    LGA  IAH   \n",
              "2     923.0             850       33.0      AA    1141  N619AA    JFK  MIA   \n",
              "3    1004.0            1022      -18.0      B6     725  N804JB    JFK  BQN   \n",
              "4     812.0             837      -25.0      DL     461  N668DN    LGA  ATL   \n",
              "\n",
              "   air_time  distance  hour  minute            time_hour  \n",
              "0     227.0      1400     5      15  2013-01-01 05:00:00  \n",
              "1     227.0      1416     5      29  2013-01-01 05:00:00  \n",
              "2     160.0      1089     5      40  2013-01-01 05:00:00  \n",
              "3     183.0      1576     5      45  2013-01-01 05:00:00  \n",
              "4     116.0       762     6       0  2013-01-01 06:00:00  "
            ],
            "text/html": [
              "\n",
              "  <div id=\"df-46d22eb6-2053-4904-bd48-0c581dd4fcb9\" class=\"colab-df-container\">\n",
              "    <div>\n",
              "<style scoped>\n",
              "    .dataframe tbody tr th:only-of-type {\n",
              "        vertical-align: middle;\n",
              "    }\n",
              "\n",
              "    .dataframe tbody tr th {\n",
              "        vertical-align: top;\n",
              "    }\n",
              "\n",
              "    .dataframe thead th {\n",
              "        text-align: right;\n",
              "    }\n",
              "</style>\n",
              "<table border=\"1\" class=\"dataframe\">\n",
              "  <thead>\n",
              "    <tr style=\"text-align: right;\">\n",
              "      <th></th>\n",
              "      <th>Unnamed: 0</th>\n",
              "      <th>year</th>\n",
              "      <th>month</th>\n",
              "      <th>day</th>\n",
              "      <th>dep_time</th>\n",
              "      <th>sched_dep_time</th>\n",
              "      <th>dep_delay</th>\n",
              "      <th>arr_time</th>\n",
              "      <th>sched_arr_time</th>\n",
              "      <th>arr_delay</th>\n",
              "      <th>carrier</th>\n",
              "      <th>flight</th>\n",
              "      <th>tailnum</th>\n",
              "      <th>origin</th>\n",
              "      <th>dest</th>\n",
              "      <th>air_time</th>\n",
              "      <th>distance</th>\n",
              "      <th>hour</th>\n",
              "      <th>minute</th>\n",
              "      <th>time_hour</th>\n",
              "    </tr>\n",
              "  </thead>\n",
              "  <tbody>\n",
              "    <tr>\n",
              "      <th>0</th>\n",
              "      <td>1</td>\n",
              "      <td>2013</td>\n",
              "      <td>1</td>\n",
              "      <td>1</td>\n",
              "      <td>517.0</td>\n",
              "      <td>515</td>\n",
              "      <td>2.0</td>\n",
              "      <td>830.0</td>\n",
              "      <td>819</td>\n",
              "      <td>11.0</td>\n",
              "      <td>UA</td>\n",
              "      <td>1545</td>\n",
              "      <td>N14228</td>\n",
              "      <td>EWR</td>\n",
              "      <td>IAH</td>\n",
              "      <td>227.0</td>\n",
              "      <td>1400</td>\n",
              "      <td>5</td>\n",
              "      <td>15</td>\n",
              "      <td>2013-01-01 05:00:00</td>\n",
              "    </tr>\n",
              "    <tr>\n",
              "      <th>1</th>\n",
              "      <td>2</td>\n",
              "      <td>2013</td>\n",
              "      <td>1</td>\n",
              "      <td>1</td>\n",
              "      <td>533.0</td>\n",
              "      <td>529</td>\n",
              "      <td>4.0</td>\n",
              "      <td>850.0</td>\n",
              "      <td>830</td>\n",
              "      <td>20.0</td>\n",
              "      <td>UA</td>\n",
              "      <td>1714</td>\n",
              "      <td>N24211</td>\n",
              "      <td>LGA</td>\n",
              "      <td>IAH</td>\n",
              "      <td>227.0</td>\n",
              "      <td>1416</td>\n",
              "      <td>5</td>\n",
              "      <td>29</td>\n",
              "      <td>2013-01-01 05:00:00</td>\n",
              "    </tr>\n",
              "    <tr>\n",
              "      <th>2</th>\n",
              "      <td>3</td>\n",
              "      <td>2013</td>\n",
              "      <td>1</td>\n",
              "      <td>1</td>\n",
              "      <td>542.0</td>\n",
              "      <td>540</td>\n",
              "      <td>2.0</td>\n",
              "      <td>923.0</td>\n",
              "      <td>850</td>\n",
              "      <td>33.0</td>\n",
              "      <td>AA</td>\n",
              "      <td>1141</td>\n",
              "      <td>N619AA</td>\n",
              "      <td>JFK</td>\n",
              "      <td>MIA</td>\n",
              "      <td>160.0</td>\n",
              "      <td>1089</td>\n",
              "      <td>5</td>\n",
              "      <td>40</td>\n",
              "      <td>2013-01-01 05:00:00</td>\n",
              "    </tr>\n",
              "    <tr>\n",
              "      <th>3</th>\n",
              "      <td>4</td>\n",
              "      <td>2013</td>\n",
              "      <td>1</td>\n",
              "      <td>1</td>\n",
              "      <td>544.0</td>\n",
              "      <td>545</td>\n",
              "      <td>-1.0</td>\n",
              "      <td>1004.0</td>\n",
              "      <td>1022</td>\n",
              "      <td>-18.0</td>\n",
              "      <td>B6</td>\n",
              "      <td>725</td>\n",
              "      <td>N804JB</td>\n",
              "      <td>JFK</td>\n",
              "      <td>BQN</td>\n",
              "      <td>183.0</td>\n",
              "      <td>1576</td>\n",
              "      <td>5</td>\n",
              "      <td>45</td>\n",
              "      <td>2013-01-01 05:00:00</td>\n",
              "    </tr>\n",
              "    <tr>\n",
              "      <th>4</th>\n",
              "      <td>5</td>\n",
              "      <td>2013</td>\n",
              "      <td>1</td>\n",
              "      <td>1</td>\n",
              "      <td>554.0</td>\n",
              "      <td>600</td>\n",
              "      <td>-6.0</td>\n",
              "      <td>812.0</td>\n",
              "      <td>837</td>\n",
              "      <td>-25.0</td>\n",
              "      <td>DL</td>\n",
              "      <td>461</td>\n",
              "      <td>N668DN</td>\n",
              "      <td>LGA</td>\n",
              "      <td>ATL</td>\n",
              "      <td>116.0</td>\n",
              "      <td>762</td>\n",
              "      <td>6</td>\n",
              "      <td>0</td>\n",
              "      <td>2013-01-01 06:00:00</td>\n",
              "    </tr>\n",
              "  </tbody>\n",
              "</table>\n",
              "</div>\n",
              "    <div class=\"colab-df-buttons\">\n",
              "\n",
              "  <div class=\"colab-df-container\">\n",
              "    <button class=\"colab-df-convert\" onclick=\"convertToInteractive('df-46d22eb6-2053-4904-bd48-0c581dd4fcb9')\"\n",
              "            title=\"Convert this dataframe to an interactive table.\"\n",
              "            style=\"display:none;\">\n",
              "\n",
              "  <svg xmlns=\"http://www.w3.org/2000/svg\" height=\"24px\" viewBox=\"0 -960 960 960\">\n",
              "    <path d=\"M120-120v-720h720v720H120Zm60-500h600v-160H180v160Zm220 220h160v-160H400v160Zm0 220h160v-160H400v160ZM180-400h160v-160H180v160Zm440 0h160v-160H620v160ZM180-180h160v-160H180v160Zm440 0h160v-160H620v160Z\"/>\n",
              "  </svg>\n",
              "    </button>\n",
              "\n",
              "  <style>\n",
              "    .colab-df-container {\n",
              "      display:flex;\n",
              "      gap: 12px;\n",
              "    }\n",
              "\n",
              "    .colab-df-convert {\n",
              "      background-color: #E8F0FE;\n",
              "      border: none;\n",
              "      border-radius: 50%;\n",
              "      cursor: pointer;\n",
              "      display: none;\n",
              "      fill: #1967D2;\n",
              "      height: 32px;\n",
              "      padding: 0 0 0 0;\n",
              "      width: 32px;\n",
              "    }\n",
              "\n",
              "    .colab-df-convert:hover {\n",
              "      background-color: #E2EBFA;\n",
              "      box-shadow: 0px 1px 2px rgba(60, 64, 67, 0.3), 0px 1px 3px 1px rgba(60, 64, 67, 0.15);\n",
              "      fill: #174EA6;\n",
              "    }\n",
              "\n",
              "    .colab-df-buttons div {\n",
              "      margin-bottom: 4px;\n",
              "    }\n",
              "\n",
              "    [theme=dark] .colab-df-convert {\n",
              "      background-color: #3B4455;\n",
              "      fill: #D2E3FC;\n",
              "    }\n",
              "\n",
              "    [theme=dark] .colab-df-convert:hover {\n",
              "      background-color: #434B5C;\n",
              "      box-shadow: 0px 1px 3px 1px rgba(0, 0, 0, 0.15);\n",
              "      filter: drop-shadow(0px 1px 2px rgba(0, 0, 0, 0.3));\n",
              "      fill: #FFFFFF;\n",
              "    }\n",
              "  </style>\n",
              "\n",
              "    <script>\n",
              "      const buttonEl =\n",
              "        document.querySelector('#df-46d22eb6-2053-4904-bd48-0c581dd4fcb9 button.colab-df-convert');\n",
              "      buttonEl.style.display =\n",
              "        google.colab.kernel.accessAllowed ? 'block' : 'none';\n",
              "\n",
              "      async function convertToInteractive(key) {\n",
              "        const element = document.querySelector('#df-46d22eb6-2053-4904-bd48-0c581dd4fcb9');\n",
              "        const dataTable =\n",
              "          await google.colab.kernel.invokeFunction('convertToInteractive',\n",
              "                                                    [key], {});\n",
              "        if (!dataTable) return;\n",
              "\n",
              "        const docLinkHtml = 'Like what you see? Visit the ' +\n",
              "          '<a target=\"_blank\" href=https://colab.research.google.com/notebooks/data_table.ipynb>data table notebook</a>'\n",
              "          + ' to learn more about interactive tables.';\n",
              "        element.innerHTML = '';\n",
              "        dataTable['output_type'] = 'display_data';\n",
              "        await google.colab.output.renderOutput(dataTable, element);\n",
              "        const docLink = document.createElement('div');\n",
              "        docLink.innerHTML = docLinkHtml;\n",
              "        element.appendChild(docLink);\n",
              "      }\n",
              "    </script>\n",
              "  </div>\n",
              "\n",
              "\n",
              "<div id=\"df-5d53524f-4cea-4f2e-8e5a-d1a980a72418\">\n",
              "  <button class=\"colab-df-quickchart\" onclick=\"quickchart('df-5d53524f-4cea-4f2e-8e5a-d1a980a72418')\"\n",
              "            title=\"Suggest charts\"\n",
              "            style=\"display:none;\">\n",
              "\n",
              "<svg xmlns=\"http://www.w3.org/2000/svg\" height=\"24px\"viewBox=\"0 0 24 24\"\n",
              "     width=\"24px\">\n",
              "    <g>\n",
              "        <path d=\"M19 3H5c-1.1 0-2 .9-2 2v14c0 1.1.9 2 2 2h14c1.1 0 2-.9 2-2V5c0-1.1-.9-2-2-2zM9 17H7v-7h2v7zm4 0h-2V7h2v10zm4 0h-2v-4h2v4z\"/>\n",
              "    </g>\n",
              "</svg>\n",
              "  </button>\n",
              "\n",
              "<style>\n",
              "  .colab-df-quickchart {\n",
              "      --bg-color: #E8F0FE;\n",
              "      --fill-color: #1967D2;\n",
              "      --hover-bg-color: #E2EBFA;\n",
              "      --hover-fill-color: #174EA6;\n",
              "      --disabled-fill-color: #AAA;\n",
              "      --disabled-bg-color: #DDD;\n",
              "  }\n",
              "\n",
              "  [theme=dark] .colab-df-quickchart {\n",
              "      --bg-color: #3B4455;\n",
              "      --fill-color: #D2E3FC;\n",
              "      --hover-bg-color: #434B5C;\n",
              "      --hover-fill-color: #FFFFFF;\n",
              "      --disabled-bg-color: #3B4455;\n",
              "      --disabled-fill-color: #666;\n",
              "  }\n",
              "\n",
              "  .colab-df-quickchart {\n",
              "    background-color: var(--bg-color);\n",
              "    border: none;\n",
              "    border-radius: 50%;\n",
              "    cursor: pointer;\n",
              "    display: none;\n",
              "    fill: var(--fill-color);\n",
              "    height: 32px;\n",
              "    padding: 0;\n",
              "    width: 32px;\n",
              "  }\n",
              "\n",
              "  .colab-df-quickchart:hover {\n",
              "    background-color: var(--hover-bg-color);\n",
              "    box-shadow: 0 1px 2px rgba(60, 64, 67, 0.3), 0 1px 3px 1px rgba(60, 64, 67, 0.15);\n",
              "    fill: var(--button-hover-fill-color);\n",
              "  }\n",
              "\n",
              "  .colab-df-quickchart-complete:disabled,\n",
              "  .colab-df-quickchart-complete:disabled:hover {\n",
              "    background-color: var(--disabled-bg-color);\n",
              "    fill: var(--disabled-fill-color);\n",
              "    box-shadow: none;\n",
              "  }\n",
              "\n",
              "  .colab-df-spinner {\n",
              "    border: 2px solid var(--fill-color);\n",
              "    border-color: transparent;\n",
              "    border-bottom-color: var(--fill-color);\n",
              "    animation:\n",
              "      spin 1s steps(1) infinite;\n",
              "  }\n",
              "\n",
              "  @keyframes spin {\n",
              "    0% {\n",
              "      border-color: transparent;\n",
              "      border-bottom-color: var(--fill-color);\n",
              "      border-left-color: var(--fill-color);\n",
              "    }\n",
              "    20% {\n",
              "      border-color: transparent;\n",
              "      border-left-color: var(--fill-color);\n",
              "      border-top-color: var(--fill-color);\n",
              "    }\n",
              "    30% {\n",
              "      border-color: transparent;\n",
              "      border-left-color: var(--fill-color);\n",
              "      border-top-color: var(--fill-color);\n",
              "      border-right-color: var(--fill-color);\n",
              "    }\n",
              "    40% {\n",
              "      border-color: transparent;\n",
              "      border-right-color: var(--fill-color);\n",
              "      border-top-color: var(--fill-color);\n",
              "    }\n",
              "    60% {\n",
              "      border-color: transparent;\n",
              "      border-right-color: var(--fill-color);\n",
              "    }\n",
              "    80% {\n",
              "      border-color: transparent;\n",
              "      border-right-color: var(--fill-color);\n",
              "      border-bottom-color: var(--fill-color);\n",
              "    }\n",
              "    90% {\n",
              "      border-color: transparent;\n",
              "      border-bottom-color: var(--fill-color);\n",
              "    }\n",
              "  }\n",
              "</style>\n",
              "\n",
              "  <script>\n",
              "    async function quickchart(key) {\n",
              "      const quickchartButtonEl =\n",
              "        document.querySelector('#' + key + ' button');\n",
              "      quickchartButtonEl.disabled = true;  // To prevent multiple clicks.\n",
              "      quickchartButtonEl.classList.add('colab-df-spinner');\n",
              "      try {\n",
              "        const charts = await google.colab.kernel.invokeFunction(\n",
              "            'suggestCharts', [key], {});\n",
              "      } catch (error) {\n",
              "        console.error('Error during call to suggestCharts:', error);\n",
              "      }\n",
              "      quickchartButtonEl.classList.remove('colab-df-spinner');\n",
              "      quickchartButtonEl.classList.add('colab-df-quickchart-complete');\n",
              "    }\n",
              "    (() => {\n",
              "      let quickchartButtonEl =\n",
              "        document.querySelector('#df-5d53524f-4cea-4f2e-8e5a-d1a980a72418 button');\n",
              "      quickchartButtonEl.style.display =\n",
              "        google.colab.kernel.accessAllowed ? 'block' : 'none';\n",
              "    })();\n",
              "  </script>\n",
              "</div>\n",
              "    </div>\n",
              "  </div>\n"
            ]
          },
          "metadata": {},
          "execution_count": 12
        }
      ]
    },
    {
      "cell_type": "code",
      "source": [
        "!pip show pandas"
      ],
      "metadata": {
        "id": "Bc0afmUqgnab",
        "colab": {
          "base_uri": "https://localhost:8080/",
          "height": 0
        },
        "outputId": "ef02dd8f-b6f8-4cd7-d226-b5f38e885ff4"
      },
      "execution_count": 9,
      "outputs": [
        {
          "output_type": "stream",
          "name": "stdout",
          "text": [
            "Name: pandas\n",
            "Version: 1.5.3\n",
            "Summary: Powerful data structures for data analysis, time series, and statistics\n",
            "Home-page: https://pandas.pydata.org\n",
            "Author: The Pandas Development Team\n",
            "Author-email: pandas-dev@python.org\n",
            "License: BSD-3-Clause\n",
            "Location: /usr/local/lib/python3.10/dist-packages\n",
            "Requires: numpy, python-dateutil, pytz\n",
            "Required-by: altair, arviz, bigframes, bokeh, bqplot, cmdstanpy, cufflinks, datascience, db-dtypes, dopamine-rl, fastai, geemap, geopandas, google-colab, gspread-dataframe, holoviews, ibis-framework, lida, mizani, mlxtend, pandas-datareader, pandas-gbq, panel, pins, plotnine, prophet, pymc, seaborn, sklearn-pandas, statsmodels, vega-datasets, xarray, yfinance\n"
          ]
        }
      ]
    },
    {
      "cell_type": "code",
      "source": [
        "!ls /usr/local/lib/python3.9/dist-packages/"
      ],
      "metadata": {
        "id": "8P02xnqThio8",
        "colab": {
          "base_uri": "https://localhost:8080/",
          "height": 0
        },
        "outputId": "812d17a7-b661-4184-8761-1157eb83729e"
      },
      "execution_count": 10,
      "outputs": [
        {
          "output_type": "stream",
          "name": "stdout",
          "text": [
            "ls: cannot access '/usr/local/lib/python3.9/dist-packages/': No such file or directory\n"
          ]
        }
      ]
    },
    {
      "cell_type": "code",
      "source": [
        "!pip install scikit-surprise"
      ],
      "metadata": {
        "id": "A06f7HGbiEhh",
        "colab": {
          "base_uri": "https://localhost:8080/",
          "height": 0
        },
        "outputId": "df683464-5771-4b86-d54c-f03c8236ab3d"
      },
      "execution_count": 11,
      "outputs": [
        {
          "output_type": "stream",
          "name": "stdout",
          "text": [
            "Collecting scikit-surprise\n",
            "  Downloading scikit-surprise-1.1.3.tar.gz (771 kB)\n",
            "\u001b[2K     \u001b[90m━━━━━━━━━━━━━━━━━━━━━━━━━━━━━━━━━━━━━━━━\u001b[0m \u001b[32m772.0/772.0 kB\u001b[0m \u001b[31m4.3 MB/s\u001b[0m eta \u001b[36m0:00:00\u001b[0m\n",
            "\u001b[?25h  Preparing metadata (setup.py) ... \u001b[?25l\u001b[?25hdone\n",
            "Requirement already satisfied: joblib>=1.0.0 in /usr/local/lib/python3.10/dist-packages (from scikit-surprise) (1.3.2)\n",
            "Requirement already satisfied: numpy>=1.17.3 in /usr/local/lib/python3.10/dist-packages (from scikit-surprise) (1.23.5)\n",
            "Requirement already satisfied: scipy>=1.3.2 in /usr/local/lib/python3.10/dist-packages (from scikit-surprise) (1.11.4)\n",
            "Building wheels for collected packages: scikit-surprise\n",
            "  Building wheel for scikit-surprise (setup.py) ... \u001b[?25l\u001b[?25hdone\n",
            "  Created wheel for scikit-surprise: filename=scikit_surprise-1.1.3-cp310-cp310-linux_x86_64.whl size=3162682 sha256=158d8b1536cce64b4dd20c0876daabbe44cbe0c75897abfdce2dfe641e2213c3\n",
            "  Stored in directory: /root/.cache/pip/wheels/a5/ca/a8/4e28def53797fdc4363ca4af740db15a9c2f1595ebc51fb445\n",
            "Successfully built scikit-surprise\n",
            "Installing collected packages: scikit-surprise\n",
            "Successfully installed scikit-surprise-1.1.3\n"
          ]
        }
      ]
    },
    {
      "cell_type": "code",
      "source": [
        "%%writefile /content/drive/MyDrive/AIS_DG/lib/mymodule.py\n",
        "\n",
        "def MyFunction():\n",
        "  print ('My imported function')"
      ],
      "metadata": {
        "id": "BWP31NLjlhvE",
        "colab": {
          "base_uri": "https://localhost:8080/",
          "height": 0
        },
        "outputId": "ed12220d-4cbb-43a9-c8b8-bd97f599506f"
      },
      "execution_count": 13,
      "outputs": [
        {
          "output_type": "stream",
          "name": "stdout",
          "text": [
            "Overwriting /content/drive/MyDrive/AIS_DG/lib/mymodule.py\n"
          ]
        }
      ]
    },
    {
      "cell_type": "code",
      "source": [
        "!ls /content/drive/MyDrive/AIS_DG/lib"
      ],
      "metadata": {
        "id": "TP49eZj_lyW-",
        "colab": {
          "base_uri": "https://localhost:8080/",
          "height": 0
        },
        "outputId": "5f25f1c6-d4a3-42ab-fcf5-1ef2d06bbd32"
      },
      "execution_count": 14,
      "outputs": [
        {
          "output_type": "stream",
          "name": "stdout",
          "text": [
            "car.py\tmymodule1.py  mymodule.py  __pycache__\n"
          ]
        }
      ]
    },
    {
      "cell_type": "code",
      "source": [
        "import sys\n",
        "sys.path.append('/content/drive/MyDrive/AIS_DG/lib')"
      ],
      "metadata": {
        "id": "0uCVmCZSmDdY"
      },
      "execution_count": 15,
      "outputs": []
    },
    {
      "cell_type": "code",
      "source": [
        "import mymodule"
      ],
      "metadata": {
        "id": "fRGvUvQHEiSw"
      },
      "execution_count": 16,
      "outputs": []
    },
    {
      "cell_type": "code",
      "source": [
        "import mymodule\n",
        "mymodule.MyFunction()"
      ],
      "metadata": {
        "id": "uA86IgzmmXbd",
        "colab": {
          "base_uri": "https://localhost:8080/",
          "height": 0
        },
        "outputId": "5fb72987-6f84-4514-892a-d57a3ecdb7c5"
      },
      "execution_count": 17,
      "outputs": [
        {
          "output_type": "stream",
          "name": "stdout",
          "text": [
            "My imported function\n"
          ]
        }
      ]
    },
    {
      "cell_type": "markdown",
      "source": [
        "\n",
        "\n",
        "---"
      ],
      "metadata": {
        "id": "NnOg2Yz-fRBk"
      }
    },
    {
      "cell_type": "markdown",
      "source": [
        "## Basic syntax and data types"
      ],
      "metadata": {
        "id": "sp3nS9bAfZsg"
      }
    },
    {
      "cell_type": "markdown",
      "metadata": {
        "id": "2i_l6Dgj2AIW"
      },
      "source": [
        "## 1. Markdown\n",
        "Markdown is a lightweight markup language with simple formatting syntax. It can be used to annotate your notebook to explain or discuss the concepts/codes that you try to communicate.\n",
        "\n",
        "Markdown mode can be selected from the toolbar, or use keyboard shotcut \"M\" when the cell is selected.\n",
        "\n",
        "In this section, try run the markdown text below"
      ]
    },
    {
      "cell_type": "markdown",
      "metadata": {
        "id": "mJBsamck2AIX"
      },
      "source": [
        "# Hello World\n",
        "## Section\n",
        "### Sub-Section\n",
        "This is a normal text with <u>underline</u>.\n",
        "1. <b>First</b> line\n",
        "2. <i>Second</i> line\n",
        "```\n",
        "Python is fun\n",
        "```\n",
        "Test <font color='red'>***123***</font>"
      ]
    },
    {
      "cell_type": "markdown",
      "metadata": {
        "id": "lYhjxiUb2AIX"
      },
      "source": [
        "## 2. Code"
      ]
    },
    {
      "cell_type": "code",
      "execution_count": 18,
      "metadata": {
        "scrolled": true,
        "id": "tiiiwtJJ2AIY",
        "colab": {
          "base_uri": "https://localhost:8080/",
          "height": 0
        },
        "outputId": "aa130e81-c5df-49a8-8af5-446d9feac003"
      },
      "outputs": [
        {
          "output_type": "execute_result",
          "data": {
            "text/plain": [
              "2"
            ]
          },
          "metadata": {},
          "execution_count": 18
        }
      ],
      "source": [
        "1+1"
      ]
    },
    {
      "cell_type": "code",
      "execution_count": 19,
      "metadata": {
        "id": "AzKKVKhF2AIZ",
        "colab": {
          "base_uri": "https://localhost:8080/",
          "height": 36
        },
        "outputId": "37e47dd5-197d-45d3-8144-f0a631adcfb4"
      },
      "outputs": [
        {
          "output_type": "execute_result",
          "data": {
            "text/plain": [
              "'Hello World'"
            ],
            "application/vnd.google.colaboratory.intrinsic+json": {
              "type": "string"
            }
          },
          "metadata": {},
          "execution_count": 19
        }
      ],
      "source": [
        "\"Hello World\""
      ]
    },
    {
      "cell_type": "markdown",
      "metadata": {
        "id": "zbA_OwCa2AIZ"
      },
      "source": [
        "## 3. Assigning values to variable"
      ]
    },
    {
      "cell_type": "code",
      "execution_count": 20,
      "metadata": {
        "id": "E_8FN7rI2AIZ",
        "colab": {
          "base_uri": "https://localhost:8080/",
          "height": 0
        },
        "outputId": "8f88f302-8757-4eae-8394-d4df69d0b8fa"
      },
      "outputs": [
        {
          "output_type": "stream",
          "name": "stdout",
          "text": [
            "100\n",
            "1000.0\n",
            "John\n"
          ]
        }
      ],
      "source": [
        "counter = 100    # An integer assignment\n",
        "miles = 1000.0  # A floating point\n",
        "name = \"John\"   # A string\n",
        "\n",
        "print(counter)\n",
        "print(miles)\n",
        "print(name)"
      ]
    },
    {
      "cell_type": "code",
      "source": [
        "pprint = print"
      ],
      "metadata": {
        "id": "O5uaSerjGLBF"
      },
      "execution_count": 21,
      "outputs": []
    },
    {
      "cell_type": "code",
      "source": [
        "pprint(1,2,3)"
      ],
      "metadata": {
        "id": "1QeU_VK7GRLr",
        "colab": {
          "base_uri": "https://localhost:8080/",
          "height": 0
        },
        "outputId": "2da6d355-2c8a-4404-9238-78b821a9598b"
      },
      "execution_count": 22,
      "outputs": [
        {
          "output_type": "stream",
          "name": "stdout",
          "text": [
            "1 2 3\n"
          ]
        }
      ]
    },
    {
      "cell_type": "code",
      "execution_count": 23,
      "metadata": {
        "id": "FyXR08kt2AIa",
        "colab": {
          "base_uri": "https://localhost:8080/",
          "height": 0
        },
        "outputId": "d45fe246-3f21-4295-89d4-18e5fed110b0"
      },
      "outputs": [
        {
          "output_type": "stream",
          "name": "stdout",
          "text": [
            "1 1 1\n"
          ]
        }
      ],
      "source": [
        "a = b = c = 1\n",
        "print(a,b,c)"
      ]
    },
    {
      "cell_type": "code",
      "execution_count": 24,
      "metadata": {
        "id": "LYi0HSi62AIa",
        "colab": {
          "base_uri": "https://localhost:8080/",
          "height": 0
        },
        "outputId": "81ccf5f6-f0ca-4f33-bfbf-fca423ba8375"
      },
      "outputs": [
        {
          "output_type": "stream",
          "name": "stdout",
          "text": [
            "Formatted text: 1, 2, John\n"
          ]
        }
      ],
      "source": [
        "a, b, c = 1, 2, \"John\"\n",
        "print('Formatted text: %d, %d, %s'%(a,b,c))"
      ]
    },
    {
      "cell_type": "code",
      "source": [
        "1, 2"
      ],
      "metadata": {
        "id": "9OReSwY4GroS",
        "colab": {
          "base_uri": "https://localhost:8080/",
          "height": 0
        },
        "outputId": "180ebf80-7472-4150-a3f1-5c01e965435d"
      },
      "execution_count": 25,
      "outputs": [
        {
          "output_type": "execute_result",
          "data": {
            "text/plain": [
              "(1, 2)"
            ]
          },
          "metadata": {},
          "execution_count": 25
        }
      ]
    },
    {
      "cell_type": "code",
      "source": [
        "a = 1,2,3,4,5"
      ],
      "metadata": {
        "id": "3yTowPXEG3uH"
      },
      "execution_count": 26,
      "outputs": []
    },
    {
      "cell_type": "code",
      "source": [
        "a"
      ],
      "metadata": {
        "id": "mawgmPoTG6uC",
        "colab": {
          "base_uri": "https://localhost:8080/",
          "height": 0
        },
        "outputId": "d0af350e-c2a4-422d-d80e-b06f146c9139"
      },
      "execution_count": 27,
      "outputs": [
        {
          "output_type": "execute_result",
          "data": {
            "text/plain": [
              "(1, 2, 3, 4, 5)"
            ]
          },
          "metadata": {},
          "execution_count": 27
        }
      ]
    },
    {
      "cell_type": "code",
      "source": [
        "a, b = 1,2,3,4,5\n",
        "a"
      ],
      "metadata": {
        "id": "vukYLynMG8B-",
        "colab": {
          "base_uri": "https://localhost:8080/",
          "height": 195
        },
        "outputId": "88d75a9f-a983-4c78-f8cc-bdfe8519b618"
      },
      "execution_count": 28,
      "outputs": [
        {
          "output_type": "error",
          "ename": "ValueError",
          "evalue": "too many values to unpack (expected 2)",
          "traceback": [
            "\u001b[0;31m---------------------------------------------------------------------------\u001b[0m",
            "\u001b[0;31mValueError\u001b[0m                                Traceback (most recent call last)",
            "\u001b[0;32m<ipython-input-28-1a842d05aa60>\u001b[0m in \u001b[0;36m<cell line: 1>\u001b[0;34m()\u001b[0m\n\u001b[0;32m----> 1\u001b[0;31m \u001b[0ma\u001b[0m\u001b[0;34m,\u001b[0m \u001b[0mb\u001b[0m \u001b[0;34m=\u001b[0m \u001b[0;36m1\u001b[0m\u001b[0;34m,\u001b[0m\u001b[0;36m2\u001b[0m\u001b[0;34m,\u001b[0m\u001b[0;36m3\u001b[0m\u001b[0;34m,\u001b[0m\u001b[0;36m4\u001b[0m\u001b[0;34m,\u001b[0m\u001b[0;36m5\u001b[0m\u001b[0;34m\u001b[0m\u001b[0;34m\u001b[0m\u001b[0m\n\u001b[0m\u001b[1;32m      2\u001b[0m \u001b[0ma\u001b[0m\u001b[0;34m\u001b[0m\u001b[0;34m\u001b[0m\u001b[0m\n",
            "\u001b[0;31mValueError\u001b[0m: too many values to unpack (expected 2)"
          ]
        }
      ]
    },
    {
      "cell_type": "markdown",
      "metadata": {
        "id": "WBKwipyK2AIa"
      },
      "source": [
        "## 4. Variables in cells"
      ]
    },
    {
      "cell_type": "code",
      "source": [
        "del x"
      ],
      "metadata": {
        "id": "X46TK59qHWAo"
      },
      "execution_count": 33,
      "outputs": []
    },
    {
      "cell_type": "code",
      "execution_count": 29,
      "metadata": {
        "scrolled": true,
        "id": "QhzftGVx2AIa",
        "colab": {
          "base_uri": "https://localhost:8080/",
          "height": 0
        },
        "outputId": "ba0f6f85-b375-4070-838a-46f8e975a027"
      },
      "outputs": [
        {
          "output_type": "execute_result",
          "data": {
            "text/plain": [
              "1"
            ]
          },
          "metadata": {},
          "execution_count": 29
        }
      ],
      "source": [
        "x"
      ]
    },
    {
      "cell_type": "code",
      "execution_count": 30,
      "metadata": {
        "id": "TopfK3002AIa"
      },
      "outputs": [],
      "source": [
        "x = 1"
      ]
    },
    {
      "cell_type": "code",
      "execution_count": 31,
      "metadata": {
        "id": "291YPs7w2AIa",
        "colab": {
          "base_uri": "https://localhost:8080/",
          "height": 0
        },
        "outputId": "241f48c7-4db5-4efe-a88b-504388d5f8c8"
      },
      "outputs": [
        {
          "output_type": "execute_result",
          "data": {
            "text/plain": [
              "2"
            ]
          },
          "metadata": {},
          "execution_count": 31
        }
      ],
      "source": [
        "x + 1"
      ]
    },
    {
      "cell_type": "code",
      "execution_count": 32,
      "metadata": {
        "id": "kZ3BXc1L2AIb",
        "colab": {
          "base_uri": "https://localhost:8080/",
          "height": 0
        },
        "outputId": "d27ab801-e2c6-4137-a76c-7fb444a97e33"
      },
      "outputs": [
        {
          "output_type": "execute_result",
          "data": {
            "text/plain": [
              "1"
            ]
          },
          "metadata": {},
          "execution_count": 32
        }
      ],
      "source": [
        "x"
      ]
    },
    {
      "cell_type": "markdown",
      "metadata": {
        "id": "EjF9ljS42AIb"
      },
      "source": [
        "## 5. Error! Why?"
      ]
    },
    {
      "cell_type": "code",
      "execution_count": 34,
      "metadata": {
        "id": "B1Se64al2AIb"
      },
      "outputs": [],
      "source": [
        "x = (1,2,3)"
      ]
    },
    {
      "cell_type": "code",
      "execution_count": 35,
      "metadata": {
        "id": "0n7sLXEH2AIb",
        "colab": {
          "base_uri": "https://localhost:8080/",
          "height": 0
        },
        "outputId": "e0f38902-70fa-464c-b960-b2b45e38c2ba"
      },
      "outputs": [
        {
          "output_type": "execute_result",
          "data": {
            "text/plain": [
              "1"
            ]
          },
          "metadata": {},
          "execution_count": 35
        }
      ],
      "source": [
        "x[0]"
      ]
    },
    {
      "cell_type": "code",
      "execution_count": 36,
      "metadata": {
        "id": "xCdcrvP42AIb",
        "colab": {
          "base_uri": "https://localhost:8080/",
          "height": 177
        },
        "outputId": "69e38e38-8a2e-40e5-9c05-649650c0dca7"
      },
      "outputs": [
        {
          "output_type": "error",
          "ename": "TypeError",
          "evalue": "can only concatenate tuple (not \"int\") to tuple",
          "traceback": [
            "\u001b[0;31m---------------------------------------------------------------------------\u001b[0m",
            "\u001b[0;31mTypeError\u001b[0m                                 Traceback (most recent call last)",
            "\u001b[0;32m<ipython-input-36-eaf7b6991020>\u001b[0m in \u001b[0;36m<cell line: 1>\u001b[0;34m()\u001b[0m\n\u001b[0;32m----> 1\u001b[0;31m \u001b[0mx\u001b[0m \u001b[0;34m+\u001b[0m \u001b[0;36m1\u001b[0m\u001b[0;34m\u001b[0m\u001b[0;34m\u001b[0m\u001b[0m\n\u001b[0m",
            "\u001b[0;31mTypeError\u001b[0m: can only concatenate tuple (not \"int\") to tuple"
          ]
        }
      ],
      "source": [
        "x + 1"
      ]
    },
    {
      "cell_type": "markdown",
      "metadata": {
        "id": "8QVuNfhs2AIb"
      },
      "source": [
        "## 6. Comments"
      ]
    },
    {
      "cell_type": "markdown",
      "metadata": {
        "id": "J464PBhm2AIb"
      },
      "source": [
        "A better way to explain"
      ]
    },
    {
      "cell_type": "code",
      "execution_count": 37,
      "metadata": {
        "id": "ApwRCLPS2AIc",
        "colab": {
          "base_uri": "https://localhost:8080/",
          "height": 0
        },
        "outputId": "a5b96a16-6b69-4132-b524-8882d688fb2e"
      },
      "outputs": [
        {
          "output_type": "stream",
          "name": "stdout",
          "text": [
            "Hello World! # This is not a comment\n"
          ]
        }
      ],
      "source": [
        "# This is a comment\n",
        "x = 1 # This is a second comment\n",
        "text = \"Hello World! # This is not a comment\"\n",
        "print(text)"
      ]
    },
    {
      "cell_type": "markdown",
      "metadata": {
        "id": "bugdJVhb2AIc"
      },
      "source": [
        "## Challenge: multiple assignment\n",
        "Perform multiple assignment of a, b, and c to 'Hello', 0, 'World!', respectively. Replace in the code blank ___ with the actual code to complete the code."
      ]
    },
    {
      "cell_type": "code",
      "execution_count": 39,
      "metadata": {
        "id": "H0VIh3YI2AIc",
        "colab": {
          "base_uri": "https://localhost:8080/",
          "height": 0
        },
        "outputId": "4166bc99-3381-4c9a-8f0a-b6ac400fe4f1"
      },
      "outputs": [
        {
          "output_type": "execute_result",
          "data": {
            "text/plain": [
              "('Hello', 0, 'World!')"
            ]
          },
          "metadata": {},
          "execution_count": 39
        }
      ],
      "source": [
        "a, b, c = 'Hello',0,'World!' # work here\n",
        "a, b, c"
      ]
    },
    {
      "cell_type": "markdown",
      "metadata": {
        "id": "vaM7JtS82AIc"
      },
      "source": [
        "## 7. Number"
      ]
    },
    {
      "cell_type": "code",
      "execution_count": 40,
      "metadata": {
        "id": "-T2e0_fm2AIc"
      },
      "outputs": [],
      "source": [
        "x = 1.1\n",
        "y = 10"
      ]
    },
    {
      "cell_type": "code",
      "execution_count": 41,
      "metadata": {
        "id": "XGwHy3Qj2AIc",
        "colab": {
          "base_uri": "https://localhost:8080/",
          "height": 0
        },
        "outputId": "16dae4a8-75ca-4a66-f588-7dc8ad3b8ec9"
      },
      "outputs": [
        {
          "output_type": "execute_result",
          "data": {
            "text/plain": [
              "int"
            ]
          },
          "metadata": {},
          "execution_count": 41
        }
      ],
      "source": [
        "type(y)"
      ]
    },
    {
      "cell_type": "code",
      "execution_count": 42,
      "metadata": {
        "id": "5ZfVIJpO2AIc",
        "colab": {
          "base_uri": "https://localhost:8080/",
          "height": 0
        },
        "outputId": "5b69c3d9-30dc-4e15-ce94-86099f565233"
      },
      "outputs": [
        {
          "output_type": "execute_result",
          "data": {
            "text/plain": [
              "['In',\n",
              " 'Out',\n",
              " '_',\n",
              " '_12',\n",
              " '_18',\n",
              " '_19',\n",
              " '_2',\n",
              " '_25',\n",
              " '_27',\n",
              " '_29',\n",
              " '_31',\n",
              " '_32',\n",
              " '_35',\n",
              " '_39',\n",
              " '_41',\n",
              " '__',\n",
              " '___',\n",
              " '__builtin__',\n",
              " '__builtins__',\n",
              " '__doc__',\n",
              " '__loader__',\n",
              " '__name__',\n",
              " '__package__',\n",
              " '__spec__',\n",
              " '_dh',\n",
              " '_exit_code',\n",
              " '_i',\n",
              " '_i1',\n",
              " '_i10',\n",
              " '_i11',\n",
              " '_i12',\n",
              " '_i13',\n",
              " '_i14',\n",
              " '_i15',\n",
              " '_i16',\n",
              " '_i17',\n",
              " '_i18',\n",
              " '_i19',\n",
              " '_i2',\n",
              " '_i20',\n",
              " '_i21',\n",
              " '_i22',\n",
              " '_i23',\n",
              " '_i24',\n",
              " '_i25',\n",
              " '_i26',\n",
              " '_i27',\n",
              " '_i28',\n",
              " '_i29',\n",
              " '_i3',\n",
              " '_i30',\n",
              " '_i31',\n",
              " '_i32',\n",
              " '_i33',\n",
              " '_i34',\n",
              " '_i35',\n",
              " '_i36',\n",
              " '_i37',\n",
              " '_i38',\n",
              " '_i39',\n",
              " '_i4',\n",
              " '_i40',\n",
              " '_i41',\n",
              " '_i42',\n",
              " '_i5',\n",
              " '_i6',\n",
              " '_i7',\n",
              " '_i8',\n",
              " '_i9',\n",
              " '_ih',\n",
              " '_ii',\n",
              " '_iii',\n",
              " '_oh',\n",
              " 'a',\n",
              " 'b',\n",
              " 'c',\n",
              " 'counter',\n",
              " 'df',\n",
              " 'drive',\n",
              " 'exit',\n",
              " 'f',\n",
              " 'get_ipython',\n",
              " 'miles',\n",
              " 'mymodule',\n",
              " 'name',\n",
              " 'pd',\n",
              " 'pprint',\n",
              " 'quit',\n",
              " 'sys',\n",
              " 'text',\n",
              " 'x',\n",
              " 'y']"
            ]
          },
          "metadata": {},
          "execution_count": 42
        }
      ],
      "source": [
        "dir()"
      ]
    },
    {
      "cell_type": "code",
      "execution_count": 43,
      "metadata": {
        "id": "LiSHc7X22AId"
      },
      "outputs": [],
      "source": [
        "del a"
      ]
    },
    {
      "cell_type": "code",
      "execution_count": 44,
      "metadata": {
        "id": "Qr0J4Bt92AId",
        "colab": {
          "base_uri": "https://localhost:8080/",
          "height": 0
        },
        "outputId": "8d06a31c-46f0-4b13-d542-3a4ec4a44ba9"
      },
      "outputs": [
        {
          "output_type": "execute_result",
          "data": {
            "text/plain": [
              "['In',\n",
              " 'Out',\n",
              " '_',\n",
              " '_12',\n",
              " '_18',\n",
              " '_19',\n",
              " '_2',\n",
              " '_25',\n",
              " '_27',\n",
              " '_29',\n",
              " '_31',\n",
              " '_32',\n",
              " '_35',\n",
              " '_39',\n",
              " '_41',\n",
              " '_42',\n",
              " '__',\n",
              " '___',\n",
              " '__builtin__',\n",
              " '__builtins__',\n",
              " '__doc__',\n",
              " '__loader__',\n",
              " '__name__',\n",
              " '__package__',\n",
              " '__spec__',\n",
              " '_dh',\n",
              " '_exit_code',\n",
              " '_i',\n",
              " '_i1',\n",
              " '_i10',\n",
              " '_i11',\n",
              " '_i12',\n",
              " '_i13',\n",
              " '_i14',\n",
              " '_i15',\n",
              " '_i16',\n",
              " '_i17',\n",
              " '_i18',\n",
              " '_i19',\n",
              " '_i2',\n",
              " '_i20',\n",
              " '_i21',\n",
              " '_i22',\n",
              " '_i23',\n",
              " '_i24',\n",
              " '_i25',\n",
              " '_i26',\n",
              " '_i27',\n",
              " '_i28',\n",
              " '_i29',\n",
              " '_i3',\n",
              " '_i30',\n",
              " '_i31',\n",
              " '_i32',\n",
              " '_i33',\n",
              " '_i34',\n",
              " '_i35',\n",
              " '_i36',\n",
              " '_i37',\n",
              " '_i38',\n",
              " '_i39',\n",
              " '_i4',\n",
              " '_i40',\n",
              " '_i41',\n",
              " '_i42',\n",
              " '_i43',\n",
              " '_i44',\n",
              " '_i5',\n",
              " '_i6',\n",
              " '_i7',\n",
              " '_i8',\n",
              " '_i9',\n",
              " '_ih',\n",
              " '_ii',\n",
              " '_iii',\n",
              " '_oh',\n",
              " 'b',\n",
              " 'c',\n",
              " 'counter',\n",
              " 'df',\n",
              " 'drive',\n",
              " 'exit',\n",
              " 'f',\n",
              " 'get_ipython',\n",
              " 'miles',\n",
              " 'mymodule',\n",
              " 'name',\n",
              " 'pd',\n",
              " 'pprint',\n",
              " 'quit',\n",
              " 'sys',\n",
              " 'text',\n",
              " 'x',\n",
              " 'y']"
            ]
          },
          "metadata": {},
          "execution_count": 44
        }
      ],
      "source": [
        "dir()"
      ]
    },
    {
      "cell_type": "code",
      "execution_count": 46,
      "metadata": {
        "id": "zGBNB4eO2AId",
        "colab": {
          "base_uri": "https://localhost:8080/",
          "height": 177
        },
        "outputId": "41182844-4d65-40b1-ddcb-ce0db53bab76"
      },
      "outputs": [
        {
          "output_type": "error",
          "ename": "NameError",
          "evalue": "name 'a' is not defined",
          "traceback": [
            "\u001b[0;31m---------------------------------------------------------------------------\u001b[0m",
            "\u001b[0;31mNameError\u001b[0m                                 Traceback (most recent call last)",
            "\u001b[0;32m<ipython-input-46-3f786850e387>\u001b[0m in \u001b[0;36m<cell line: 1>\u001b[0;34m()\u001b[0m\n\u001b[0;32m----> 1\u001b[0;31m \u001b[0ma\u001b[0m\u001b[0;34m\u001b[0m\u001b[0;34m\u001b[0m\u001b[0m\n\u001b[0m",
            "\u001b[0;31mNameError\u001b[0m: name 'a' is not defined"
          ]
        }
      ],
      "source": [
        "a"
      ]
    },
    {
      "cell_type": "code",
      "execution_count": 47,
      "metadata": {
        "id": "r5vo9hVe2AId"
      },
      "outputs": [],
      "source": [
        "del b,c"
      ]
    },
    {
      "cell_type": "markdown",
      "metadata": {
        "id": "MwS3Gnq22AId"
      },
      "source": [
        "## Challenge: delete c\n",
        "Delete the variable c."
      ]
    },
    {
      "cell_type": "code",
      "execution_count": 90,
      "metadata": {
        "id": "lbQEAgME2AId"
      },
      "outputs": [],
      "source": [
        "c = 5\n",
        "del c"
      ]
    },
    {
      "cell_type": "code",
      "source": [
        "c"
      ],
      "metadata": {
        "colab": {
          "base_uri": "https://localhost:8080/",
          "height": 177
        },
        "id": "gA2n2KXiJ4pO",
        "outputId": "95763a74-3f42-4868-f741-90762afcdb35"
      },
      "execution_count": 91,
      "outputs": [
        {
          "output_type": "error",
          "ename": "NameError",
          "evalue": "name 'c' is not defined",
          "traceback": [
            "\u001b[0;31m---------------------------------------------------------------------------\u001b[0m",
            "\u001b[0;31mNameError\u001b[0m                                 Traceback (most recent call last)",
            "\u001b[0;32m<ipython-input-91-2b66fd261ee5>\u001b[0m in \u001b[0;36m<cell line: 1>\u001b[0;34m()\u001b[0m\n\u001b[0;32m----> 1\u001b[0;31m \u001b[0mc\u001b[0m\u001b[0;34m\u001b[0m\u001b[0;34m\u001b[0m\u001b[0m\n\u001b[0m",
            "\u001b[0;31mNameError\u001b[0m: name 'c' is not defined"
          ]
        }
      ]
    },
    {
      "cell_type": "code",
      "execution_count": 53,
      "metadata": {
        "id": "jJHF8QH92AId"
      },
      "outputs": [],
      "source": [
        "x = 1"
      ]
    },
    {
      "cell_type": "code",
      "execution_count": 54,
      "metadata": {
        "id": "14iz1uvR2AId",
        "colab": {
          "base_uri": "https://localhost:8080/",
          "height": 0
        },
        "outputId": "eae85c3b-0ad6-4614-9c25-cec9abc54efb"
      },
      "outputs": [
        {
          "output_type": "execute_result",
          "data": {
            "text/plain": [
              "int"
            ]
          },
          "metadata": {},
          "execution_count": 54
        }
      ],
      "source": [
        "type(x)"
      ]
    },
    {
      "cell_type": "code",
      "execution_count": 55,
      "metadata": {
        "id": "C4q2Eztq2AIe"
      },
      "outputs": [],
      "source": [
        "y = 0.0"
      ]
    },
    {
      "cell_type": "code",
      "execution_count": 56,
      "metadata": {
        "id": "k8ghXYg92AIe",
        "colab": {
          "base_uri": "https://localhost:8080/",
          "height": 0
        },
        "outputId": "ade7382e-c82f-4c66-d84e-da65c7c7f320"
      },
      "outputs": [
        {
          "output_type": "execute_result",
          "data": {
            "text/plain": [
              "float"
            ]
          },
          "metadata": {},
          "execution_count": 56
        }
      ],
      "source": [
        "type(y)"
      ]
    },
    {
      "cell_type": "code",
      "source": [
        "type(1+2j)"
      ],
      "metadata": {
        "id": "wHpEcjGNMetv",
        "colab": {
          "base_uri": "https://localhost:8080/",
          "height": 0
        },
        "outputId": "7ec4afbe-8fda-4cfa-e984-b02ee489e41f"
      },
      "execution_count": 57,
      "outputs": [
        {
          "output_type": "execute_result",
          "data": {
            "text/plain": [
              "complex"
            ]
          },
          "metadata": {},
          "execution_count": 57
        }
      ]
    },
    {
      "cell_type": "code",
      "source": [
        "2+2"
      ],
      "metadata": {
        "id": "8ir7LzRuMzH5",
        "colab": {
          "base_uri": "https://localhost:8080/",
          "height": 0
        },
        "outputId": "ec99d9b4-0d8b-44e8-ab93-dd747e2432a8"
      },
      "execution_count": 58,
      "outputs": [
        {
          "output_type": "execute_result",
          "data": {
            "text/plain": [
              "4"
            ]
          },
          "metadata": {},
          "execution_count": 58
        }
      ]
    },
    {
      "cell_type": "code",
      "source": [
        "2/2"
      ],
      "metadata": {
        "id": "nLDQie7lM1a3",
        "colab": {
          "base_uri": "https://localhost:8080/",
          "height": 0
        },
        "outputId": "f11fb3cc-e03f-4b86-e201-974de814a245"
      },
      "execution_count": 59,
      "outputs": [
        {
          "output_type": "execute_result",
          "data": {
            "text/plain": [
              "1.0"
            ]
          },
          "metadata": {},
          "execution_count": 59
        }
      ]
    },
    {
      "cell_type": "code",
      "source": [
        "5 % 2"
      ],
      "metadata": {
        "id": "vVVWey-dM3OK",
        "colab": {
          "base_uri": "https://localhost:8080/",
          "height": 0
        },
        "outputId": "83de1ca3-1488-4685-e7ef-0f815ebbe5e3"
      },
      "execution_count": 60,
      "outputs": [
        {
          "output_type": "execute_result",
          "data": {
            "text/plain": [
              "1"
            ]
          },
          "metadata": {},
          "execution_count": 60
        }
      ]
    },
    {
      "cell_type": "code",
      "source": [
        "2**3"
      ],
      "metadata": {
        "id": "7okbVP1XM6Fp",
        "colab": {
          "base_uri": "https://localhost:8080/",
          "height": 0
        },
        "outputId": "cc7c19f6-9af2-4360-b0b8-7159555342fc"
      },
      "execution_count": 61,
      "outputs": [
        {
          "output_type": "execute_result",
          "data": {
            "text/plain": [
              "8"
            ]
          },
          "metadata": {},
          "execution_count": 61
        }
      ]
    },
    {
      "cell_type": "markdown",
      "metadata": {
        "id": "IO9PK3jp2AIe"
      },
      "source": [
        "## 8. String subsetting"
      ]
    },
    {
      "cell_type": "code",
      "execution_count": 62,
      "metadata": {
        "id": "z8soVuep2AIe",
        "colab": {
          "base_uri": "https://localhost:8080/",
          "height": 0
        },
        "outputId": "4cf88bbe-9b6e-4861-8970-73402066f946"
      },
      "outputs": [
        {
          "output_type": "stream",
          "name": "stdout",
          "text": [
            "Hello World!\n"
          ]
        }
      ],
      "source": [
        "s = 'Hello World!'\n",
        "print(s)"
      ]
    },
    {
      "cell_type": "code",
      "execution_count": 63,
      "metadata": {
        "id": "p9e1KtYe2AIe",
        "colab": {
          "base_uri": "https://localhost:8080/",
          "height": 0
        },
        "outputId": "25792ebf-6cab-48f2-9897-bee51d73ac39"
      },
      "outputs": [
        {
          "output_type": "stream",
          "name": "stdout",
          "text": [
            "H\n"
          ]
        }
      ],
      "source": [
        "print(s[0])       # Prints first character of the string"
      ]
    },
    {
      "cell_type": "code",
      "execution_count": 64,
      "metadata": {
        "id": "qhhNGnBR2AIe",
        "colab": {
          "base_uri": "https://localhost:8080/",
          "height": 0
        },
        "outputId": "6fd25550-76d5-4126-98b4-858e630ea2b6"
      },
      "outputs": [
        {
          "output_type": "stream",
          "name": "stdout",
          "text": [
            "llo\n"
          ]
        }
      ],
      "source": [
        "print(s[2:5])     # Prints characters starting index 2, not more than 5"
      ]
    },
    {
      "cell_type": "code",
      "execution_count": 65,
      "metadata": {
        "id": "KoAW9HaJ2AIe",
        "colab": {
          "base_uri": "https://localhost:8080/",
          "height": 0
        },
        "outputId": "bc004ce0-cba0-49e8-9e6b-777d17e995aa"
      },
      "outputs": [
        {
          "output_type": "stream",
          "name": "stdout",
          "text": [
            "llo World!\n"
          ]
        }
      ],
      "source": [
        "print(s[2:])      # Prints string starting from 3rd character"
      ]
    },
    {
      "cell_type": "code",
      "execution_count": 66,
      "metadata": {
        "id": "XuNxcT4D2AIe",
        "colab": {
          "base_uri": "https://localhost:8080/",
          "height": 0
        },
        "outputId": "7b30d9dc-1469-4ea4-dae4-b78e735aeb24"
      },
      "outputs": [
        {
          "output_type": "stream",
          "name": "stdout",
          "text": [
            "d!\n"
          ]
        }
      ],
      "source": [
        "print(s[-2:])"
      ]
    },
    {
      "cell_type": "code",
      "execution_count": 67,
      "metadata": {
        "id": "3te-Uey82AIe",
        "colab": {
          "base_uri": "https://localhost:8080/",
          "height": 0
        },
        "outputId": "4dba9819-3000-4749-9d09-ec3c29364e8c"
      },
      "outputs": [
        {
          "output_type": "stream",
          "name": "stdout",
          "text": [
            "Hello World!Hello World!\n"
          ]
        }
      ],
      "source": [
        "print(s * 2)      # Prints string two times"
      ]
    },
    {
      "cell_type": "code",
      "execution_count": 68,
      "metadata": {
        "id": "zjrd_AhZ2AIf",
        "colab": {
          "base_uri": "https://localhost:8080/",
          "height": 0
        },
        "outputId": "f5c542ca-1083-4535-fd80-6c3a5c147e55"
      },
      "outputs": [
        {
          "output_type": "stream",
          "name": "stdout",
          "text": [
            "Hello World!TEST\n"
          ]
        }
      ],
      "source": [
        "print(s + \"TEST\") # Prints concatenated string"
      ]
    },
    {
      "cell_type": "markdown",
      "metadata": {
        "id": "nQmJX09h2AIf"
      },
      "source": [
        "## Challenge: subset the string\n",
        "Print the string \"I love Python\" by subsetting str1, str2 and str3."
      ]
    },
    {
      "cell_type": "code",
      "execution_count": 69,
      "metadata": {
        "id": "9Jn7G_Vq2AIf",
        "colab": {
          "base_uri": "https://localhost:8080/",
          "height": 0
        },
        "outputId": "6b9b1ef0-b61e-4fc8-d541-c800ada2cd42"
      },
      "outputs": [
        {
          "output_type": "stream",
          "name": "stdout",
          "text": [
            "I love Python\n"
          ]
        }
      ],
      "source": [
        "str1 = \"Python Programming\"\n",
        "str2 = \"You and I\"\n",
        "str3 = \"What love is\"\n",
        "str_res = str2[-1]+ str3[4:10] + str1[:6]# work here\n",
        "print(str_res)"
      ]
    },
    {
      "cell_type": "code",
      "source": [
        "brand = 'Honda'\n",
        "model = 'Accord'\n",
        "year = '2018'\n",
        "f'Car: {brand} {model} {year}'"
      ],
      "metadata": {
        "id": "m09MngsrPJow",
        "colab": {
          "base_uri": "https://localhost:8080/",
          "height": 36
        },
        "outputId": "3af5734f-55cd-4ee7-e368-e64274685f39"
      },
      "execution_count": 70,
      "outputs": [
        {
          "output_type": "execute_result",
          "data": {
            "text/plain": [
              "'Car: Honda Accord 2018'"
            ],
            "application/vnd.google.colaboratory.intrinsic+json": {
              "type": "string"
            }
          },
          "metadata": {},
          "execution_count": 70
        }
      ]
    },
    {
      "cell_type": "markdown",
      "metadata": {
        "id": "kVmqB0Za2AIf"
      },
      "source": [
        "## 9. List subsetting"
      ]
    },
    {
      "cell_type": "code",
      "execution_count": 71,
      "metadata": {
        "id": "U6eqTpF92AIf",
        "colab": {
          "base_uri": "https://localhost:8080/",
          "height": 0
        },
        "outputId": "6b4f3ee8-e632-4933-9766-d3edb9a79645"
      },
      "outputs": [
        {
          "output_type": "stream",
          "name": "stdout",
          "text": [
            "['abcd', 786, 2.23, 'john', 70.2]\n"
          ]
        }
      ],
      "source": [
        "longlist = [ 'abcd', 786 , 2.23, 'john', 70.2 ]\n",
        "tinylist = [123, 'john']\n",
        "\n",
        "print(longlist)             # Prints complete list"
      ]
    },
    {
      "cell_type": "code",
      "execution_count": 72,
      "metadata": {
        "id": "MTvYWc8r2AIf",
        "colab": {
          "base_uri": "https://localhost:8080/",
          "height": 0
        },
        "outputId": "9b8d0a0d-61f8-4d75-e582-1026a313139e"
      },
      "outputs": [
        {
          "output_type": "stream",
          "name": "stdout",
          "text": [
            "abcd\n"
          ]
        }
      ],
      "source": [
        "print(longlist[0])          # Prints first element of the list"
      ]
    },
    {
      "cell_type": "code",
      "execution_count": 73,
      "metadata": {
        "id": "eljxhnt52AIf",
        "colab": {
          "base_uri": "https://localhost:8080/",
          "height": 0
        },
        "outputId": "3043b1d2-9962-4cf5-e12f-5b46de6e5d4f"
      },
      "outputs": [
        {
          "output_type": "stream",
          "name": "stdout",
          "text": [
            "[786, 2.23]\n"
          ]
        }
      ],
      "source": [
        "print(longlist[1:3])        # Prints elements starting from 2nd till 3rd"
      ]
    },
    {
      "cell_type": "code",
      "execution_count": 74,
      "metadata": {
        "id": "xRZKAlmg2AIg",
        "colab": {
          "base_uri": "https://localhost:8080/",
          "height": 0
        },
        "outputId": "abd319fe-7937-4853-a68e-cc4e37a14086"
      },
      "outputs": [
        {
          "output_type": "stream",
          "name": "stdout",
          "text": [
            "[2.23, 'john', 70.2]\n"
          ]
        }
      ],
      "source": [
        "print(longlist[2:])         # Prints elements starting from 3rd element"
      ]
    },
    {
      "cell_type": "code",
      "execution_count": 75,
      "metadata": {
        "id": "ZwBxz_D52AIg",
        "colab": {
          "base_uri": "https://localhost:8080/",
          "height": 0
        },
        "outputId": "8da6b7b5-09fb-49e5-aa93-66ccd657c9fd"
      },
      "outputs": [
        {
          "output_type": "execute_result",
          "data": {
            "text/plain": [
              "70.2"
            ]
          },
          "metadata": {},
          "execution_count": 75
        }
      ],
      "source": [
        "longlist[-1]"
      ]
    },
    {
      "cell_type": "code",
      "execution_count": 76,
      "metadata": {
        "id": "_IuYYVwx2AIg",
        "colab": {
          "base_uri": "https://localhost:8080/",
          "height": 0
        },
        "outputId": "66a0af14-9d75-4ed7-ea26-567444a508e2"
      },
      "outputs": [
        {
          "output_type": "stream",
          "name": "stdout",
          "text": [
            "[123, 'john', 123, 'john']\n"
          ]
        }
      ],
      "source": [
        "print(tinylist * 2)     # Prints list two times"
      ]
    },
    {
      "cell_type": "code",
      "execution_count": 77,
      "metadata": {
        "id": "UzUN3Atg2AIg",
        "colab": {
          "base_uri": "https://localhost:8080/",
          "height": 0
        },
        "outputId": "c6ca6f2e-4d6c-4c6c-9786-97016fe7b910"
      },
      "outputs": [
        {
          "output_type": "stream",
          "name": "stdout",
          "text": [
            "['abcd', 786, 2.23, 'john', 70.2, 123, 'john']\n"
          ]
        }
      ],
      "source": [
        "print(longlist + tinylist)  # Prints concatenated lists"
      ]
    },
    {
      "cell_type": "code",
      "execution_count": 78,
      "metadata": {
        "id": "noHrGQq02AIg",
        "colab": {
          "base_uri": "https://localhost:8080/",
          "height": 0
        },
        "outputId": "0c96f8de-406a-4a77-9fa7-79072a94fa76"
      },
      "outputs": [
        {
          "output_type": "execute_result",
          "data": {
            "text/plain": [
              "[[1, 2], [3, 4]]"
            ]
          },
          "metadata": {},
          "execution_count": 78
        }
      ],
      "source": [
        "A = [[1,2],[3,4]]\n",
        "A"
      ]
    },
    {
      "cell_type": "code",
      "source": [
        "[0, [1, 2, 3, [4, 5]]]"
      ],
      "metadata": {
        "id": "8fJHXIVcQwZz",
        "colab": {
          "base_uri": "https://localhost:8080/",
          "height": 0
        },
        "outputId": "aa20c09c-1ee3-43ae-b289-d21b69b13908"
      },
      "execution_count": 79,
      "outputs": [
        {
          "output_type": "execute_result",
          "data": {
            "text/plain": [
              "[0, [1, 2, 3, [4, 5]]]"
            ]
          },
          "metadata": {},
          "execution_count": 79
        }
      ]
    },
    {
      "cell_type": "code",
      "execution_count": 80,
      "metadata": {
        "id": "Rq_Gn8d32AIh",
        "colab": {
          "base_uri": "https://localhost:8080/",
          "height": 0
        },
        "outputId": "837c66ee-fa78-4386-b1d7-737a9eee245b"
      },
      "outputs": [
        {
          "output_type": "execute_result",
          "data": {
            "text/plain": [
              "[[1, 2], [3, 4], 5]"
            ]
          },
          "metadata": {},
          "execution_count": 80
        }
      ],
      "source": [
        "A + [5]"
      ]
    },
    {
      "cell_type": "code",
      "execution_count": 81,
      "metadata": {
        "id": "vovC0wz02AIh"
      },
      "outputs": [],
      "source": [
        "B = []"
      ]
    },
    {
      "cell_type": "code",
      "source": [
        "B"
      ],
      "metadata": {
        "id": "4cav3ElEQ7EC",
        "colab": {
          "base_uri": "https://localhost:8080/",
          "height": 0
        },
        "outputId": "8d8289e7-4b4d-4f54-abb3-378902ae7b7b"
      },
      "execution_count": 82,
      "outputs": [
        {
          "output_type": "execute_result",
          "data": {
            "text/plain": [
              "[]"
            ]
          },
          "metadata": {},
          "execution_count": 82
        }
      ]
    },
    {
      "cell_type": "code",
      "execution_count": 83,
      "metadata": {
        "id": "c8AVVaXV2AIh"
      },
      "outputs": [],
      "source": [
        "x = list()"
      ]
    },
    {
      "cell_type": "code",
      "execution_count": 84,
      "metadata": {
        "id": "htTSK-Qu2AIh"
      },
      "outputs": [],
      "source": [
        "x.append([1])"
      ]
    },
    {
      "cell_type": "code",
      "execution_count": 85,
      "metadata": {
        "id": "HUzm5SUM2AIh",
        "colab": {
          "base_uri": "https://localhost:8080/",
          "height": 0
        },
        "outputId": "cf3a6088-4f55-4d7d-9892-f1d35d0f6d4e"
      },
      "outputs": [
        {
          "output_type": "execute_result",
          "data": {
            "text/plain": [
              "[[1]]"
            ]
          },
          "metadata": {},
          "execution_count": 85
        }
      ],
      "source": [
        "x"
      ]
    },
    {
      "cell_type": "code",
      "execution_count": 86,
      "metadata": {
        "id": "hbTOvrWC2AIi"
      },
      "outputs": [],
      "source": [
        "# x = x + [2]\n",
        "x += [2]"
      ]
    },
    {
      "cell_type": "code",
      "source": [],
      "metadata": {
        "id": "Kf6BEktbRczh"
      },
      "execution_count": 86,
      "outputs": []
    },
    {
      "cell_type": "code",
      "execution_count": 87,
      "metadata": {
        "id": "H0GAdStV2AIi",
        "colab": {
          "base_uri": "https://localhost:8080/",
          "height": 0
        },
        "outputId": "0052d2f6-53ee-4d09-a5e6-8295ab1fdcc7"
      },
      "outputs": [
        {
          "output_type": "execute_result",
          "data": {
            "text/plain": [
              "1"
            ]
          },
          "metadata": {},
          "execution_count": 87
        }
      ],
      "source": [
        "x.count(2)"
      ]
    },
    {
      "cell_type": "markdown",
      "metadata": {
        "id": "ULbc8SMz2AIi"
      },
      "source": [
        "## Challenge: list operation\n",
        "Use the following variables x, y, and z to combine to get the final list.\n",
        "\n",
        "[1, 2, 3, 4, 5, 6, 7, 8]"
      ]
    },
    {
      "cell_type": "code",
      "execution_count": 88,
      "metadata": {
        "id": "LfqU64lI2AIi"
      },
      "outputs": [],
      "source": [
        "x = [1, 2, 3, 4]\n",
        "y = 5\n",
        "z = [6, 7, [8]]"
      ]
    },
    {
      "cell_type": "code",
      "execution_count": 89,
      "metadata": {
        "id": "KCGzqWs52AIi",
        "colab": {
          "base_uri": "https://localhost:8080/",
          "height": 0
        },
        "outputId": "b967bf8e-7a5b-4440-bf5b-27be4f754ea2"
      },
      "outputs": [
        {
          "output_type": "execute_result",
          "data": {
            "text/plain": [
              "[1, 2, 3, 4, 5, 6, 7, 8]"
            ]
          },
          "metadata": {},
          "execution_count": 89
        }
      ],
      "source": [
        "# work here\n",
        "x + [y] + z[:2] + z[-1]"
      ]
    },
    {
      "cell_type": "markdown",
      "metadata": {
        "id": "YvU25mvs2AIi"
      },
      "source": [
        "## 10. Tuple subsetting"
      ]
    },
    {
      "cell_type": "code",
      "execution_count": 92,
      "metadata": {
        "id": "o8m-vYXY2AIi",
        "colab": {
          "base_uri": "https://localhost:8080/",
          "height": 0
        },
        "outputId": "572e7e54-195b-47c2-c37c-c0a78e97ab23"
      },
      "outputs": [
        {
          "output_type": "stream",
          "name": "stdout",
          "text": [
            "('abcd', 786, 2.23, 'john', 70.2)\n"
          ]
        }
      ],
      "source": [
        "longtuple = ( 'abcd', 786 , 2.23, 'john', 70.2  )\n",
        "tinytuple = (123, 'john')\n",
        "\n",
        "print(longtuple)            # Prints complete list"
      ]
    },
    {
      "cell_type": "code",
      "execution_count": 93,
      "metadata": {
        "id": "Ia6ls5dZ2AIj",
        "colab": {
          "base_uri": "https://localhost:8080/",
          "height": 0
        },
        "outputId": "2d08c0a2-652c-41c8-e6c8-565925393a19"
      },
      "outputs": [
        {
          "output_type": "stream",
          "name": "stdout",
          "text": [
            "abcd\n"
          ]
        }
      ],
      "source": [
        "print(longtuple[0])         # Prints first element of the list"
      ]
    },
    {
      "cell_type": "code",
      "execution_count": 94,
      "metadata": {
        "id": "F9LDtelK2AIj",
        "colab": {
          "base_uri": "https://localhost:8080/",
          "height": 0
        },
        "outputId": "d30b7bbc-2ad6-4817-b060-7d5b704b07e5"
      },
      "outputs": [
        {
          "output_type": "stream",
          "name": "stdout",
          "text": [
            "(786, 2.23)\n"
          ]
        }
      ],
      "source": [
        "print(longtuple[1:3])       # Prints elements starting from 2nd till 3rd"
      ]
    },
    {
      "cell_type": "code",
      "execution_count": 95,
      "metadata": {
        "id": "aPr57noZ2AIj",
        "colab": {
          "base_uri": "https://localhost:8080/",
          "height": 0
        },
        "outputId": "e0596904-84f9-4621-85ab-d21d52561b67"
      },
      "outputs": [
        {
          "output_type": "stream",
          "name": "stdout",
          "text": [
            "(2.23, 'john', 70.2)\n"
          ]
        }
      ],
      "source": [
        "print(longtuple[2:])        # Prints elements starting from 3rd element"
      ]
    },
    {
      "cell_type": "code",
      "execution_count": 96,
      "metadata": {
        "id": "B5et-X-q2AIj",
        "colab": {
          "base_uri": "https://localhost:8080/",
          "height": 0
        },
        "outputId": "b6fe82c2-5ae5-49ba-e9eb-9aefc8d50445"
      },
      "outputs": [
        {
          "output_type": "stream",
          "name": "stdout",
          "text": [
            "(123, 'john', 123, 'john')\n"
          ]
        }
      ],
      "source": [
        "print(tinytuple * 2)    # Prints list two times"
      ]
    },
    {
      "cell_type": "code",
      "execution_count": 97,
      "metadata": {
        "id": "PujoYSLi2AIj",
        "colab": {
          "base_uri": "https://localhost:8080/",
          "height": 0
        },
        "outputId": "02ff4c92-cf39-4769-9408-0632400c2cb6"
      },
      "outputs": [
        {
          "output_type": "stream",
          "name": "stdout",
          "text": [
            "('abcd', 786, 2.23, 'john', 70.2, 123, 'john')\n"
          ]
        }
      ],
      "source": [
        "print(longtuple + tinytuple)# Prints concatenated lists"
      ]
    },
    {
      "cell_type": "code",
      "execution_count": 98,
      "metadata": {
        "id": "6SXU9spA2AIj",
        "colab": {
          "base_uri": "https://localhost:8080/",
          "height": 177
        },
        "outputId": "392b3fd7-36e8-4fc6-844a-5c02492ac327"
      },
      "outputs": [
        {
          "output_type": "error",
          "ename": "TypeError",
          "evalue": "can only concatenate tuple (not \"list\") to tuple",
          "traceback": [
            "\u001b[0;31m---------------------------------------------------------------------------\u001b[0m",
            "\u001b[0;31mTypeError\u001b[0m                                 Traceback (most recent call last)",
            "\u001b[0;32m<ipython-input-98-d7139a8af3c9>\u001b[0m in \u001b[0;36m<cell line: 1>\u001b[0;34m()\u001b[0m\n\u001b[0;32m----> 1\u001b[0;31m \u001b[0mlongtuple\u001b[0m \u001b[0;34m+\u001b[0m \u001b[0mtinylist\u001b[0m\u001b[0;34m\u001b[0m\u001b[0;34m\u001b[0m\u001b[0m\n\u001b[0m",
            "\u001b[0;31mTypeError\u001b[0m: can only concatenate tuple (not \"list\") to tuple"
          ]
        }
      ],
      "source": [
        "longtuple + tinylist"
      ]
    },
    {
      "cell_type": "markdown",
      "metadata": {
        "id": "fgD9I7nw2AIk"
      },
      "source": [
        "## 11. Invalid tuple"
      ]
    },
    {
      "cell_type": "code",
      "execution_count": 99,
      "metadata": {
        "id": "HHBeQ9PK2AIk",
        "colab": {
          "base_uri": "https://localhost:8080/",
          "height": 212
        },
        "outputId": "aafe5536-c5f5-4819-c23e-06820ff4f6fb"
      },
      "outputs": [
        {
          "output_type": "error",
          "ename": "TypeError",
          "evalue": "'tuple' object does not support item assignment",
          "traceback": [
            "\u001b[0;31m---------------------------------------------------------------------------\u001b[0m",
            "\u001b[0;31mTypeError\u001b[0m                                 Traceback (most recent call last)",
            "\u001b[0;32m<ipython-input-99-95c07df17f02>\u001b[0m in \u001b[0;36m<cell line: 3>\u001b[0;34m()\u001b[0m\n\u001b[1;32m      1\u001b[0m \u001b[0mx\u001b[0m \u001b[0;34m=\u001b[0m \u001b[0;34m(\u001b[0m \u001b[0;34m'abcd'\u001b[0m\u001b[0;34m,\u001b[0m \u001b[0;36m786\u001b[0m \u001b[0;34m,\u001b[0m \u001b[0;36m2.23\u001b[0m\u001b[0;34m,\u001b[0m \u001b[0;34m'john'\u001b[0m\u001b[0;34m,\u001b[0m \u001b[0;36m70.2\u001b[0m  \u001b[0;34m)\u001b[0m\u001b[0;34m\u001b[0m\u001b[0;34m\u001b[0m\u001b[0m\n\u001b[1;32m      2\u001b[0m \u001b[0my\u001b[0m \u001b[0;34m=\u001b[0m \u001b[0;34m[\u001b[0m \u001b[0;34m'abcd'\u001b[0m\u001b[0;34m,\u001b[0m \u001b[0;36m786\u001b[0m \u001b[0;34m,\u001b[0m \u001b[0;36m2.23\u001b[0m\u001b[0;34m,\u001b[0m \u001b[0;34m'john'\u001b[0m\u001b[0;34m,\u001b[0m \u001b[0;36m70.2\u001b[0m  \u001b[0;34m]\u001b[0m\u001b[0;34m\u001b[0m\u001b[0;34m\u001b[0m\u001b[0m\n\u001b[0;32m----> 3\u001b[0;31m \u001b[0mx\u001b[0m\u001b[0;34m[\u001b[0m\u001b[0;36m2\u001b[0m\u001b[0;34m]\u001b[0m \u001b[0;34m=\u001b[0m \u001b[0;36m1000\u001b[0m    \u001b[0;31m# Invalid syntax with tuple\u001b[0m\u001b[0;34m\u001b[0m\u001b[0;34m\u001b[0m\u001b[0m\n\u001b[0m",
            "\u001b[0;31mTypeError\u001b[0m: 'tuple' object does not support item assignment"
          ]
        }
      ],
      "source": [
        "x = ( 'abcd', 786 , 2.23, 'john', 70.2  )\n",
        "y = [ 'abcd', 786 , 2.23, 'john', 70.2  ]\n",
        "x[2] = 1000    # Invalid syntax with tuple"
      ]
    },
    {
      "cell_type": "code",
      "execution_count": 100,
      "metadata": {
        "id": "ADaNl4u_2AIk",
        "colab": {
          "base_uri": "https://localhost:8080/",
          "height": 0
        },
        "outputId": "384ec5e3-07fa-4d17-ba9c-c90e586ef81a"
      },
      "outputs": [
        {
          "output_type": "stream",
          "name": "stdout",
          "text": [
            "('abcd', 786, 2.23, 'john', 70.2)\n",
            "['abcd', 786, 1000, 'john', 70.2]\n"
          ]
        }
      ],
      "source": [
        "y[2] = 1000     # Valid syntax with list\n",
        "print(x)\n",
        "print(y)"
      ]
    },
    {
      "cell_type": "markdown",
      "metadata": {
        "id": "MJpnLyBU2AIk"
      },
      "source": [
        "## 12. Dictionary operations"
      ]
    },
    {
      "cell_type": "code",
      "execution_count": 101,
      "metadata": {
        "id": "1V0WZFPs2AIk"
      },
      "outputs": [],
      "source": [
        "d = {} #dict\n",
        "d1 = dict()\n",
        "d['one'] = \"This is one\"\n",
        "d[2]     = \"This is two\"\n",
        "\n",
        "tinydict = {'name': 'john','code':6734, 'dept': 'sales'}"
      ]
    },
    {
      "cell_type": "code",
      "execution_count": 102,
      "metadata": {
        "id": "VVNnFf4L2AIk",
        "colab": {
          "base_uri": "https://localhost:8080/",
          "height": 0
        },
        "outputId": "14278f06-c800-48dc-aad1-a3bec5b66887"
      },
      "outputs": [
        {
          "output_type": "execute_result",
          "data": {
            "text/plain": [
              "{'one': 'This is one', 2: 'This is two'}"
            ]
          },
          "metadata": {},
          "execution_count": 102
        }
      ],
      "source": [
        "d"
      ]
    },
    {
      "cell_type": "code",
      "execution_count": 103,
      "metadata": {
        "id": "HnqbrdH92AIl",
        "colab": {
          "base_uri": "https://localhost:8080/",
          "height": 0
        },
        "outputId": "51b19ac9-b6a3-4959-9888-c52b2a2c1619"
      },
      "outputs": [
        {
          "output_type": "stream",
          "name": "stdout",
          "text": [
            "This is one\n"
          ]
        }
      ],
      "source": [
        "print(d['one'])       # Prints value for 'one' key"
      ]
    },
    {
      "cell_type": "code",
      "execution_count": 104,
      "metadata": {
        "id": "3GAj5onn2AIl",
        "colab": {
          "base_uri": "https://localhost:8080/",
          "height": 0
        },
        "outputId": "002f5a09-05c3-40e1-c830-f39f05c7c75b"
      },
      "outputs": [
        {
          "output_type": "stream",
          "name": "stdout",
          "text": [
            "This is two\n"
          ]
        }
      ],
      "source": [
        "print(d[2])           # Prints value for 2 key"
      ]
    },
    {
      "cell_type": "code",
      "execution_count": 105,
      "metadata": {
        "id": "WxO8L_ny2AIl",
        "colab": {
          "base_uri": "https://localhost:8080/",
          "height": 0
        },
        "outputId": "de553fed-1cdc-4657-8fd6-724e62015ba4"
      },
      "outputs": [
        {
          "output_type": "stream",
          "name": "stdout",
          "text": [
            "{'name': 'john', 'code': 6734, 'dept': 'sales'}\n"
          ]
        }
      ],
      "source": [
        "print(tinydict)          # Prints complete dictionary"
      ]
    },
    {
      "cell_type": "code",
      "execution_count": 106,
      "metadata": {
        "id": "D5da3IWs2AIl",
        "colab": {
          "base_uri": "https://localhost:8080/",
          "height": 0
        },
        "outputId": "9b8c8cad-d97a-48f8-9b7e-726b9d739d79"
      },
      "outputs": [
        {
          "output_type": "stream",
          "name": "stdout",
          "text": [
            "dict_keys(['name', 'code', 'dept'])\n"
          ]
        }
      ],
      "source": [
        "print(tinydict.keys())   # Prints all the keys"
      ]
    },
    {
      "cell_type": "code",
      "execution_count": 107,
      "metadata": {
        "id": "nWwYOiIF2AIl",
        "colab": {
          "base_uri": "https://localhost:8080/",
          "height": 0
        },
        "outputId": "cfa18491-91eb-4e6f-dab9-6dca49656d78"
      },
      "outputs": [
        {
          "output_type": "stream",
          "name": "stdout",
          "text": [
            "dict_values(['john', 6734, 'sales'])\n"
          ]
        }
      ],
      "source": [
        "print(tinydict.values()) # Prints all the values"
      ]
    },
    {
      "cell_type": "code",
      "execution_count": 108,
      "metadata": {
        "id": "qQSg3EJs2AIm"
      },
      "outputs": [],
      "source": [
        "x = dict()"
      ]
    },
    {
      "cell_type": "markdown",
      "metadata": {
        "id": "6zA9xLxO2AIm"
      },
      "source": [
        "## 13. Comparison"
      ]
    },
    {
      "cell_type": "code",
      "execution_count": 109,
      "metadata": {
        "id": "V82cWDcT2AIm",
        "colab": {
          "base_uri": "https://localhost:8080/",
          "height": 0
        },
        "outputId": "f8acfd32-2648-46e4-d7a3-83f3d83ad732"
      },
      "outputs": [
        {
          "output_type": "execute_result",
          "data": {
            "text/plain": [
              "True"
            ]
          },
          "metadata": {},
          "execution_count": 109
        }
      ],
      "source": [
        "True"
      ]
    },
    {
      "cell_type": "code",
      "source": [
        "False"
      ],
      "metadata": {
        "id": "_l1ItMQyUiL8",
        "colab": {
          "base_uri": "https://localhost:8080/",
          "height": 0
        },
        "outputId": "0c701418-b2c9-4128-aaaf-817ff6b44120"
      },
      "execution_count": 110,
      "outputs": [
        {
          "output_type": "execute_result",
          "data": {
            "text/plain": [
              "False"
            ]
          },
          "metadata": {},
          "execution_count": 110
        }
      ]
    },
    {
      "cell_type": "code",
      "execution_count": 111,
      "metadata": {
        "id": "Wl990_rt2AIm",
        "colab": {
          "base_uri": "https://localhost:8080/",
          "height": 0
        },
        "outputId": "404c1ce2-ffe8-4f2f-b850-a830fbaf1d30"
      },
      "outputs": [
        {
          "output_type": "execute_result",
          "data": {
            "text/plain": [
              "False"
            ]
          },
          "metadata": {},
          "execution_count": 111
        }
      ],
      "source": [
        "not True"
      ]
    },
    {
      "cell_type": "code",
      "execution_count": 112,
      "metadata": {
        "id": "DnujEOoI2AIm",
        "colab": {
          "base_uri": "https://localhost:8080/",
          "height": 0
        },
        "outputId": "7be4b240-5966-49f5-e9d5-bbf47a2424c4"
      },
      "outputs": [
        {
          "output_type": "execute_result",
          "data": {
            "text/plain": [
              "True"
            ]
          },
          "metadata": {},
          "execution_count": 112
        }
      ],
      "source": [
        "False or True"
      ]
    },
    {
      "cell_type": "code",
      "execution_count": 113,
      "metadata": {
        "id": "pgVNJrjP2AIn",
        "colab": {
          "base_uri": "https://localhost:8080/",
          "height": 0
        },
        "outputId": "67bbddf6-fbf7-43e9-8f24-583716affbed"
      },
      "outputs": [
        {
          "output_type": "execute_result",
          "data": {
            "text/plain": [
              "False"
            ]
          },
          "metadata": {},
          "execution_count": 113
        }
      ],
      "source": [
        "False and True"
      ]
    },
    {
      "cell_type": "code",
      "execution_count": 114,
      "metadata": {
        "id": "usFVPtcD2AIn",
        "colab": {
          "base_uri": "https://localhost:8080/",
          "height": 0
        },
        "outputId": "8be57386-f771-4ad8-98ba-bbd7fe0b7fa6"
      },
      "outputs": [
        {
          "output_type": "execute_result",
          "data": {
            "text/plain": [
              "False"
            ]
          },
          "metadata": {},
          "execution_count": 114
        }
      ],
      "source": [
        "1 > 1"
      ]
    },
    {
      "cell_type": "code",
      "execution_count": 115,
      "metadata": {
        "id": "yiWW6loS2AIn",
        "colab": {
          "base_uri": "https://localhost:8080/",
          "height": 177
        },
        "outputId": "5af0b658-fe3e-4380-9468-a15defcb09a9"
      },
      "outputs": [
        {
          "output_type": "error",
          "ename": "TypeError",
          "evalue": "'>' not supported between instances of 'int' and 'str'",
          "traceback": [
            "\u001b[0;31m---------------------------------------------------------------------------\u001b[0m",
            "\u001b[0;31mTypeError\u001b[0m                                 Traceback (most recent call last)",
            "\u001b[0;32m<ipython-input-115-3f7a524c906d>\u001b[0m in \u001b[0;36m<cell line: 1>\u001b[0;34m()\u001b[0m\n\u001b[0;32m----> 1\u001b[0;31m \u001b[0;36m1\u001b[0m \u001b[0;34m>\u001b[0m \u001b[0;34m\"1\"\u001b[0m\u001b[0;34m\u001b[0m\u001b[0;34m\u001b[0m\u001b[0m\n\u001b[0m",
            "\u001b[0;31mTypeError\u001b[0m: '>' not supported between instances of 'int' and 'str'"
          ]
        }
      ],
      "source": [
        "1 > \"1\""
      ]
    },
    {
      "cell_type": "code",
      "execution_count": null,
      "metadata": {
        "id": "8Sez7OD72AIn"
      },
      "outputs": [],
      "source": [
        "(2,2,3) > (2,1,4) # partial ordering"
      ]
    },
    {
      "cell_type": "code",
      "execution_count": 116,
      "metadata": {
        "id": "8_Mtq07_2AIn",
        "colab": {
          "base_uri": "https://localhost:8080/",
          "height": 0
        },
        "outputId": "17d14fa1-8683-4343-eaed-92ae9e0f15d4"
      },
      "outputs": [
        {
          "output_type": "execute_result",
          "data": {
            "text/plain": [
              "False"
            ]
          },
          "metadata": {},
          "execution_count": 116
        }
      ],
      "source": [
        "[3,3] <= [2,2]"
      ]
    },
    {
      "cell_type": "code",
      "execution_count": 117,
      "metadata": {
        "id": "CZ6FpSRN2AIo",
        "colab": {
          "base_uri": "https://localhost:8080/",
          "height": 0
        },
        "outputId": "f6302a74-ba28-4fd8-861a-e77c5c3d6d83"
      },
      "outputs": [
        {
          "output_type": "execute_result",
          "data": {
            "text/plain": [
              "True"
            ]
          },
          "metadata": {},
          "execution_count": 117
        }
      ],
      "source": [
        "1 > 2 or 3 > 2"
      ]
    },
    {
      "cell_type": "code",
      "execution_count": 118,
      "metadata": {
        "id": "Jh0S1c1Z2AIo",
        "colab": {
          "base_uri": "https://localhost:8080/",
          "height": 0
        },
        "outputId": "dd992800-9ede-4e46-fae0-ac2a7796d2d2"
      },
      "outputs": [
        {
          "output_type": "execute_result",
          "data": {
            "text/plain": [
              "True"
            ]
          },
          "metadata": {},
          "execution_count": 118
        }
      ],
      "source": [
        "1 < 2 < 3"
      ]
    },
    {
      "cell_type": "markdown",
      "metadata": {
        "id": "ATrlNoWn2AIo"
      },
      "source": [
        "## 14. Type conversion"
      ]
    },
    {
      "cell_type": "code",
      "execution_count": 119,
      "metadata": {
        "id": "BidCdmjQ2AIo",
        "colab": {
          "base_uri": "https://localhost:8080/",
          "height": 0
        },
        "outputId": "25c52ea4-f769-4040-a564-d0a00ca481b5"
      },
      "outputs": [
        {
          "output_type": "stream",
          "name": "stdout",
          "text": [
            "Hello123\n"
          ]
        }
      ],
      "source": [
        "x = \"Hello\"\n",
        "y = 123\n",
        "print(x+str(y))"
      ]
    },
    {
      "cell_type": "code",
      "execution_count": 120,
      "metadata": {
        "id": "YiJBqj6o2AIo",
        "colab": {
          "base_uri": "https://localhost:8080/",
          "height": 0
        },
        "outputId": "d9506522-2db2-489e-fd7c-bbe591bdd2f5"
      },
      "outputs": [
        {
          "output_type": "stream",
          "name": "stdout",
          "text": [
            "['H', 'e', 'l', 'l', 'o']\n"
          ]
        }
      ],
      "source": [
        "print(list(x))"
      ]
    },
    {
      "cell_type": "code",
      "execution_count": null,
      "metadata": {
        "id": "z4C87Fj82AIo"
      },
      "outputs": [],
      "source": [
        "tuple([y])"
      ]
    },
    {
      "cell_type": "markdown",
      "metadata": {
        "id": "t9JAtfy42AIp"
      },
      "source": [
        "## Challenge: dictionary\n",
        "Create a dictionary with the following information and print the key and value<br/>\n",
        "THB: Thai Baht<br/>\n",
        "GBP: Great British Pound<br/>\n",
        "JPY: Japanese Yen"
      ]
    },
    {
      "cell_type": "code",
      "execution_count": 121,
      "metadata": {
        "id": "r6WrT06b2AIp",
        "colab": {
          "base_uri": "https://localhost:8080/",
          "height": 36
        },
        "outputId": "00c4e9dc-c059-41d6-d69b-48ed0eccedd5"
      },
      "outputs": [
        {
          "output_type": "execute_result",
          "data": {
            "text/plain": [
              "'Thai Baht'"
            ],
            "application/vnd.google.colaboratory.intrinsic+json": {
              "type": "string"
            }
          },
          "metadata": {},
          "execution_count": 121
        }
      ],
      "source": [
        "# Work on the challenge in this area\n",
        "unit = {'THB':'Thai Baht',\n",
        "        'GBP':'Great British Pound',\n",
        "        'JPY':'Japanese Yen'}\n",
        "unit['THB']"
      ]
    },
    {
      "cell_type": "markdown",
      "metadata": {
        "id": "m7pjVP7H2AIp"
      },
      "source": [
        "## Activity: Using web API to obtian data\n",
        "\n",
        "In this activity, we will use the package **requests** to get the API response. The package can be used after importing it to the current kernel by using the command \"<font color='green'>**import**</font> requests\". After obtaining the response (JSON format, Python Dictionary), write your code to answer the following questions"
      ]
    },
    {
      "cell_type": "code",
      "execution_count": 122,
      "metadata": {
        "id": "47HzfHFk2AIp",
        "colab": {
          "base_uri": "https://localhost:8080/",
          "height": 0
        },
        "outputId": "99c6699f-1608-43fb-c550-35aa2fabc9b5"
      },
      "outputs": [
        {
          "output_type": "stream",
          "name": "stdout",
          "text": [
            "[{'id': 'bitcoin', 'symbol': 'btc', 'name': 'Bitcoin', 'image': 'https://assets.coingecko.com/coins/images/1/large/bitcoin.png?1696501400', 'current_price': 42886, 'market_cap': 838368145426, 'market_cap_rank': 1, 'fully_diluted_valuation': 897595286525, 'total_volume': 21822812951, 'high_24h': 43717, 'low_24h': 42410, 'price_change_24h': -684.4704503957328, 'price_change_percentage_24h': -1.57096, 'market_cap_change_24h': -15717311355.644043, 'market_cap_change_percentage_24h': -1.84025, 'circulating_supply': 19614331.0, 'total_supply': 21000000.0, 'max_supply': 21000000.0, 'ath': 69045, 'ath_change_percentage': -37.24682, 'ath_date': '2021-11-10T14:24:11.849Z', 'atl': 67.81, 'atl_change_percentage': 63796.81043, 'atl_date': '2013-07-06T00:00:00.000Z', 'roi': None, 'last_updated': '2024-01-31T20:17:14.678Z'}, {'id': 'ethereum', 'symbol': 'eth', 'name': 'Ethereum', 'image': 'https://assets.coingecko.com/coins/images/279/large/ethereum.png?1696501628', 'current_price': 2302.18, 'market_cap': 275903905958, 'market_cap_rank': 2, 'fully_diluted_valuation': 275903905958, 'total_volume': 10698944994, 'high_24h': 2385.34, 'low_24h': 2282.14, 'price_change_24h': -78.98697655622345, 'price_change_percentage_24h': -3.31715, 'market_cap_change_24h': -10154839948.63623, 'market_cap_change_percentage_24h': -3.54991, 'circulating_supply': 120182821.049024, 'total_supply': 120182821.049024, 'max_supply': None, 'ath': 4878.26, 'ath_change_percentage': -52.37031, 'ath_date': '2021-11-10T14:24:19.604Z', 'atl': 0.432979, 'atl_change_percentage': 536531.3751, 'atl_date': '2015-10-20T00:00:00.000Z', 'roi': {'times': 70.77166703019178, 'currency': 'btc', 'percentage': 7077.166703019178}, 'last_updated': '2024-01-31T20:17:15.140Z'}, {'id': 'tether', 'symbol': 'usdt', 'name': 'Tether', 'image': 'https://assets.coingecko.com/coins/images/325/large/Tether.png?1696501661', 'current_price': 0.998104, 'market_cap': 95723781277, 'market_cap_rank': 3, 'fully_diluted_valuation': 95723781277, 'total_volume': 40193651300, 'high_24h': 1.002, 'low_24h': 0.99485, 'price_change_24h': -0.002473295713631418, 'price_change_percentage_24h': -0.24719, 'market_cap_change_24h': -385474498.14645386, 'market_cap_change_percentage_24h': -0.40108, 'circulating_supply': 96219281549.4949, 'total_supply': 96219281549.4949, 'max_supply': None, 'ath': 1.32, 'ath_change_percentage': -24.48271, 'ath_date': '2018-07-24T00:00:00.000Z', 'atl': 0.572521, 'atl_change_percentage': 74.52037, 'atl_date': '2015-03-02T00:00:00.000Z', 'roi': None, 'last_updated': '2024-01-31T20:15:17.050Z'}, {'id': 'binancecoin', 'symbol': 'bnb', 'name': 'BNB', 'image': 'https://assets.coingecko.com/coins/images/825/large/bnb-icon2_2x.png?1696501970', 'current_price': 302.32, 'market_cap': 46361104492, 'market_cap_rank': 4, 'fully_diluted_valuation': 46361104492, 'total_volume': 652594667, 'high_24h': 310.56, 'low_24h': 300.59, 'price_change_24h': -7.86103098899639, 'price_change_percentage_24h': -2.53436, 'market_cap_change_24h': -1347776852.1702728, 'market_cap_change_percentage_24h': -2.825, 'circulating_supply': 153856150.0, 'total_supply': 153856150.0, 'max_supply': 200000000.0, 'ath': 686.31, 'ath_change_percentage': -55.58551, 'ath_date': '2021-05-10T07:24:17.097Z', 'atl': 0.0398177, 'atl_change_percentage': 765437.95283, 'atl_date': '2017-10-19T00:00:00.000Z', 'roi': None, 'last_updated': '2024-01-31T20:17:06.148Z'}, {'id': 'solana', 'symbol': 'sol', 'name': 'Solana', 'image': 'https://assets.coingecko.com/coins/images/4128/large/solana.png?1696504756', 'current_price': 99.2, 'market_cap': 43266814955, 'market_cap_rank': 5, 'fully_diluted_valuation': 56436560955, 'total_volume': 3641162032, 'high_24h': 105.45, 'low_24h': 97.8, 'price_change_24h': -5.960725967199352, 'price_change_percentage_24h': -5.66819, 'market_cap_change_24h': -2611757669.3631363, 'market_cap_change_percentage_24h': -5.69276, 'circulating_supply': 435747756.743262, 'total_supply': 568382449.24628, 'max_supply': None, 'ath': 259.96, 'ath_change_percentage': -61.18572, 'ath_date': '2021-11-06T21:54:35.825Z', 'atl': 0.500801, 'atl_change_percentage': 20047.97524, 'atl_date': '2020-05-11T19:35:23.449Z', 'roi': None, 'last_updated': '2024-01-31T20:17:24.257Z'}, {'id': 'ripple', 'symbol': 'xrp', 'name': 'XRP', 'image': 'https://assets.coingecko.com/coins/images/44/large/xrp-symbol-white-128.png?1696501442', 'current_price': 0.507667, 'market_cap': 27536942536, 'market_cap_rank': 6, 'fully_diluted_valuation': 50637007829, 'total_volume': 1665333815, 'high_24h': 0.514684, 'low_24h': 0.498261, 'price_change_24h': -0.007016517481078789, 'price_change_percentage_24h': -1.36327, 'market_cap_change_24h': -427533255.660759, 'market_cap_change_percentage_24h': -1.52884, 'circulating_supply': 54374512255.0, 'total_supply': 99987956150.0, 'max_supply': 100000000000.0, 'ath': 3.4, 'ath_change_percentage': -84.96847, 'ath_date': '2018-01-07T00:00:00.000Z', 'atl': 0.00268621, 'atl_change_percentage': 18917.121, 'atl_date': '2014-05-22T00:00:00.000Z', 'roi': None, 'last_updated': '2024-01-31T20:17:24.364Z'}, {'id': 'usd-coin', 'symbol': 'usdc', 'name': 'USDC', 'image': 'https://assets.coingecko.com/coins/images/6319/large/usdc.png?1696506694', 'current_price': 0.999113, 'market_cap': 26766583031, 'market_cap_rank': 7, 'fully_diluted_valuation': 25365322676, 'total_volume': 7390834534, 'high_24h': 1.004, 'low_24h': 0.994008, 'price_change_24h': -0.001904053599131261, 'price_change_percentage_24h': -0.19021, 'market_cap_change_24h': 262822552, 'market_cap_change_percentage_24h': 0.99164, 'circulating_supply': 26877872464.183, 'total_supply': 25470785983.8999, 'max_supply': None, 'ath': 1.17, 'ath_change_percentage': -14.65554, 'ath_date': '2019-05-08T00:40:28.300Z', 'atl': 0.877647, 'atl_change_percentage': 14.03675, 'atl_date': '2023-03-11T08:02:13.981Z', 'roi': None, 'last_updated': '2024-01-31T20:17:16.440Z'}, {'id': 'staked-ether', 'symbol': 'steth', 'name': 'Lido Staked Ether', 'image': 'https://assets.coingecko.com/coins/images/13442/large/steth_logo.png?1696513206', 'current_price': 2300.3, 'market_cap': 21615952642, 'market_cap_rank': 8, 'fully_diluted_valuation': 21615983099, 'total_volume': 15537795, 'high_24h': 2388.25, 'low_24h': 2282.2, 'price_change_24h': -79.4065247267713, 'price_change_percentage_24h': -3.33683, 'market_cap_change_24h': -771314688.6999855, 'market_cap_change_percentage_24h': -3.44533, 'circulating_supply': 9413448.85718321, 'total_supply': 9413462.12072922, 'max_supply': 9413448.85718321, 'ath': 4829.57, 'ath_change_percentage': -52.00204, 'ath_date': '2021-11-10T14:40:47.256Z', 'atl': 482.9, 'atl_change_percentage': 380.04005, 'atl_date': '2020-12-22T04:08:21.854Z', 'roi': None, 'last_updated': '2024-01-31T20:17:03.555Z'}, {'id': 'cardano', 'symbol': 'ada', 'name': 'Cardano', 'image': 'https://assets.coingecko.com/coins/images/975/large/cardano.png?1696502090', 'current_price': 0.507282, 'market_cap': 17758193556, 'market_cap_rank': 9, 'fully_diluted_valuation': 22766708338, 'total_volume': 487152935, 'high_24h': 0.527035, 'low_24h': 0.497703, 'price_change_24h': -0.012504995040216405, 'price_change_percentage_24h': -2.40579, 'market_cap_change_24h': -501923537.3990059, 'market_cap_change_percentage_24h': -2.74874, 'circulating_supply': 35100318330.6778, 'total_supply': 45000000000.0, 'max_supply': 45000000000.0, 'ath': 3.09, 'ath_change_percentage': -83.40436, 'ath_date': '2021-09-02T06:00:10.474Z', 'atl': 0.01925275, 'atl_change_percentage': 2560.88116, 'atl_date': '2020-03-13T02:22:55.044Z', 'roi': None, 'last_updated': '2024-01-31T20:17:14.165Z'}, {'id': 'avalanche-2', 'symbol': 'avax', 'name': 'Avalanche', 'image': 'https://assets.coingecko.com/coins/images/12559/large/Avalanche_Circle_RedWhite_Trans.png?1696512369', 'current_price': 34.79, 'market_cap': 12746055973, 'market_cap_rank': 10, 'fully_diluted_valuation': 15108313103, 'total_volume': 520177323, 'high_24h': 36.28, 'low_24h': 34.08, 'price_change_24h': -1.4558820470585871, 'price_change_percentage_24h': -4.0165, 'market_cap_change_24h': -549272885.7637234, 'market_cap_change_percentage_24h': -4.13132, 'circulating_supply': 367084026.783708, 'total_supply': 435116909.331076, 'max_supply': 720000000.0, 'ath': 144.96, 'ath_change_percentage': -75.75443, 'ath_date': '2021-11-21T14:18:56.538Z', 'atl': 2.8, 'atl_change_percentage': 1154.76122, 'atl_date': '2020-12-31T13:15:21.540Z', 'roi': None, 'last_updated': '2024-01-31T20:17:23.249Z'}, {'id': 'dogecoin', 'symbol': 'doge', 'name': 'Dogecoin', 'image': 'https://assets.coingecko.com/coins/images/5/large/dogecoin.png?1696501409', 'current_price': 0.079342, 'market_cap': 11285551385, 'market_cap_rank': 11, 'fully_diluted_valuation': 11285520581, 'total_volume': 355981360, 'high_24h': 0.081541, 'low_24h': 0.078371, 'price_change_24h': -0.001951803048947556, 'price_change_percentage_24h': -2.40092, 'market_cap_change_24h': -330000749.06196785, 'market_cap_change_percentage_24h': -2.84103, 'circulating_supply': 142883606383.705, 'total_supply': 142883686383.705, 'max_supply': None, 'ath': 0.731578, 'ath_change_percentage': -89.08848, 'ath_date': '2021-05-08T05:08:23.458Z', 'atl': 8.69e-05, 'atl_change_percentage': 91755.98039, 'atl_date': '2015-05-06T00:00:00.000Z', 'roi': None, 'last_updated': '2024-01-31T20:17:22.525Z'}, {'id': 'tron', 'symbol': 'trx', 'name': 'TRON', 'image': 'https://assets.coingecko.com/coins/images/1094/large/tron-logo.png?1696502193', 'current_price': 0.112645, 'market_cap': 9890938817, 'market_cap_rank': 12, 'fully_diluted_valuation': 9890951178, 'total_volume': 348047650, 'high_24h': 0.113329, 'low_24h': 0.111389, 'price_change_24h': 5.136e-05, 'price_change_percentage_24h': 0.04562, 'market_cap_change_24h': -27132628.029712677, 'market_cap_change_percentage_24h': -0.27357, 'circulating_supply': 88134123899.9607, 'total_supply': 88134112886.102, 'max_supply': None, 'ath': 0.231673, 'ath_change_percentage': -51.19793, 'ath_date': '2018-01-05T00:00:00.000Z', 'atl': 0.00180434, 'atl_change_percentage': 6166.05809, 'atl_date': '2017-11-12T00:00:00.000Z', 'roi': {'times': 58.286818292885, 'currency': 'usd', 'percentage': 5828.6818292885}, 'last_updated': '2024-01-31T20:17:17.902Z'}, {'id': 'polkadot', 'symbol': 'dot', 'name': 'Polkadot', 'image': 'https://assets.coingecko.com/coins/images/12171/large/polkadot.png?1696512008', 'current_price': 6.76, 'market_cap': 8955554794, 'market_cap_rank': 13, 'fully_diluted_valuation': 9502527107, 'total_volume': 208440296, 'high_24h': 7.03, 'low_24h': 6.65, 'price_change_24h': -0.2532807511825945, 'price_change_percentage_24h': -3.60895, 'market_cap_change_24h': -342160391.91056824, 'market_cap_change_percentage_24h': -3.68005, 'circulating_supply': 1325338426.54473, 'total_supply': 1406288740.36032, 'max_supply': None, 'ath': 54.98, 'ath_change_percentage': -87.60546, 'ath_date': '2021-11-04T14:10:09.301Z', 'atl': 2.7, 'atl_change_percentage': 152.63181, 'atl_date': '2020-08-20T05:48:11.359Z', 'roi': None, 'last_updated': '2024-01-31T20:17:03.622Z'}, {'id': 'chainlink', 'symbol': 'link', 'name': 'Chainlink', 'image': 'https://assets.coingecko.com/coins/images/877/large/chainlink-new-logo.png?1696502009', 'current_price': 15.54, 'market_cap': 8816995890, 'market_cap_rank': 14, 'fully_diluted_valuation': 15520148452, 'total_volume': 888233825, 'high_24h': 16.02, 'low_24h': 15.33, 'price_change_24h': -0.13663514860690995, 'price_change_percentage_24h': -0.8716, 'market_cap_change_24h': -87067742.77484512, 'market_cap_change_percentage_24h': -0.97784, 'circulating_supply': 568099971.3083414, 'total_supply': 1000000000.0, 'max_supply': 1000000000.0, 'ath': 52.7, 'ath_change_percentage': -70.10983, 'ath_date': '2021-05-10T00:13:57.214Z', 'atl': 0.148183, 'atl_change_percentage': 10529.48104, 'atl_date': '2017-11-29T00:00:00.000Z', 'roi': None, 'last_updated': '2024-01-31T20:17:17.317Z'}, {'id': 'matic-network', 'symbol': 'matic', 'name': 'Polygon', 'image': 'https://assets.coingecko.com/coins/images/4713/large/polygon.png?1698233745', 'current_price': 0.796615, 'market_cap': 7379255993, 'market_cap_rank': 15, 'fully_diluted_valuation': 7949263012, 'total_volume': 488923512, 'high_24h': 0.830971, 'low_24h': 0.786224, 'price_change_24h': -0.01724450312586212, 'price_change_percentage_24h': -2.11885, 'market_cap_change_24h': -180996677.57288742, 'market_cap_change_percentage_24h': -2.39406, 'circulating_supply': 9282943566.203985, 'total_supply': 10000000000.0, 'max_supply': 10000000000.0, 'ath': 2.92, 'ath_change_percentage': -72.42005, 'ath_date': '2021-12-27T02:08:34.307Z', 'atl': 0.00314376, 'atl_change_percentage': 25484.13941, 'atl_date': '2019-05-10T00:00:00.000Z', 'roi': {'times': 301.8954438412076, 'currency': 'usd', 'percentage': 30189.54438412076}, 'last_updated': '2024-01-31T20:17:13.094Z'}, {'id': 'the-open-network', 'symbol': 'ton', 'name': 'Toncoin', 'image': 'https://assets.coingecko.com/coins/images/17980/large/ton_symbol.png?1696517498', 'current_price': 2.07, 'market_cap': 7135331264, 'market_cap_rank': 16, 'fully_diluted_valuation': 10528310550, 'total_volume': 16632990, 'high_24h': 2.12, 'low_24h': 2.06, 'price_change_24h': -0.04727502599819022, 'price_change_percentage_24h': -2.23588, 'market_cap_change_24h': -172942194.71032333, 'market_cap_change_percentage_24h': -2.36639, 'circulating_supply': 3457876036.58154, 'total_supply': 5102160218.08661, 'max_supply': None, 'ath': 5.29, 'ath_change_percentage': -60.79977, 'ath_date': '2021-11-12T06:50:02.476Z', 'atl': 0.519364, 'atl_change_percentage': 299.3355, 'atl_date': '2021-09-21T00:33:11.092Z', 'roi': None, 'last_updated': '2024-01-31T20:17:19.722Z'}, {'id': 'wrapped-bitcoin', 'symbol': 'wbtc', 'name': 'Wrapped Bitcoin', 'image': 'https://assets.coingecko.com/coins/images/7598/large/wrapped_bitcoin_wbtc.png?1696507857', 'current_price': 42788, 'market_cap': 6738596916, 'market_cap_rank': 17, 'fully_diluted_valuation': 6738596916, 'total_volume': 231461311, 'high_24h': 43691, 'low_24h': 42298, 'price_change_24h': -777.8784865259659, 'price_change_percentage_24h': -1.78551, 'market_cap_change_24h': -128798215.87627125, 'market_cap_change_percentage_24h': -1.8755, 'circulating_supply': 157804.05371727, 'total_supply': 157804.05371727, 'max_supply': 157804.05371727, 'ath': 70643, 'ath_change_percentage': -38.79149, 'ath_date': '2021-11-10T14:40:19.650Z', 'atl': 3139.17, 'atl_change_percentage': 1277.42551, 'atl_date': '2019-04-02T00:00:00.000Z', 'roi': None, 'last_updated': '2024-01-31T20:17:12.554Z'}, {'id': 'internet-computer', 'symbol': 'icp', 'name': 'Internet Computer', 'image': 'https://assets.coingecko.com/coins/images/14495/large/Internet_Computer_logo.png?1696514180', 'current_price': 11.75, 'market_cap': 5341416559, 'market_cap_rank': 18, 'fully_diluted_valuation': 6002096819, 'total_volume': 115013536, 'high_24h': 12.03, 'low_24h': 11.39, 'price_change_24h': -0.28432505833247923, 'price_change_percentage_24h': -2.36338, 'market_cap_change_24h': -163098303.95720196, 'market_cap_change_percentage_24h': -2.96299, 'circulating_supply': 457356892.298105, 'total_supply': 513927726.502481, 'max_supply': None, 'ath': 700.65, 'ath_change_percentage': -98.3152, 'ath_date': '2021-05-10T16:05:53.653Z', 'atl': 2.87, 'atl_change_percentage': 312.02176, 'atl_date': '2023-09-22T00:29:57.369Z', 'roi': None, 'last_updated': '2024-01-31T20:17:24.393Z'}, {'id': 'shiba-inu', 'symbol': 'shib', 'name': 'Shiba Inu', 'image': 'https://assets.coingecko.com/coins/images/11939/large/shiba.png?1696511800', 'current_price': 8.99e-06, 'market_cap': 5275846786, 'market_cap_rank': 19, 'fully_diluted_valuation': 8952861533, 'total_volume': 128616855, 'high_24h': 9.23e-06, 'low_24h': 8.93e-06, 'price_change_24h': -2.24219255613e-07, 'price_change_percentage_24h': -2.43262, 'market_cap_change_24h': -156844719.35723782, 'market_cap_change_percentage_24h': -2.88705, 'circulating_supply': 589281290115306.5, 'total_supply': 999982374055350.0, 'max_supply': None, 'ath': 8.616e-05, 'ath_change_percentage': -89.50365, 'ath_date': '2021-10-28T03:54:55.568Z', 'atl': 5.6366e-11, 'atl_change_percentage': 16044092.35667, 'atl_date': '2020-11-28T11:26:25.838Z', 'roi': None, 'last_updated': '2024-01-31T20:17:00.905Z'}, {'id': 'litecoin', 'symbol': 'ltc', 'name': 'Litecoin', 'image': 'https://assets.coingecko.com/coins/images/2/large/litecoin.png?1696501400', 'current_price': 67.36, 'market_cap': 4986054044, 'market_cap_rank': 20, 'fully_diluted_valuation': 5647984689, 'total_volume': 348929526, 'high_24h': 69.78, 'low_24h': 67.09, 'price_change_24h': -1.1435920664619061, 'price_change_percentage_24h': -1.6693, 'market_cap_change_24h': -93810751.23140335, 'market_cap_change_percentage_24h': -1.84672, 'circulating_supply': 74155395.7334713, 'total_supply': 84000000.0, 'max_supply': 84000000.0, 'ath': 410.26, 'ath_change_percentage': -83.48307, 'ath_date': '2021-05-10T03:13:07.904Z', 'atl': 1.15, 'atl_change_percentage': 5798.31525, 'atl_date': '2015-01-14T00:00:00.000Z', 'roi': None, 'last_updated': '2024-01-31T20:17:24.534Z'}, {'id': 'dai', 'symbol': 'dai', 'name': 'Dai', 'image': 'https://assets.coingecko.com/coins/images/9956/large/Badge_Dai.png?1696509996', 'current_price': 0.998184, 'market_cap': 4871524530, 'market_cap_rank': 21, 'fully_diluted_valuation': 4871524530, 'total_volume': 163126341, 'high_24h': 1.002, 'low_24h': 0.995734, 'price_change_24h': -0.000331210886362454, 'price_change_percentage_24h': -0.03317, 'market_cap_change_24h': -310434403.2970133, 'market_cap_change_percentage_24h': -5.99068, 'circulating_supply': 4892394375.05689, 'total_supply': 4904839618.54705, 'max_supply': None, 'ath': 1.22, 'ath_change_percentage': -18.12804, 'ath_date': '2020-03-13T03:02:50.373Z', 'atl': 0.88196, 'atl_change_percentage': 13.1528, 'atl_date': '2023-03-11T07:50:50.514Z', 'roi': None, 'last_updated': '2024-01-31T20:15:17.817Z'}, {'id': 'bitcoin-cash', 'symbol': 'bch', 'name': 'Bitcoin Cash', 'image': 'https://assets.coingecko.com/coins/images/780/large/bitcoin-cash-circle.png?1696501932', 'current_price': 235.75, 'market_cap': 4612582668, 'market_cap_rank': 22, 'fully_diluted_valuation': 4934734182, 'total_volume': 159603323, 'high_24h': 242.11, 'low_24h': 233.14, 'price_change_24h': -6.070587803280034, 'price_change_percentage_24h': -2.51033, 'market_cap_change_24h': -135147873.3020687, 'market_cap_change_percentage_24h': -2.84658, 'circulating_supply': 19629068.6466508, 'total_supply': 21000000.0, 'max_supply': 21000000.0, 'ath': 3785.82, 'ath_change_percentage': -93.71943, 'ath_date': '2017-12-20T00:00:00.000Z', 'atl': 76.93, 'atl_change_percentage': 209.05538, 'atl_date': '2018-12-16T00:00:00.000Z', 'roi': None, 'last_updated': '2024-01-31T20:17:05.142Z'}, {'id': 'uniswap', 'symbol': 'uni', 'name': 'Uniswap', 'image': 'https://assets.coingecko.com/coins/images/12504/large/uni.jpg?1696512319', 'current_price': 6.05, 'market_cap': 4543106139, 'market_cap_rank': 23, 'fully_diluted_valuation': 6027204888, 'total_volume': 107365198, 'high_24h': 6.32, 'low_24h': 5.97, 'price_change_24h': -0.25781884614283435, 'price_change_percentage_24h': -4.08987, 'market_cap_change_24h': -209442172.44203663, 'market_cap_change_percentage_24h': -4.40694, 'circulating_supply': 753766667.0, 'total_supply': 1000000000.0, 'max_supply': 1000000000.0, 'ath': 44.92, 'ath_change_percentage': -86.44366, 'ath_date': '2021-05-03T05:25:04.822Z', 'atl': 1.03, 'atl_change_percentage': 491.09071, 'atl_date': '2020-09-17T01:20:38.214Z', 'roi': None, 'last_updated': '2024-01-31T20:17:25.898Z'}, {'id': 'leo-token', 'symbol': 'leo', 'name': 'LEO Token', 'image': 'https://assets.coingecko.com/coins/images/8418/large/leo-token.png?1696508607', 'current_price': 3.96, 'market_cap': 3650883077, 'market_cap_rank': 24, 'fully_diluted_valuation': 3877169429, 'total_volume': 1342572, 'high_24h': 4.0, 'low_24h': 3.88, 'price_change_24h': 0.077842, 'price_change_percentage_24h': 2.00736, 'market_cap_change_24h': 70250793, 'market_cap_change_percentage_24h': 1.96197, 'circulating_supply': 927737179.9, 'total_supply': 985239504.0, 'max_supply': None, 'ath': 8.14, 'ath_change_percentage': -51.27348, 'ath_date': '2022-02-08T17:40:10.285Z', 'atl': 0.799859, 'atl_change_percentage': 395.596, 'atl_date': '2019-12-24T15:14:35.376Z', 'roi': None, 'last_updated': '2024-01-31T20:16:10.888Z'}, {'id': 'ethereum-classic', 'symbol': 'etc', 'name': 'Ethereum Classic', 'image': 'https://assets.coingecko.com/coins/images/453/large/ethereum-classic-logo.png?1696501717', 'current_price': 24.79, 'market_cap': 3544004099, 'market_cap_rank': 25, 'fully_diluted_valuation': 5214459570, 'total_volume': 285983047, 'high_24h': 25.9, 'low_24h': 24.43, 'price_change_24h': -1.019140267420262, 'price_change_percentage_24h': -3.94949, 'market_cap_change_24h': -155017086.19866276, 'market_cap_change_percentage_24h': -4.19076, 'circulating_supply': 143202119.751449, 'total_supply': 210700000.0, 'max_supply': 210700000.0, 'ath': 167.09, 'ath_change_percentage': -85.03064, 'ath_date': '2021-05-06T18:34:22.133Z', 'atl': 0.615038, 'atl_change_percentage': 3966.6779, 'atl_date': '2016-07-25T00:00:00.000Z', 'roi': {'times': 54.07822359547531, 'currency': 'usd', 'percentage': 5407.822359547531}, 'last_updated': '2024-01-31T20:17:16.681Z'}, {'id': 'cosmos', 'symbol': 'atom', 'name': 'Cosmos Hub', 'image': 'https://assets.coingecko.com/coins/images/1481/large/cosmos_hub.png?1696502525', 'current_price': 9.14, 'market_cap': 3498627697, 'market_cap_rank': 26, 'fully_diluted_valuation': 3498627697, 'total_volume': 180308066, 'high_24h': 9.6, 'low_24h': 9.05, 'price_change_24h': -0.43665410568933005, 'price_change_percentage_24h': -4.56082, 'market_cap_change_24h': -174645072.12279892, 'market_cap_change_percentage_24h': -4.75448, 'circulating_supply': 383774098.795288, 'total_supply': 383774098.795288, 'max_supply': None, 'ath': 44.45, 'ath_change_percentage': -79.25414, 'ath_date': '2022-01-17T00:34:41.497Z', 'atl': 1.16, 'atl_change_percentage': 694.88429, 'atl_date': '2020-03-13T02:27:44.591Z', 'roi': {'times': 90.37382345044978, 'currency': 'usd', 'percentage': 9037.382345044978}, 'last_updated': '2024-01-31T20:17:21.307Z'}, {'id': 'stellar', 'symbol': 'xlm', 'name': 'Stellar', 'image': 'https://assets.coingecko.com/coins/images/100/large/Stellar_symbol_black_RGB.png?1696501482', 'current_price': 0.110317, 'market_cap': 3116639275, 'market_cap_rank': 27, 'fully_diluted_valuation': 5490438071, 'total_volume': 79645593, 'high_24h': 0.11395, 'low_24h': 0.109282, 'price_change_24h': -0.003541326131668424, 'price_change_percentage_24h': -3.1103, 'market_cap_change_24h': -112170683.692945, 'market_cap_change_percentage_24h': -3.47406, 'circulating_supply': 28383442499.8752, 'total_supply': 50001787037.0868, 'max_supply': 50001787037.0868, 'ath': 0.875563, 'ath_change_percentage': -87.34197, 'ath_date': '2018-01-03T00:00:00.000Z', 'atl': 0.00047612, 'atl_change_percentage': 23177.37468, 'atl_date': '2015-03-05T00:00:00.000Z', 'roi': None, 'last_updated': '2024-01-31T20:17:25.079Z'}, {'id': 'okb', 'symbol': 'okb', 'name': 'OKB', 'image': 'https://assets.coingecko.com/coins/images/4463/large/WeChat_Image_20220118095654.png?1696505053', 'current_price': 51.1, 'market_cap': 3055452372, 'market_cap_rank': 28, 'fully_diluted_valuation': 12015957819, 'total_volume': 11606769, 'high_24h': 53.54, 'low_24h': 50.58, 'price_change_24h': -2.3822019583687535, 'price_change_percentage_24h': -4.45389, 'market_cap_change_24h': -149538741.30449295, 'market_cap_change_percentage_24h': -4.66581, 'circulating_supply': 60000000.0, 'total_supply': 235957685.3, 'max_supply': 300000000.0, 'ath': 64.92, 'ath_change_percentage': -21.04344, 'ath_date': '2023-11-14T16:15:10.918Z', 'atl': 0.580608, 'atl_change_percentage': 8728.68678, 'atl_date': '2019-01-14T00:00:00.000Z', 'roi': None, 'last_updated': '2024-01-31T20:17:03.857Z'}, {'id': 'injective-protocol', 'symbol': 'inj', 'name': 'Injective', 'image': 'https://assets.coingecko.com/coins/images/12882/large/Secondary_Symbol.png?1696512670', 'current_price': 34.43, 'market_cap': 3038591423, 'market_cap_rank': 29, 'fully_diluted_valuation': 3437623065, 'total_volume': 207930290, 'high_24h': 37.18, 'low_24h': 34.08, 'price_change_24h': -2.638259571705369, 'price_change_percentage_24h': -7.11748, 'market_cap_change_24h': -238608894.40542507, 'market_cap_change_percentage_24h': -7.28088, 'circulating_supply': 88392222.33, 'total_supply': 100000000.0, 'max_supply': None, 'ath': 45.01, 'ath_change_percentage': -22.78081, 'ath_date': '2024-01-09T06:31:10.010Z', 'atl': 0.657401, 'atl_change_percentage': 5187.26124, 'atl_date': '2020-11-03T16:19:30.576Z', 'roi': None, 'last_updated': '2024-01-31T20:17:24.433Z'}, {'id': 'aptos', 'symbol': 'apt', 'name': 'Aptos', 'image': 'https://assets.coingecko.com/coins/images/26455/large/aptos_round.png?1696525528', 'current_price': 8.99, 'market_cap': 3025512369, 'market_cap_rank': 30, 'fully_diluted_valuation': 9664018244, 'total_volume': 117492616, 'high_24h': 9.39, 'low_24h': 8.74, 'price_change_24h': -0.36226487602287527, 'price_change_percentage_24h': -3.87295, 'market_cap_change_24h': -142504834.74593735, 'market_cap_change_percentage_24h': -4.49823, 'circulating_supply': 337683349.616605, 'total_supply': 1078634430.58588, 'max_supply': None, 'ath': 19.92, 'ath_change_percentage': -54.66869, 'ath_date': '2023-01-26T14:25:17.390Z', 'atl': 3.08, 'atl_change_percentage': 193.20702, 'atl_date': '2022-12-29T21:35:14.796Z', 'roi': None, 'last_updated': '2024-01-31T20:17:25.839Z'}, {'id': 'near', 'symbol': 'near', 'name': 'NEAR Protocol', 'image': 'https://assets.coingecko.com/coins/images/10365/large/near.jpg?1696510367', 'current_price': 2.88, 'market_cap': 2971599190, 'market_cap_rank': 31, 'fully_diluted_valuation': 3386193760, 'total_volume': 233984383, 'high_24h': 3.17, 'low_24h': 2.84, 'price_change_24h': -0.2737743314629304, 'price_change_percentage_24h': -8.67093, 'market_cap_change_24h': -290862806.0543165, 'market_cap_change_percentage_24h': -8.91544, 'circulating_supply': 1031037152.32197, 'total_supply': 1174886413.40727, 'max_supply': None, 'ath': 20.44, 'ath_change_percentage': -85.70565, 'ath_date': '2022-01-16T22:09:45.873Z', 'atl': 0.526762, 'atl_change_percentage': 454.61366, 'atl_date': '2020-11-04T16:09:15.137Z', 'roi': None, 'last_updated': '2024-01-31T20:17:22.112Z'}, {'id': 'monero', 'symbol': 'xmr', 'name': 'Monero', 'image': 'https://assets.coingecko.com/coins/images/69/large/monero_logo.png?1696501460', 'current_price': 164.2, 'market_cap': 2970469366, 'market_cap_rank': 32, 'fully_diluted_valuation': None, 'total_volume': 94543593, 'high_24h': 166.41, 'low_24h': 158.55, 'price_change_24h': 1.97, 'price_change_percentage_24h': 1.21391, 'market_cap_change_24h': 26086760, 'market_cap_change_percentage_24h': 0.88598, 'circulating_supply': 18147820.3764146, 'total_supply': None, 'max_supply': None, 'ath': 542.33, 'ath_change_percentage': -69.61873, 'ath_date': '2018-01-09T00:00:00.000Z', 'atl': 0.216177, 'atl_change_percentage': 76117.92471, 'atl_date': '2015-01-14T00:00:00.000Z', 'roi': None, 'last_updated': '2024-01-31T20:17:19.628Z'}, {'id': 'optimism', 'symbol': 'op', 'name': 'Optimism', 'image': 'https://assets.coingecko.com/coins/images/25244/large/Optimism.png?1696524385', 'current_price': 2.97, 'market_cap': 2845757173, 'market_cap_rank': 33, 'fully_diluted_valuation': 12766563196, 'total_volume': 222404303, 'high_24h': 3.29, 'low_24h': 2.95, 'price_change_24h': -0.3081187586087153, 'price_change_percentage_24h': -9.40143, 'market_cap_change_24h': -290551280.10596895, 'market_cap_change_percentage_24h': -9.26412, 'circulating_supply': 957378568.0, 'total_supply': 4294967296.0, 'max_supply': 4294967296.0, 'ath': 4.23, 'ath_change_percentage': -29.29117, 'ath_date': '2024-01-12T13:44:50.085Z', 'atl': 0.402159, 'atl_change_percentage': 643.4305, 'atl_date': '2022-06-18T20:54:52.178Z', 'roi': None, 'last_updated': '2024-01-31T20:16:54.548Z'}, {'id': 'bittensor', 'symbol': 'tao', 'name': 'Bittensor', 'image': 'https://assets.coingecko.com/coins/images/28452/large/ARUsPeNQ_400x400.jpeg?1696527447', 'current_price': 454.77, 'market_cap': 2799362359, 'market_cap_rank': 35, 'fully_diluted_valuation': 2799362359, 'total_volume': 20224227, 'high_24h': 463.4, 'low_24h': 414.71, 'price_change_24h': 12.89, 'price_change_percentage_24h': 2.9176, 'market_cap_change_24h': 93110626, 'market_cap_change_percentage_24h': 3.44058, 'circulating_supply': 6151457.0, 'total_supply': 6151782.0, 'max_supply': 21000000.0, 'ath': 470.58, 'ath_change_percentage': -2.59417, 'ath_date': '2024-01-30T15:04:50.176Z', 'atl': 30.83, 'atl_change_percentage': 1386.78979, 'atl_date': '2023-05-14T08:57:53.732Z', 'roi': None, 'last_updated': '2024-01-31T20:17:14.037Z'}, {'id': 'celestia', 'symbol': 'tia', 'name': 'Celestia', 'image': 'https://assets.coingecko.com/coins/images/31967/large/tia.jpg?1696530772', 'current_price': 16.53, 'market_cap': 2678639576, 'market_cap_rank': 34, 'fully_diluted_valuation': 16951107858, 'total_volume': 175941647, 'high_24h': 18.47, 'low_24h': 16.52, 'price_change_24h': -1.916058298977262, 'price_change_percentage_24h': -10.38685, 'market_cap_change_24h': -291617073.42991495, 'market_cap_change_percentage_24h': -9.81791, 'circulating_supply': 161207911.311572, 'total_supply': 1020164383.56157, 'max_supply': None, 'ath': 20.16, 'ath_change_percentage': -17.47275, 'ath_date': '2024-01-15T10:34:34.684Z', 'atl': 2.08, 'atl_change_percentage': 698.57748, 'atl_date': '2023-10-31T15:14:31.951Z', 'roi': None, 'last_updated': '2024-01-31T20:16:57.983Z'}, {'id': 'immutable-x', 'symbol': 'imx', 'name': 'Immutable', 'image': 'https://assets.coingecko.com/coins/images/17233/large/immutableX-symbol-BLK-RGB.png?1696516787', 'current_price': 1.96, 'market_cap': 2652702264, 'market_cap_rank': 36, 'fully_diluted_valuation': 3913161145, 'total_volume': 60936507, 'high_24h': 2.06, 'low_24h': 1.93, 'price_change_24h': -0.09931585548197441, 'price_change_percentage_24h': -4.82465, 'market_cap_change_24h': -135986746.55249596, 'market_cap_change_percentage_24h': -4.87637, 'circulating_supply': 1355784832.490024, 'total_supply': 2000000000.0, 'max_supply': 2000000000.0, 'ath': 9.52, 'ath_change_percentage': -79.24919, 'ath_date': '2021-11-26T01:03:01.536Z', 'atl': 0.378055, 'atl_change_percentage': 422.53388, 'atl_date': '2022-12-31T07:36:37.649Z', 'roi': None, 'last_updated': '2024-01-31T20:17:25.888Z'}, {'id': 'first-digital-usd', 'symbol': 'fdusd', 'name': 'First Digital USD', 'image': 'https://assets.coingecko.com/coins/images/31079/large/firstfigital.jpeg?1696529912', 'current_price': 0.991358, 'market_cap': 2553597524, 'market_cap_rank': 38, 'fully_diluted_valuation': 2553597524, 'total_volume': 5622103135, 'high_24h': 1.013, 'low_24h': 0.992071, 'price_change_24h': -0.008908238398375401, 'price_change_percentage_24h': -0.89059, 'market_cap_change_24h': -24794875.542449474, 'market_cap_change_percentage_24h': -0.96164, 'circulating_supply': 2578169834.31, 'total_supply': 2578169834.31, 'max_supply': None, 'ath': 1.041, 'ath_change_percentage': -4.87328, 'ath_date': '2023-10-23T22:55:15.103Z', 'atl': 0.942129, 'atl_change_percentage': 5.14453, 'atl_date': '2023-08-17T21:55:41.478Z', 'roi': None, 'last_updated': '2024-01-31T20:16:58.795Z'}, {'id': 'lido-dao', 'symbol': 'ldo', 'name': 'Lido DAO', 'image': 'https://assets.coingecko.com/coins/images/13573/large/Lido_DAO.png?1696513326', 'current_price': 2.85, 'market_cap': 2535294488, 'market_cap_rank': 37, 'fully_diluted_valuation': 2847985678, 'total_volume': 66265226, 'high_24h': 3.13, 'low_24h': 2.84, 'price_change_24h': -0.2515407994824681, 'price_change_percentage_24h': -8.11471, 'market_cap_change_24h': -226343995.58850002, 'market_cap_change_percentage_24h': -8.196, 'circulating_supply': 890206193.113119, 'total_supply': 1000000000.0, 'max_supply': 1000000000.0, 'ath': 7.3, 'ath_change_percentage': -60.50782, 'ath_date': '2021-08-20T08:35:20.158Z', 'atl': 0.40615, 'atl_change_percentage': 610.0985, 'atl_date': '2022-06-18T20:55:12.035Z', 'roi': None, 'last_updated': '2024-01-31T20:17:06.370Z'}, {'id': 'filecoin', 'symbol': 'fil', 'name': 'Filecoin', 'image': 'https://assets.coingecko.com/coins/images/12817/large/filecoin.png?1696512609', 'current_price': 5.02, 'market_cap': 2511249704, 'market_cap_rank': 39, 'fully_diluted_valuation': 9821492597, 'total_volume': 146971540, 'high_24h': 5.29, 'low_24h': 4.97, 'price_change_24h': -0.2581753621284939, 'price_change_percentage_24h': -4.89101, 'market_cap_change_24h': -140154676.60922575, 'market_cap_change_percentage_24h': -5.28605, 'circulating_supply': 501395344.0, 'total_supply': 1960956188.0, 'max_supply': 1960956193.0, 'ath': 236.84, 'ath_change_percentage': -97.86254, 'ath_date': '2021-04-01T13:29:41.564Z', 'atl': 2.64, 'atl_change_percentage': 91.68646, 'atl_date': '2022-12-16T22:45:28.552Z', 'roi': None, 'last_updated': '2024-01-31T20:17:16.429Z'}, {'id': 'hedera-hashgraph', 'symbol': 'hbar', 'name': 'Hedera', 'image': 'https://assets.coingecko.com/coins/images/3688/large/hbar.png?1696504364', 'current_price': 0.070233, 'market_cap': 2360543253, 'market_cap_rank': 40, 'fully_diluted_valuation': 3505903026, 'total_volume': 50841645, 'high_24h': 0.074509, 'low_24h': 0.069089, 'price_change_24h': -0.004163475859900151, 'price_change_percentage_24h': -5.59634, 'market_cap_change_24h': -141680044.56352425, 'market_cap_change_percentage_24h': -5.66217, 'circulating_supply': 33665267341.8113, 'total_supply': 50000000000.0, 'max_supply': 50000000000.0, 'ath': 0.569229, 'ath_change_percentage': -87.53526, 'ath_date': '2021-09-15T10:40:28.318Z', 'atl': 0.00986111, 'atl_change_percentage': 619.52259, 'atl_date': '2020-01-02T17:30:24.852Z', 'roi': None, 'last_updated': '2024-01-31T20:17:21.005Z'}, {'id': 'arbitrum', 'symbol': 'arb', 'name': 'Arbitrum', 'image': 'https://assets.coingecko.com/coins/images/16547/large/photo_2023-03-29_21.47.00.jpeg?1696516109', 'current_price': 1.8, 'market_cap': 2294266428, 'market_cap_rank': 41, 'fully_diluted_valuation': 17994246494, 'total_volume': 488698980, 'high_24h': 1.95, 'low_24h': 1.78, 'price_change_24h': -0.14715474253913619, 'price_change_percentage_24h': -7.54946, 'market_cap_change_24h': -188772314.20347452, 'market_cap_change_percentage_24h': -7.60247, 'circulating_supply': 1275000000.0, 'total_supply': 10000000000.0, 'max_supply': 10000000000.0, 'ath': 2.39, 'ath_change_percentage': -24.04881, 'ath_date': '2024-01-12T12:29:59.231Z', 'atl': 0.744925, 'atl_change_percentage': 143.70887, 'atl_date': '2023-09-11T19:40:49.196Z', 'roi': None, 'last_updated': '2024-01-31T20:17:21.403Z'}, {'id': 'kaspa', 'symbol': 'kas', 'name': 'Kaspa', 'image': 'https://assets.coingecko.com/coins/images/25751/large/kaspa-icon-exchanges.png?1696524837', 'current_price': 0.1012, 'market_cap': 2275478268, 'market_cap_rank': 42, 'fully_diluted_valuation': 2275447641, 'total_volume': 17791028, 'high_24h': 0.106127, 'low_24h': 0.099431, 'price_change_24h': -0.004674356603429645, 'price_change_percentage_24h': -4.41502, 'market_cap_change_24h': -109953124.43338442, 'market_cap_change_percentage_24h': -4.60936, 'circulating_supply': 22520776242.5199, 'total_supply': 22520842613.2048, 'max_supply': 28704026601.0, 'ath': 0.152699, 'ath_change_percentage': -33.69359, 'ath_date': '2023-11-19T21:34:58.238Z', 'atl': 0.00017105, 'atl_change_percentage': 59093.07179, 'atl_date': '2022-05-26T14:42:59.316Z', 'roi': None, 'last_updated': '2024-01-31T20:16:55.414Z'}, {'id': 'blockstack', 'symbol': 'stx', 'name': 'Stacks', 'image': 'https://assets.coingecko.com/coins/images/2069/large/Stacks_logo_full.png?1696503035', 'current_price': 1.52, 'market_cap': 2205093212, 'market_cap_rank': 43, 'fully_diluted_valuation': 2789224692, 'total_volume': 52037574, 'high_24h': 1.58, 'low_24h': 1.47, 'price_change_24h': -0.04137856085458136, 'price_change_percentage_24h': -2.64802, 'market_cap_change_24h': -42589857.47614479, 'market_cap_change_percentage_24h': -1.89483, 'circulating_supply': 1437266589.18199, 'total_supply': 1818000000.0, 'max_supply': 1818000000.0, 'ath': 3.39, 'ath_change_percentage': -54.66799, 'ath_date': '2021-12-01T01:32:34.725Z', 'atl': 0.04559639, 'atl_change_percentage': 3269.98212, 'atl_date': '2020-03-13T02:29:26.415Z', 'roi': {'times': 11.677056851880925, 'currency': 'usd', 'percentage': 1167.7056851880925}, 'last_updated': '2024-01-31T20:17:10.651Z'}, {'id': 'crypto-com-chain', 'symbol': 'cro', 'name': 'Cronos', 'image': 'https://assets.coingecko.com/coins/images/7310/large/cro_token_logo.png?1696507599', 'current_price': 0.080908, 'market_cap': 2136188795, 'market_cap_rank': 44, 'fully_diluted_valuation': 2417613635, 'total_volume': 7783760, 'high_24h': 0.085481, 'low_24h': 0.080432, 'price_change_24h': -0.004572889348259641, 'price_change_percentage_24h': -5.34961, 'market_cap_change_24h': -124247515.50055408, 'market_cap_change_percentage_24h': -5.49662, 'circulating_supply': 26507818672.218, 'total_supply': 30000000000.0, 'max_supply': None, 'ath': 0.965407, 'ath_change_percentage': -91.56262, 'ath_date': '2021-11-24T15:53:54.855Z', 'atl': 0.0121196, 'atl_change_percentage': 572.09355, 'atl_date': '2019-02-08T00:00:00.000Z', 'roi': None, 'last_updated': '2024-01-31T20:17:21.742Z'}, {'id': 'vechain', 'symbol': 'vet', 'name': 'VeChain', 'image': 'https://assets.coingecko.com/coins/images/1167/large/VET_Token_Icon.png?1696502256', 'current_price': 0.02837107, 'market_cap': 2054776171, 'market_cap_rank': 45, 'fully_diluted_valuation': 2429776355, 'total_volume': 43137150, 'high_24h': 0.02911992, 'low_24h': 0.02775878, 'price_change_24h': -0.00067826919009854, 'price_change_percentage_24h': -2.33489, 'market_cap_change_24h': -57825586.24065995, 'market_cap_change_percentage_24h': -2.73717, 'circulating_supply': 72714516834.0, 'total_supply': 85985041177.0, 'max_supply': 86712634466.0, 'ath': 0.280991, 'ath_change_percentage': -89.83302, 'ath_date': '2021-04-19T01:08:21.675Z', 'atl': 0.00191713, 'atl_change_percentage': 1390.15722, 'atl_date': '2020-03-13T02:29:59.652Z', 'roi': {'times': 3.3127384266333757, 'currency': 'eth', 'percentage': 331.2738426633376}, 'last_updated': '2024-01-31T20:17:17.246Z'}, {'id': 'mantle', 'symbol': 'mnt', 'name': 'Mantle', 'image': 'https://assets.coingecko.com/coins/images/30980/large/token-logo.png?1696529819', 'current_price': 0.588904, 'market_cap': 1856602275, 'market_cap_rank': 46, 'fully_diluted_valuation': 3646067912, 'total_volume': 103876768, 'high_24h': 0.606768, 'low_24h': 0.577427, 'price_change_24h': -0.01591136543000971, 'price_change_percentage_24h': -2.63078, 'market_cap_change_24h': -58124325.252099276, 'market_cap_change_percentage_24h': -3.03565, 'circulating_supply': 3166917893.03314, 'total_supply': 6219316794.99, 'max_supply': 6219316794.99, 'ath': 0.849137, 'ath_change_percentage': -30.98619, 'ath_date': '2024-01-11T13:25:10.126Z', 'atl': 0.307978, 'atl_change_percentage': 90.2808, 'atl_date': '2023-10-18T02:50:46.942Z', 'roi': None, 'last_updated': '2024-01-31T20:17:07.110Z'}, {'id': 'maker', 'symbol': 'mkr', 'name': 'Maker', 'image': 'https://assets.coingecko.com/coins/images/1364/large/Mark_Maker.png?1696502423', 'current_price': 1965.55, 'market_cap': 1811296239, 'market_cap_rank': 47, 'fully_diluted_valuation': 1919684276, 'total_volume': 69300421, 'high_24h': 2040.97, 'low_24h': 1950.35, 'price_change_24h': -65.63716382845223, 'price_change_percentage_24h': -3.23146, 'market_cap_change_24h': -63106730.13032913, 'market_cap_change_percentage_24h': -3.36676, 'circulating_supply': 922432.632575491, 'total_supply': 977631.036950888, 'max_supply': 1005577.0, 'ath': 6292.31, 'ath_change_percentage': -68.54549, 'ath_date': '2021-05-03T21:54:29.333Z', 'atl': 168.36, 'atl_change_percentage': 1075.60309, 'atl_date': '2020-03-16T20:52:36.527Z', 'roi': None, 'last_updated': '2024-01-31T20:17:24.847Z'}, {'id': 'sui', 'symbol': 'sui', 'name': 'Sui', 'image': 'https://assets.coingecko.com/coins/images/26375/large/sui_asset.jpeg?1696525453', 'current_price': 1.58, 'market_cap': 1735327718, 'market_cap_rank': 48, 'fully_diluted_valuation': 15762133686, 'total_volume': 486108458, 'high_24h': 1.63, 'low_24h': 1.49, 'price_change_24h': 0.04500039, 'price_change_percentage_24h': 2.93453, 'market_cap_change_24h': 46919030, 'market_cap_change_percentage_24h': 2.77889, 'circulating_supply': 1100947214.55346, 'total_supply': 10000000000.0, 'max_supply': 10000000000.0, 'ath': 2.16, 'ath_change_percentage': -26.53868, 'ath_date': '2023-05-03T12:00:26.430Z', 'atl': 0.364846, 'atl_change_percentage': 335.41975, 'atl_date': '2023-10-19T10:40:30.078Z', 'roi': None, 'last_updated': '2024-01-31T20:17:14.781Z'}, {'id': 'render-token', 'symbol': 'rndr', 'name': 'Render', 'image': 'https://assets.coingecko.com/coins/images/11636/large/rndr.png?1696511529', 'current_price': 4.46, 'market_cap': 1675165601, 'market_cap_rank': 49, 'fully_diluted_valuation': 2364983369, 'total_volume': 186290487, 'high_24h': 4.72, 'low_24h': 4.41, 'price_change_24h': -0.2453440423655877, 'price_change_percentage_24h': -5.21836, 'market_cap_change_24h': -105772410.1128335, 'market_cap_change_percentage_24h': -5.93914, 'circulating_supply': 376146335.687948, 'total_supply': 531039932.967948, 'max_supply': 531039932.967948, 'ath': 8.78, 'ath_change_percentage': -48.69935, 'ath_date': '2021-11-21T10:03:19.097Z', 'atl': 0.03665669, 'atl_change_percentage': 12191.72786, 'atl_date': '2020-06-16T13:22:25.900Z', 'roi': None, 'last_updated': '2024-01-31T20:17:14.579Z'}, {'id': 'sei-network', 'symbol': 'sei', 'name': 'Sei', 'image': 'https://assets.coingecko.com/coins/images/28205/large/Sei_Logo_-_Transparent.png?1696527207', 'current_price': 0.677783, 'market_cap': 1662682533, 'market_cap_rank': 50, 'fully_diluted_valuation': 6856422816, 'total_volume': 269349938, 'high_24h': 0.739294, 'low_24h': 0.673436, 'price_change_24h': -0.05993496048801228, 'price_change_percentage_24h': -8.12438, 'market_cap_change_24h': -130686583.3027978, 'market_cap_change_percentage_24h': -7.28721, 'circulating_supply': 2425000000.0, 'total_supply': 10000000000.0, 'max_supply': None, 'ath': 0.877895, 'ath_change_percentage': -22.60342, 'ath_date': '2024-01-03T21:20:26.826Z', 'atl': 0.095364, 'atl_change_percentage': 612.49318, 'atl_date': '2023-10-19T08:05:30.655Z', 'roi': None, 'last_updated': '2024-01-31T20:17:20.407Z'}, {'id': 'quant-network', 'symbol': 'qnt', 'name': 'Quant', 'image': 'https://assets.coingecko.com/coins/images/3370/large/5ZOu7brX_400x400.jpg?1696504070', 'current_price': 103.43, 'market_cap': 1503076582, 'market_cap_rank': 51, 'fully_diluted_valuation': 1510136826, 'total_volume': 26253456, 'high_24h': 107.35, 'low_24h': 102.12, 'price_change_24h': -3.8758938718169134, 'price_change_percentage_24h': -3.61208, 'market_cap_change_24h': -56852353.97013235, 'market_cap_change_percentage_24h': -3.64455, 'circulating_supply': 14544176.164091088, 'total_supply': 14612493.0, 'max_supply': 14612493.0, 'ath': 427.42, 'ath_change_percentage': -75.62729, 'ath_date': '2021-09-11T09:15:00.668Z', 'atl': 0.215773, 'atl_change_percentage': 48179.56975, 'atl_date': '2018-08-23T00:00:00.000Z', 'roi': {'times': 18.31591655262655, 'currency': 'eth', 'percentage': 1831.591655262655}, 'last_updated': '2024-01-31T20:17:17.806Z'}, {'id': 'the-graph', 'symbol': 'grt', 'name': 'The Graph', 'image': 'https://assets.coingecko.com/coins/images/13397/large/Graph_Token.png?1696513159', 'current_price': 0.156082, 'market_cap': 1461228770, 'market_cap_rank': 54, 'fully_diluted_valuation': 1678722633, 'total_volume': 51890424, 'high_24h': 0.162876, 'low_24h': 0.153609, 'price_change_24h': -0.006781219669670463, 'price_change_percentage_24h': -4.16376, 'market_cap_change_24h': -69202682.59236622, 'market_cap_change_percentage_24h': -4.52178, 'circulating_supply': 9390319737.05767, 'total_supply': 10788004319.0, 'max_supply': 10788004319.0, 'ath': 2.84, 'ath_change_percentage': -94.46616, 'ath_date': '2021-02-12T07:28:45.775Z', 'atl': 0.052051, 'atl_change_percentage': 202.09649, 'atl_date': '2022-11-22T10:05:03.503Z', 'roi': None, 'last_updated': '2024-01-31T20:17:24.987Z'}, {'id': 'true-usd', 'symbol': 'tusd', 'name': 'TrueUSD', 'image': 'https://assets.coingecko.com/coins/images/3449/large/tusd.png?1696504140', 'current_price': 0.982129, 'market_cap': 1459006178, 'market_cap_rank': 53, 'fully_diluted_valuation': 1459006178, 'total_volume': 79334697, 'high_24h': 0.993601, 'low_24h': 0.981157, 'price_change_24h': -0.009106664890027427, 'price_change_percentage_24h': -0.91872, 'market_cap_change_24h': -19172659.004128218, 'market_cap_change_percentage_24h': -1.29705, 'circulating_supply': 1488457471.81, 'total_supply': 1488457471.81, 'max_supply': None, 'ath': 1.62, 'ath_change_percentage': -38.89508, 'ath_date': '2018-08-26T20:41:09.375Z', 'atl': 0.88355, 'atl_change_percentage': 11.9338, 'atl_date': '2020-03-12T10:47:51.380Z', 'roi': None, 'last_updated': '2024-01-31T20:17:17.847Z'}, {'id': 'thorchain', 'symbol': 'rune', 'name': 'THORChain', 'image': 'https://assets.coingecko.com/coins/images/6595/large/Rune200x200.png?1696506946', 'current_price': 4.8, 'market_cap': 1440032697, 'market_cap_rank': 56, 'fully_diluted_valuation': 2394462937, 'total_volume': 411984425, 'high_24h': 4.93, 'low_24h': 4.63, 'price_change_24h': 0.04820514, 'price_change_percentage_24h': 1.01396, 'market_cap_change_24h': 11527557, 'market_cap_change_percentage_24h': 0.80697, 'circulating_supply': 300700561.0, 'total_supply': 500000000.0, 'max_supply': 500000000.0, 'ath': 20.87, 'ath_change_percentage': -76.73907, 'ath_date': '2021-05-19T00:30:09.436Z', 'atl': 0.00851264, 'atl_change_percentage': 56920.98509, 'atl_date': '2019-09-28T00:00:00.000Z', 'roi': {'times': 125.37804772329713, 'currency': 'usd', 'percentage': 12537.804772329713}, 'last_updated': '2024-01-31T20:17:08.342Z'}, {'id': 'elrond-erd-2', 'symbol': 'egld', 'name': 'MultiversX', 'image': 'https://assets.coingecko.com/coins/images/12335/large/egld-token-logo.png?1696512162', 'current_price': 53.9, 'market_cap': 1425328757, 'market_cap_rank': 52, 'fully_diluted_valuation': 1425605652, 'total_volume': 35640629, 'high_24h': 58.21, 'low_24h': 53.76, 'price_change_24h': -4.219429584966996, 'price_change_percentage_24h': -7.25949, 'market_cap_change_24h': -117877169.95966887, 'market_cap_change_percentage_24h': -7.63846, 'circulating_supply': 26520120.0, 'total_supply': 26525272.0, 'max_supply': 31415926.0, 'ath': 545.64, 'ath_change_percentage': -90.0012, 'ath_date': '2021-11-23T10:33:26.737Z', 'atl': 6.51, 'atl_change_percentage': 738.48498, 'atl_date': '2020-10-07T01:44:53.554Z', 'roi': None, 'last_updated': '2024-01-31T20:17:23.216Z'}, {'id': 'rocket-pool-eth', 'symbol': 'reth', 'name': 'Rocket Pool ETH', 'image': 'https://assets.coingecko.com/coins/images/20764/large/reth.png?1696520159', 'current_price': 2534.41, 'market_cap': 1422094874, 'market_cap_rank': 55, 'fully_diluted_valuation': 1422094874, 'total_volume': 7806342, 'high_24h': 2616.61, 'low_24h': 2506.12, 'price_change_24h': -69.37990062230801, 'price_change_percentage_24h': -2.66458, 'market_cap_change_24h': -38915238.67014122, 'market_cap_change_percentage_24h': -2.66358, 'circulating_supply': 561021.911344942, 'total_supply': 561021.911344942, 'max_supply': None, 'ath': 4814.31, 'ath_change_percentage': -47.1697, 'ath_date': '2021-12-01T08:03:50.749Z', 'atl': 887.26, 'atl_change_percentage': 186.65829, 'atl_date': '2022-06-18T20:55:45.957Z', 'roi': None, 'last_updated': '2024-01-31T20:17:19.072Z'}, {'id': 'bitcoin-cash-sv', 'symbol': 'bsv', 'name': 'Bitcoin SV', 'image': 'https://assets.coingecko.com/coins/images/6799/large/BSV.png?1696507128', 'current_price': 70.04, 'market_cap': 1376608975, 'market_cap_rank': 57, 'fully_diluted_valuation': 1473279338, 'total_volume': 51445437, 'high_24h': 72.89, 'low_24h': 68.63, 'price_change_24h': -2.60975808947272, 'price_change_percentage_24h': -3.59247, 'market_cap_change_24h': -50076318.451135874, 'market_cap_change_percentage_24h': -3.50998, 'circulating_supply': 19622068.75, 'total_supply': 21000000.0, 'max_supply': 21000000.0, 'ath': 489.75, 'ath_change_percentage': -85.57415, 'ath_date': '2021-04-16T17:09:04.630Z', 'atl': 21.43, 'atl_change_percentage': 229.60686, 'atl_date': '2023-06-10T04:32:12.266Z', 'roi': None, 'last_updated': '2024-01-31T20:17:19.279Z'}, {'id': 'algorand', 'symbol': 'algo', 'name': 'Algorand', 'image': 'https://assets.coingecko.com/coins/images/4380/large/download.png?1696504978', 'current_price': 0.160936, 'market_cap': 1290443046, 'market_cap_rank': 58, 'fully_diluted_valuation': 1290443122, 'total_volume': 37386120, 'high_24h': 0.168698, 'low_24h': 0.158183, 'price_change_24h': -0.007345684627294957, 'price_change_percentage_24h': -4.3651, 'market_cap_change_24h': -64175775.8593061, 'market_cap_change_percentage_24h': -4.73755, 'circulating_supply': 8046490828.2953, 'total_supply': 8046490657.31391, 'max_supply': 10000000000.0, 'ath': 3.56, 'ath_change_percentage': -95.44539, 'ath_date': '2019-06-20T14:51:19.480Z', 'atl': 0.087513, 'atl_change_percentage': 85.33897, 'atl_date': '2023-09-11T19:42:08.247Z', 'roi': {'times': -0.9329431946666195, 'currency': 'usd', 'percentage': -93.29431946666195}, 'last_updated': '2024-01-31T20:17:04.955Z'}, {'id': 'ordinals', 'symbol': 'ordi', 'name': 'ORDI', 'image': 'https://assets.coingecko.com/coins/images/30162/large/ordi.png?1696529082', 'current_price': 60.96, 'market_cap': 1279176359, 'market_cap_rank': 60, 'fully_diluted_valuation': 1279176359, 'total_volume': 250595458, 'high_24h': 64.29, 'low_24h': 58.54, 'price_change_24h': -1.8207563506307878, 'price_change_percentage_24h': -2.90004, 'market_cap_change_24h': -41866396.60044265, 'market_cap_change_percentage_24h': -3.16919, 'circulating_supply': 21000000.0, 'total_supply': 21000000.0, 'max_supply': None, 'ath': 89.94, 'ath_change_percentage': -32.17962, 'ath_date': '2024-01-02T11:30:17.565Z', 'atl': 2.86, 'atl_change_percentage': 2032.05563, 'atl_date': '2023-09-11T15:22:32.140Z', 'roi': None, 'last_updated': '2024-01-31T20:16:53.747Z'}, {'id': 'aave', 'symbol': 'aave', 'name': 'Aave', 'image': 'https://assets.coingecko.com/coins/images/12645/large/AAVE.png?1696512452', 'current_price': 86.61, 'market_cap': 1269721254, 'market_cap_rank': 59, 'fully_diluted_valuation': 1380509515, 'total_volume': 216228266, 'high_24h': 95.24, 'low_24h': 85.46, 'price_change_24h': -7.8020217298459755, 'price_change_percentage_24h': -8.26395, 'market_cap_change_24h': -118745427.66609216, 'market_cap_change_percentage_24h': -8.55227, 'circulating_supply': 14715972.501465166, 'total_supply': 16000000.0, 'max_supply': 16000000.0, 'ath': 661.69, 'ath_change_percentage': -86.79194, 'ath_date': '2021-05-18T21:19:59.514Z', 'atl': 26.02, 'atl_change_percentage': 235.84113, 'atl_date': '2020-11-05T09:20:11.928Z', 'roi': None, 'last_updated': '2024-01-31T20:17:24.188Z'}, {'id': 'mina-protocol', 'symbol': 'mina', 'name': 'Mina Protocol', 'image': 'https://assets.coingecko.com/coins/images/15628/large/JM4_vQ34_400x400.png?1696515261', 'current_price': 1.18, 'market_cap': 1227484013, 'market_cap_rank': 61, 'fully_diluted_valuation': 1317565331, 'total_volume': 49227871, 'high_24h': 1.19, 'low_24h': 1.11, 'price_change_24h': 0.0238562, 'price_change_percentage_24h': 2.06558, 'market_cap_change_24h': 17066312, 'market_cap_change_percentage_24h': 1.40995, 'circulating_supply': 1044201332.84004, 'total_supply': 1120840012.84004, 'max_supply': None, 'ath': 9.09, 'ath_change_percentage': -87.04392, 'ath_date': '2021-06-01T01:42:37.064Z', 'atl': 0.351341, 'atl_change_percentage': 235.21609, 'atl_date': '2023-10-11T04:00:22.740Z', 'roi': None, 'last_updated': '2024-01-31T20:17:13.450Z'}, {'id': 'helium', 'symbol': 'hnt', 'name': 'Helium', 'image': 'https://assets.coingecko.com/coins/images/4284/large/Helium_HNT.png?1696504894', 'current_price': 7.69, 'market_cap': 1110896262, 'market_cap_rank': 63, 'fully_diluted_valuation': 1721125334, 'total_volume': 12272744, 'high_24h': 7.97, 'low_24h': 7.39, 'price_change_24h': -0.2711673932708436, 'price_change_percentage_24h': -3.40625, 'market_cap_change_24h': -36532029.41501665, 'market_cap_change_percentage_24h': -3.18382, 'circulating_supply': 143934820.830308, 'total_supply': 223000000.0, 'max_supply': 223000000.0, 'ath': 54.88, 'ath_change_percentage': -85.79463, 'ath_date': '2021-11-12T23:08:25.301Z', 'atl': 0.113248, 'atl_change_percentage': 6783.57364, 'atl_date': '2020-04-18T00:19:10.902Z', 'roi': None, 'last_updated': '2024-01-31T20:17:08.077Z'}, {'id': 'tokenize-xchange', 'symbol': 'tkx', 'name': 'Tokenize Xchange', 'image': 'https://assets.coingecko.com/coins/images/4984/large/TKX_-_Logo_-_RGB-15.png?1696505519', 'current_price': 13.74, 'market_cap': 1093389878, 'market_cap_rank': 62, 'fully_diluted_valuation': 1366805688, 'total_volume': 20154191, 'high_24h': 14.07, 'low_24h': 13.68, 'price_change_24h': -0.3272713264400764, 'price_change_percentage_24h': -2.3261, 'market_cap_change_24h': -32544873.586507797, 'market_cap_change_percentage_24h': -2.89048, 'circulating_supply': 79995999.94518414, 'total_supply': 100000000.0, 'max_supply': 100000000.0, 'ath': 22.3, 'ath_change_percentage': -38.02229, 'ath_date': '2022-10-31T10:23:59.455Z', 'atl': 0.111255, 'atl_change_percentage': 12320.77482, 'atl_date': '2019-04-28T00:00:00.000Z', 'roi': {'times': 46.305470325186505, 'currency': 'usd', 'percentage': 4630.547032518651}, 'last_updated': '2024-01-31T20:17:13.681Z'}, {'id': 'sats-ordinals', 'symbol': 'sats', 'name': 'SATS (Ordinals)', 'image': 'https://assets.coingecko.com/coins/images/30666/large/_dD8qr3M_400x400.png?1702913020', 'current_price': 5.15965e-07, 'market_cap': 1083359980, 'market_cap_rank': 65, 'fully_diluted_valuation': 1083359980, 'total_volume': 48493008, 'high_24h': 5.46234e-07, 'low_24h': 4.83001e-07, 'price_change_24h': -1.5924623e-10, 'price_change_percentage_24h': -0.03085, 'market_cap_change_24h': -3049896.3470232487, 'market_cap_change_percentage_24h': -0.28073, 'circulating_supply': 2100000000000000.0, 'total_supply': 2100000000000000.0, 'max_supply': 2100000000000000.0, 'ath': 9.22983e-07, 'ath_change_percentage': -44.09527, 'ath_date': '2023-12-15T11:45:07.985Z', 'atl': 3.189e-09, 'atl_change_percentage': 16079.81095, 'atl_date': '2023-07-08T13:03:18.882Z', 'roi': None, 'last_updated': '2024-01-31T20:17:00.507Z'}, {'id': 'flow', 'symbol': 'flow', 'name': 'Flow', 'image': 'https://assets.coingecko.com/coins/images/13446/large/5f6294c0c7a8cda55cb1c936_Flow_Wordmark.png?1696513210', 'current_price': 0.721664, 'market_cap': 1073446308, 'market_cap_rank': 64, 'fully_diluted_valuation': 1073446308, 'total_volume': 38512783, 'high_24h': 0.755871, 'low_24h': 0.709836, 'price_change_24h': -0.03218600611802602, 'price_change_percentage_24h': -4.26955, 'market_cap_change_24h': -47736357.47570896, 'market_cap_change_percentage_24h': -4.25768, 'circulating_supply': 1486463326.0, 'total_supply': 1486463325.89509, 'max_supply': 1486463325.89509, 'ath': 42.4, 'ath_change_percentage': -98.27837, 'ath_date': '2021-04-05T13:49:10.098Z', 'atl': 0.391969, 'atl_change_percentage': 86.21972, 'atl_date': '2023-09-11T19:41:06.528Z', 'roi': None, 'last_updated': '2024-01-31T20:17:13.214Z'}, {'id': 'osmosis', 'symbol': 'osmo', 'name': 'Osmosis', 'image': 'https://assets.coingecko.com/coins/images/16724/large/osmo.png?1696516298', 'current_price': 1.62, 'market_cap': 1024761400, 'market_cap_rank': 66, 'fully_diluted_valuation': 1617874960, 'total_volume': 33347209, 'high_24h': 1.72, 'low_24h': 1.6, 'price_change_24h': -0.09113356691557217, 'price_change_percentage_24h': -5.32981, 'market_cap_change_24h': -58038065.77968049, 'market_cap_change_percentage_24h': -5.36, 'circulating_supply': 633386517.0, 'total_supply': 999979298.0, 'max_supply': 1000000000.0, 'ath': 11.25, 'ath_change_percentage': -85.53673, 'ath_date': '2022-03-04T05:12:18.707Z', 'atl': 0.224523, 'atl_change_percentage': 624.64053, 'atl_date': '2023-10-19T17:45:36.695Z', 'roi': None, 'last_updated': '2024-01-31T20:17:15.413Z'}, {'id': 'astar', 'symbol': 'astr', 'name': 'Astar', 'image': 'https://assets.coingecko.com/coins/images/22617/large/astr.png?1696521933', 'current_price': 0.181107, 'market_cap': 1020260913, 'market_cap_rank': 70, 'fully_diluted_valuation': 1538188466, 'total_volume': 35005744, 'high_24h': 0.186433, 'low_24h': 0.175158, 'price_change_24h': -0.003744773397610951, 'price_change_percentage_24h': -2.02582, 'market_cap_change_24h': -4850400.194305658, 'market_cap_change_percentage_24h': -0.47316, 'circulating_supply': 5555019193.0, 'total_supply': 8375021737.0, 'max_supply': None, 'ath': 0.421574, 'ath_change_percentage': -56.75982, 'ath_date': '2022-01-17T13:34:36.289Z', 'atl': 0.03269521, 'atl_change_percentage': 457.54079, 'atl_date': '2022-10-13T13:05:41.982Z', 'roi': None, 'last_updated': '2024-01-31T20:17:25.743Z'}, {'id': 'havven', 'symbol': 'snx', 'name': 'Synthetix Network', 'image': 'https://assets.coingecko.com/coins/images/3406/large/SNX.png?1696504103', 'current_price': 3.11, 'market_cap': 1015895217, 'market_cap_rank': 67, 'fully_diluted_valuation': 1017209087, 'total_volume': 25866987, 'high_24h': 3.28, 'low_24h': 3.06, 'price_change_24h': -0.17222839450756622, 'price_change_percentage_24h': -5.25381, 'market_cap_change_24h': -59906641.924346685, 'market_cap_change_percentage_24h': -5.56856, 'circulating_supply': 327769196.13952357, 'total_supply': 328193104.088774, 'max_supply': 328193104.088774, 'ath': 28.53, 'ath_change_percentage': -89.03079, 'ath_date': '2021-02-14T01:12:38.505Z', 'atl': 0.0347864, 'atl_change_percentage': 8897.09959, 'atl_date': '2019-01-06T00:00:00.000Z', 'roi': {'times': 5.21186100910856, 'currency': 'usd', 'percentage': 521.186100910856}, 'last_updated': '2024-01-31T20:17:10.333Z'}, {'id': 'fantom', 'symbol': 'ftm', 'name': 'Fantom', 'image': 'https://assets.coingecko.com/coins/images/4001/large/Fantom_round.png?1696504642', 'current_price': 0.362219, 'market_cap': 1011926855, 'market_cap_rank': 68, 'fully_diluted_valuation': 1145965132, 'total_volume': 101943657, 'high_24h': 0.389402, 'low_24h': 0.355783, 'price_change_24h': -0.0257080760433252, 'price_change_percentage_24h': -6.62703, 'market_cap_change_24h': -77820056.3450464, 'market_cap_change_percentage_24h': -7.14111, 'circulating_supply': 2803634835.52659, 'total_supply': 3175000000.0, 'max_supply': 3175000000.0, 'ath': 3.46, 'ath_change_percentage': -89.4222, 'ath_date': '2021-10-28T05:19:39.845Z', 'atl': 0.00190227, 'atl_change_percentage': 19131.81091, 'atl_date': '2020-03-13T02:25:38.280Z', 'roi': {'times': 11.07397611591603, 'currency': 'usd', 'percentage': 1107.397611591603}, 'last_updated': '2024-01-31T20:17:03.252Z'}, {'id': 'dydx-chain', 'symbol': 'dydx', 'name': 'dYdX', 'image': 'https://assets.coingecko.com/coins/images/32594/large/dydx.png?1698673495', 'current_price': 2.69, 'market_cap': 1008047732, 'market_cap_rank': 69, 'fully_diluted_valuation': 1844979479, 'total_volume': 16180465, 'high_24h': 2.88, 'low_24h': 2.64, 'price_change_24h': -0.1824830720298949, 'price_change_percentage_24h': -6.36037, 'market_cap_change_24h': -82556548.24533308, 'market_cap_change_percentage_24h': -7.5698, 'circulating_supply': 377821714.5, 'total_supply': 691508237.0, 'max_supply': 1000000000.0, 'ath': 3.73, 'ath_change_percentage': -28.4015, 'ath_date': '2023-12-03T23:23:34.201Z', 'atl': 2.3, 'atl_change_percentage': 16.0985, 'atl_date': '2024-01-03T12:14:30.340Z', 'roi': None, 'last_updated': '2024-01-31T20:17:19.311Z'}, {'id': 'the-sandbox', 'symbol': 'sand', 'name': 'The Sandbox', 'image': 'https://assets.coingecko.com/coins/images/12129/large/sandbox_logo.jpg?1696511971', 'current_price': 0.445099, 'market_cap': 992815362, 'market_cap_rank': 71, 'fully_diluted_valuation': 1331011123, 'total_volume': 85736822, 'high_24h': 0.466028, 'low_24h': 0.436521, 'price_change_24h': -0.019930143918354903, 'price_change_percentage_24h': -4.28578, 'market_cap_change_24h': -47570552.984678745, 'market_cap_change_percentage_24h': -4.57239, 'circulating_supply': 2237731926.2233224, 'total_supply': 3000000000.0, 'max_supply': 3000000000.0, 'ath': 8.4, 'ath_change_percentage': -94.65949, 'ath_date': '2021-11-25T06:04:40.957Z', 'atl': 0.02897764, 'atl_change_percentage': 1447.5088, 'atl_date': '2020-11-04T15:59:14.441Z', 'roi': None, 'last_updated': '2024-01-31T20:17:20.125Z'}, {'id': 'theta-token', 'symbol': 'theta', 'name': 'Theta Network', 'image': 'https://assets.coingecko.com/coins/images/2538/large/theta-token-logo.png?1696503349', 'current_price': 0.977026, 'market_cap': 973762927, 'market_cap_rank': 72, 'fully_diluted_valuation': 973762927, 'total_volume': 19723343, 'high_24h': 1.029, 'low_24h': 0.960684, 'price_change_24h': -0.05046510853530939, 'price_change_percentage_24h': -4.91149, 'market_cap_change_24h': -54053927.25758648, 'market_cap_change_percentage_24h': -5.2591, 'circulating_supply': 1000000000.0, 'total_supply': 1000000000.0, 'max_supply': 1000000000.0, 'ath': 15.72, 'ath_change_percentage': -93.71903, 'ath_date': '2021-04-16T13:15:11.190Z', 'atl': 0.04039979, 'atl_change_percentage': 2343.95121, 'atl_date': '2020-03-13T02:24:16.483Z', 'roi': {'times': 5.513505795382772, 'currency': 'usd', 'percentage': 551.3505795382773}, 'last_updated': '2024-01-31T20:17:23.681Z'}, {'id': 'axie-infinity', 'symbol': 'axs', 'name': 'Axie Infinity', 'image': 'https://assets.coingecko.com/coins/images/13029/large/axie_infinity_logo.png?1696512817', 'current_price': 7.02, 'market_cap': 954157476, 'market_cap_rank': 74, 'fully_diluted_valuation': 1885614733, 'total_volume': 88046932, 'high_24h': 7.55, 'low_24h': 6.96, 'price_change_24h': -0.529383131172934, 'price_change_percentage_24h': -7.01393, 'market_cap_change_24h': -74431472.45989954, 'market_cap_change_percentage_24h': -7.23627, 'circulating_supply': 136625215.077578, 'total_supply': 270000000.0, 'max_supply': 270000000.0, 'ath': 164.9, 'ath_change_percentage': -95.71759, 'ath_date': '2021-11-06T19:29:29.482Z', 'atl': 0.123718, 'atl_change_percentage': 5607.80395, 'atl_date': '2020-11-06T08:05:43.662Z', 'roi': None, 'last_updated': '2024-01-31T20:17:19.236Z'}, {'id': 'whitebit', 'symbol': 'wbt', 'name': 'WhiteBIT Coin', 'image': 'https://assets.coingecko.com/coins/images/27045/large/wbt_token.png?1696526096', 'current_price': 6.46, 'market_cap': 927152779, 'market_cap_rank': 75, 'fully_diluted_valuation': 2315192084, 'total_volume': 7019772, 'high_24h': 6.5, 'low_24h': 6.33, 'price_change_24h': 0.090972, 'price_change_percentage_24h': 1.42904, 'market_cap_change_24h': 8967523, 'market_cap_change_percentage_24h': 0.97666, 'circulating_supply': 144118517.10815412, 'total_supply': 359878175.0, 'max_supply': 400000000.0, 'ath': 14.64, 'ath_change_percentage': -55.90407, 'ath_date': '2022-10-28T12:32:18.119Z', 'atl': 3.06, 'atl_change_percentage': 110.91702, 'atl_date': '2023-02-13T19:01:21.899Z', 'roi': None, 'last_updated': '2024-01-31T20:16:49.794Z'}, {'id': 'kucoin-shares', 'symbol': 'kcs', 'name': 'KuCoin', 'image': 'https://assets.coingecko.com/coins/images/1047/large/sa9z79.png?1696502152', 'current_price': 9.58, 'market_cap': 919957588, 'market_cap_rank': 76, 'fully_diluted_valuation': 1372801341, 'total_volume': 261131, 'high_24h': 9.99, 'low_24h': 9.39, 'price_change_24h': -0.3842022858030596, 'price_change_percentage_24h': -3.85593, 'market_cap_change_24h': -41768036.78943503, 'market_cap_change_percentage_24h': -4.34303, 'circulating_supply': 96496827.2890287, 'total_supply': 143996827.288945, 'max_supply': None, 'ath': 28.83, 'ath_change_percentage': -66.68751, 'ath_date': '2021-12-01T15:09:35.541Z', 'atl': 0.342863, 'atl_change_percentage': 2701.10505, 'atl_date': '2019-02-07T00:00:00.000Z', 'roi': None, 'last_updated': '2024-01-31T20:17:07.786Z'}, {'id': 'beam-2', 'symbol': 'beam', 'name': 'Beam', 'image': 'https://assets.coingecko.com/coins/images/32417/large/chain-logo.png?1698114384', 'current_price': 0.01757052, 'market_cap': 897270348, 'market_cap_rank': 77, 'fully_diluted_valuation': 1098833548, 'total_volume': 14563854, 'high_24h': 0.01911743, 'low_24h': 0.01733456, 'price_change_24h': -0.001498414010322826, 'price_change_percentage_24h': -7.85788, 'market_cap_change_24h': -68688840.99372542, 'market_cap_change_percentage_24h': -7.11095, 'circulating_supply': 51112794995.4844, 'total_supply': 62594795429.7398, 'max_supply': 62594795429.7398, 'ath': 0.02720031, 'ath_change_percentage': -35.28291, 'ath_date': '2023-12-14T05:24:58.029Z', 'atl': 0.0043383, 'atl_change_percentage': 305.76368, 'atl_date': '2023-10-29T08:20:14.064Z', 'roi': None, 'last_updated': '2024-01-31T20:17:25.347Z'}, {'id': 'chiliz', 'symbol': 'chz', 'name': 'Chiliz', 'image': 'https://assets.coingecko.com/coins/images/8834/large/CHZ_Token_updated.png?1696508986', 'current_price': 0.099228, 'market_cap': 878783843, 'market_cap_rank': 78, 'fully_diluted_valuation': 878783843, 'total_volume': 68515895, 'high_24h': 0.104071, 'low_24h': 0.097656, 'price_change_24h': -0.004735313156914223, 'price_change_percentage_24h': -4.55479, 'market_cap_change_24h': -45928231.44306779, 'market_cap_change_percentage_24h': -4.96676, 'circulating_supply': 8888888888.0, 'total_supply': 8888888888.0, 'max_supply': 8888888888.0, 'ath': 0.878633, 'ath_change_percentage': -88.60685, 'ath_date': '2021-03-13T08:04:21.200Z', 'atl': 0.00410887, 'atl_change_percentage': 2336.28837, 'atl_date': '2019-09-28T00:00:00.000Z', 'roi': {'times': 3.510368474417016, 'currency': 'usd', 'percentage': 351.0368474417016}, 'last_updated': '2024-01-31T20:17:19.348Z'}, {'id': 'tezos', 'symbol': 'xtz', 'name': 'Tezos', 'image': 'https://assets.coingecko.com/coins/images/976/large/Tezos-logo.png?1696502091', 'current_price': 0.977726, 'market_cap': 877931054, 'market_cap_rank': 79, 'fully_diluted_valuation': 965709797, 'total_volume': 34088805, 'high_24h': 0.999546, 'low_24h': 0.95727, 'price_change_24h': -0.018657943111630937, 'price_change_percentage_24h': -1.87257, 'market_cap_change_24h': -20099015.430385232, 'market_cap_change_percentage_24h': -2.23812, 'circulating_supply': 900122644.917447, 'total_supply': 990122093.034962, 'max_supply': None, 'ath': 9.12, 'ath_change_percentage': -89.17908, 'ath_date': '2021-10-04T00:41:18.025Z', 'atl': 0.350476, 'atl_change_percentage': 181.45771, 'atl_date': '2018-12-07T00:00:00.000Z', 'roi': {'times': 1.0802676586810935, 'currency': 'usd', 'percentage': 108.02676586810936}, 'last_updated': '2024-01-31T20:17:20.012Z'}, {'id': 'jupiter-exchange-solana', 'symbol': 'jup', 'name': 'Jupiter', 'image': 'https://assets.coingecko.com/coins/images/34188/large/jup.png?1704266489', 'current_price': 0.637443, 'market_cap': 867212905, 'market_cap_rank': 73, 'fully_diluted_valuation': 6423799296, 'total_volume': 433390349, 'high_24h': 2.0, 'low_24h': 0.637596, 'price_change_24h': -1.362570188721904, 'price_change_percentage_24h': -68.12806, 'market_cap_change_24h': -1830071599.9245343, 'market_cap_change_percentage_24h': -67.84867, 'circulating_supply': 1350000000.0, 'total_supply': 10000000000.0, 'max_supply': 10000000000.0, 'ath': 2.0, 'ath_change_percentage': -68.00751, 'ath_date': '2024-01-31T15:02:47.304Z', 'atl': 0.638161, 'atl_change_percentage': 0.26523, 'atl_date': '2024-01-31T15:14:59.624Z', 'roi': None, 'last_updated': '2024-01-31T20:17:01.526Z'}, {'id': 'wemix-token', 'symbol': 'wemix', 'name': 'WEMIX', 'image': 'https://assets.coingecko.com/coins/images/12998/large/wemixcoin_color_200.png?1696512788', 'current_price': 2.41, 'market_cap': 856277608, 'market_cap_rank': 80, 'fully_diluted_valuation': 2292193898, 'total_volume': 3876592, 'high_24h': 2.56, 'low_24h': 2.41, 'price_change_24h': -0.12921488599120723, 'price_change_percentage_24h': -5.08425, 'market_cap_change_24h': -46122822.0439893, 'market_cap_change_percentage_24h': -5.11113, 'circulating_supply': 355447745.235849, 'total_supply': 951510540.572437, 'max_supply': 1093792286.0, 'ath': 24.71, 'ath_change_percentage': -90.21518, 'ath_date': '2021-11-21T17:33:44.178Z', 'atl': 0.128398, 'atl_change_percentage': 1783.20789, 'atl_date': '2021-06-22T12:52:49.089Z', 'roi': None, 'last_updated': '2024-01-31T20:17:13.506Z'}, {'id': 'cheelee', 'symbol': 'cheel', 'name': 'Cheelee', 'image': 'https://assets.coingecko.com/coins/images/28573/large/CHEEL_%D1%82%D0%BE%D0%BD%D0%BA%D0%B0%D1%8F_%D0%BE%D0%B1%D0%B2%D0%BE%D0%B4%D0%BA%D0%B0_%283%29.png?1696527561', 'current_price': 15.91, 'market_cap': 852322855, 'market_cap_rank': 81, 'fully_diluted_valuation': 15830601068, 'total_volume': 6019614, 'high_24h': 16.14, 'low_24h': 15.72, 'price_change_24h': -0.1739996872856402, 'price_change_percentage_24h': -1.08157, 'market_cap_change_24h': -10920735.18697524, 'market_cap_change_percentage_24h': -1.26508, 'circulating_supply': 53840208.0656888, 'total_supply': 1000000000.0, 'max_supply': 1000000000.0, 'ath': 17.32, 'ath_change_percentage': -8.18285, 'ath_date': '2023-07-16T21:40:08.888Z', 'atl': 3.44, 'atl_change_percentage': 362.33185, 'atl_date': '2023-02-13T02:53:08.933Z', 'roi': None, 'last_updated': '2024-01-31T20:16:49.154Z'}, {'id': 'apecoin', 'symbol': 'ape', 'name': 'ApeCoin', 'image': 'https://assets.coingecko.com/coins/images/24383/large/apecoin.jpg?1696523566', 'current_price': 1.42, 'market_cap': 850875844, 'market_cap_rank': 82, 'fully_diluted_valuation': 1406648545, 'total_volume': 66935718, 'high_24h': 1.44, 'low_24h': 1.37, 'price_change_24h': -0.01976754834511052, 'price_change_percentage_24h': -1.37613, 'market_cap_change_24h': -17870815.598719, 'market_cap_change_percentage_24h': -2.05708, 'circulating_supply': 604895833.0, 'total_supply': 1000000000.0, 'max_supply': 1000000000.0, 'ath': 26.7, 'ath_change_percentage': -94.70934, 'ath_date': '2022-04-28T21:44:21.164Z', 'atl': 1.008, 'atl_change_percentage': 40.18001, 'atl_date': '2023-10-10T20:51:07.411Z', 'roi': None, 'last_updated': '2024-01-31T20:17:24.491Z'}, {'id': 'conflux-token', 'symbol': 'cfx', 'name': 'Conflux', 'image': 'https://assets.coingecko.com/coins/images/13079/large/3vuYMbjN.png?1696512867', 'current_price': 0.230605, 'market_cap': 841395615, 'market_cap_rank': 85, 'fully_diluted_valuation': 1258085175, 'total_volume': 103431569, 'high_24h': 0.233303, 'low_24h': 0.216867, 'price_change_24h': 0.00266611, 'price_change_percentage_24h': 1.16966, 'market_cap_change_24h': 6891196, 'market_cap_change_percentage_24h': 0.82578, 'circulating_supply': 3653725751.93531, 'total_supply': 5463194183.5948, 'max_supply': None, 'ath': 1.7, 'ath_change_percentage': -86.35292, 'ath_date': '2021-03-27T03:43:35.178Z', 'atl': 0.02199898, 'atl_change_percentage': 955.12112, 'atl_date': '2022-12-30T08:16:30.345Z', 'roi': None, 'last_updated': '2024-01-31T20:17:21.732Z'}, {'id': 'dydx', 'symbol': 'ethdydx', 'name': 'dYdX', 'image': 'https://assets.coingecko.com/coins/images/17500/large/hjnIm9bV.jpg?1696517040', 'current_price': 2.67, 'market_cap': 835597289, 'market_cap_rank': 83, 'fully_diluted_valuation': 1427784538, 'total_volume': 92462515, 'high_24h': 2.87, 'low_24h': 2.63, 'price_change_24h': -0.19955401364692715, 'price_change_percentage_24h': -6.94488, 'market_cap_change_24h': -67090878.53242314, 'market_cap_change_percentage_24h': -7.43234, 'circulating_supply': 313714639.2520706, 'total_supply': 536043997.31, 'max_supply': 536043997.31, 'ath': 27.86, 'ath_change_percentage': -90.35053, 'ath_date': '2021-09-30T01:23:43.570Z', 'atl': 1.011, 'atl_change_percentage': 166.01812, 'atl_date': '2022-06-18T20:55:50.603Z', 'roi': None, 'last_updated': '2024-01-31T20:17:18.611Z'}, {'id': 'bitget-token', 'symbol': 'bgb', 'name': 'Bitget Token', 'image': 'https://assets.coingecko.com/coins/images/11610/large/icon_colour.png?1696511504', 'current_price': 0.597263, 'market_cap': 832726326, 'market_cap_rank': 84, 'fully_diluted_valuation': 1189608188, 'total_volume': 25175474, 'high_24h': 0.603516, 'low_24h': 0.592744, 'price_change_24h': -0.002432124165235528, 'price_change_percentage_24h': -0.40556, 'market_cap_change_24h': -6524907.941678166, 'market_cap_change_percentage_24h': -0.77747, 'circulating_supply': 1400001000.0, 'total_supply': 2000000000.0, 'max_supply': 2000000000.0, 'ath': 0.701227, 'ath_change_percentage': -14.78527, 'ath_date': '2023-12-19T07:13:51.026Z', 'atl': 0.0142795, 'atl_change_percentage': 4084.66249, 'atl_date': '2020-06-25T04:17:05.895Z', 'roi': None, 'last_updated': '2024-01-31T20:17:07.750Z'}, {'id': 'ronin', 'symbol': 'ron', 'name': 'Ronin', 'image': 'https://assets.coingecko.com/coins/images/20009/large/Ronin_Mark_Blue.png?1696519431', 'current_price': 2.82, 'market_cap': 823618193, 'market_cap_rank': 86, 'fully_diluted_valuation': 2820089767, 'total_volume': 24977188, 'high_24h': 2.89, 'low_24h': 2.67, 'price_change_24h': 0.086507, 'price_change_percentage_24h': 3.16668, 'market_cap_change_24h': 26037424, 'market_cap_change_percentage_24h': 3.26455, 'circulating_supply': 292053892.287891, 'total_supply': 1000000000.0, 'max_supply': 1000000000.0, 'ath': 4.29, 'ath_change_percentage': -34.11038, 'ath_date': '2022-01-27T13:14:36.500Z', 'atl': 0.196601, 'atl_change_percentage': 1339.23246, 'atl_date': '2022-11-21T19:36:31.487Z', 'roi': None, 'last_updated': '2024-01-31T20:17:25.716Z'}, {'id': 'decentraland', 'symbol': 'mana', 'name': 'Decentraland', 'image': 'https://assets.coingecko.com/coins/images/878/large/decentraland-mana.png?1696502010', 'current_price': 0.437335, 'market_cap': 806172847, 'market_cap_rank': 87, 'fully_diluted_valuation': 957302956, 'total_volume': 64931303, 'high_24h': 0.455948, 'low_24h': 0.43121, 'price_change_24h': -0.01817796355913809, 'price_change_percentage_24h': -3.99066, 'market_cap_change_24h': -36545214.777201176, 'market_cap_change_percentage_24h': -4.33659, 'circulating_supply': 1846940522.2078757, 'total_supply': 2193179327.32015, 'max_supply': 2193179327.32015, 'ath': 5.85, 'ath_change_percentage': -92.46153, 'ath_date': '2021-11-25T10:04:18.534Z', 'atl': 0.00923681, 'atl_change_percentage': 4675.0526, 'atl_date': '2017-10-31T00:00:00.000Z', 'roi': {'times': 20.86673758521523, 'currency': 'usd', 'percentage': 2086.673758521523}, 'last_updated': '2024-01-31T20:17:20.222Z'}, {'id': 'blur', 'symbol': 'blur', 'name': 'Blur', 'image': 'https://assets.coingecko.com/coins/images/28453/large/blur.png?1696527448', 'current_price': 0.611856, 'market_cap': 787382021, 'market_cap_rank': 91, 'fully_diluted_valuation': 1850403706, 'total_volume': 61149147, 'high_24h': 0.651511, 'low_24h': 0.603434, 'price_change_24h': -0.036395074990822174, 'price_change_percentage_24h': -5.61435, 'market_cap_change_24h': -42036233.46432197, 'market_cap_change_percentage_24h': -5.06816, 'circulating_supply': 1276557139.45967, 'total_supply': 3000000000.0, 'max_supply': 3000000000.0, 'ath': 5.02, 'ath_change_percentage': -87.76168, 'ath_date': '2023-02-14T17:33:55.928Z', 'atl': 0.153143, 'atl_change_percentage': 300.86908, 'atl_date': '2023-10-12T17:10:39.401Z', 'roi': None, 'last_updated': '2024-01-31T20:17:12.586Z'}, {'id': 'bittorrent', 'symbol': 'btt', 'name': 'BitTorrent', 'image': 'https://assets.coingecko.com/coins/images/22457/large/btt_logo.png?1696521780', 'current_price': 8.15783e-07, 'market_cap': 786499086, 'market_cap_rank': 88, 'fully_diluted_valuation': 804169344, 'total_volume': 26344063, 'high_24h': 8.59763e-07, 'low_24h': 8.0512e-07, 'price_change_24h': -4.3257368904e-08, 'price_change_percentage_24h': -5.03555, 'market_cap_change_24h': -44877440.01598585, 'market_cap_change_percentage_24h': -5.39797, 'circulating_supply': 968246428571000.0, 'total_supply': 990000000000000.0, 'max_supply': 990000000000000.0, 'ath': 3.43e-06, 'ath_change_percentage': -76.16163, 'ath_date': '2022-01-21T04:00:31.909Z', 'atl': 3.65368e-07, 'atl_change_percentage': 123.87732, 'atl_date': '2023-10-13T05:10:41.241Z', 'roi': None, 'last_updated': '2024-01-31T20:17:23.417Z'}, {'id': 'eos', 'symbol': 'eos', 'name': 'EOS', 'image': 'https://assets.coingecko.com/coins/images/738/large/eos-eos-logo.png?1696501893', 'current_price': 0.692338, 'market_cap': 786092640, 'market_cap_rank': 90, 'fully_diluted_valuation': None, 'total_volume': 99605181, 'high_24h': 0.716039, 'low_24h': 0.682849, 'price_change_24h': -0.02269123012359564, 'price_change_percentage_24h': -3.17347, 'market_cap_change_24h': -28127548.750242233, 'market_cap_change_percentage_24h': -3.45454, 'circulating_supply': 1137454554.4429, 'total_supply': None, 'max_supply': None, 'ath': 22.71, 'ath_change_percentage': -96.92604, 'ath_date': '2018-04-29T07:50:33.540Z', 'atl': 0.5024, 'atl_change_percentage': 38.96015, 'atl_date': '2017-10-23T00:00:00.000Z', 'roi': {'times': -0.30066917292324646, 'currency': 'usd', 'percentage': -30.066917292324646}, 'last_updated': '2024-01-31T20:17:24.077Z'}, {'id': 'manta-network', 'symbol': 'manta', 'name': 'Manta Network', 'image': 'https://assets.coingecko.com/coins/images/34289/large/manta.jpg?1704468717', 'current_price': 3.13, 'market_cap': 785571786, 'market_cap_rank': 89, 'fully_diluted_valuation': 3129768072, 'total_volume': 328168766, 'high_24h': 3.58, 'low_24h': 3.1, 'price_change_24h': -0.39428393734920153, 'price_change_percentage_24h': -11.2016, 'market_cap_change_24h': -97455844.2268374, 'market_cap_change_percentage_24h': -11.03656, 'circulating_supply': 251000000.0, 'total_supply': 1000000000.0, 'max_supply': 1000000000.0, 'ath': 3.83, 'ath_change_percentage': -18.33996, 'ath_date': '2024-01-28T01:49:54.287Z', 'atl': 2.02, 'atl_change_percentage': 55.17112, 'atl_date': '2024-01-18T10:04:12.606Z', 'roi': None, 'last_updated': '2024-01-31T20:17:15.650Z'}, {'id': 'kava', 'symbol': 'kava', 'name': 'Kava', 'image': 'https://assets.coingecko.com/coins/images/9761/large/kava.png?1696509822', 'current_price': 0.717583, 'market_cap': 776384436, 'market_cap_rank': 93, 'fully_diluted_valuation': 776384436, 'total_volume': 22427181, 'high_24h': 0.745729, 'low_24h': 0.714892, 'price_change_24h': -0.028146570324715903, 'price_change_percentage_24h': -3.77437, 'market_cap_change_24h': -32331682.5880605, 'market_cap_change_percentage_24h': -3.9979, 'circulating_supply': 1082861778.0, 'total_supply': 1082861778.0, 'max_supply': None, 'ath': 9.12, 'ath_change_percentage': -92.07527, 'ath_date': '2021-08-30T11:10:02.948Z', 'atl': 0.287137, 'atl_change_percentage': 151.71084, 'atl_date': '2020-03-13T02:24:16.835Z', 'roi': None, 'last_updated': '2024-01-31T20:17:25.031Z'}, {'id': 'neo', 'symbol': 'neo', 'name': 'NEO', 'image': 'https://assets.coingecko.com/coins/images/480/large/NEO_512_512.png?1696501735', 'current_price': 10.88, 'market_cap': 766650184, 'market_cap_rank': 94, 'fully_diluted_valuation': 1086984523, 'total_volume': 84906079, 'high_24h': 12.09, 'low_24h': 10.78, 'price_change_24h': -0.5118814347244047, 'price_change_percentage_24h': -4.4918, 'market_cap_change_24h': -38083882.97764015, 'market_cap_change_percentage_24h': -4.73248, 'circulating_supply': 70530000.0, 'total_supply': 100000000.0, 'max_supply': None, 'ath': 198.38, 'ath_change_percentage': -94.47398, 'ath_date': '2018-01-15T00:00:00.000Z', 'atl': 0.078349, 'atl_change_percentage': 13891.93833, 'atl_date': '2016-10-21T00:00:00.000Z', 'roi': {'times': 301.33385160854914, 'currency': 'usd', 'percentage': 30133.385160854916}, 'last_updated': '2024-01-31T20:17:16.394Z'}, {'id': 'iota', 'symbol': 'iota', 'name': 'IOTA', 'image': 'https://assets.coingecko.com/coins/images/692/large/IOTA_Swirl.png?1696501881', 'current_price': 0.243213, 'market_cap': 762337442, 'market_cap_rank': 96, 'fully_diluted_valuation': 1125879175, 'total_volume': 14532396, 'high_24h': 0.255905, 'low_24h': 0.238482, 'price_change_24h': -0.012298066156867769, 'price_change_percentage_24h': -4.81312, 'market_cap_change_24h': -34264521.59273374, 'market_cap_change_percentage_24h': -4.30134, 'circulating_supply': 3114679008.0, 'total_supply': 4600000000.0, 'max_supply': 4600000000.0, 'ath': 5.25, 'ath_change_percentage': -95.33263, 'ath_date': '2017-12-19T00:00:00.000Z', 'atl': 0.081637, 'atl_change_percentage': 200.08325, 'atl_date': '2020-03-13T02:22:41.168Z', 'roi': {'times': 3.2321586509015483, 'currency': 'btc', 'percentage': 323.21586509015486}, 'last_updated': '2024-01-31T20:17:16.501Z'}, {'id': 'flare-networks', 'symbol': 'flr', 'name': 'Flare', 'image': 'https://assets.coingecko.com/coins/images/28624/large/FLR-icon200x200.png?1696527609', 'current_price': 0.02343056, 'market_cap': 760359186, 'market_cap_rank': 95, 'fully_diluted_valuation': 2375648742, 'total_volume': 14047680, 'high_24h': 0.02411046, 'low_24h': 0.02270223, 'price_change_24h': 0.00015583, 'price_change_percentage_24h': 0.66951, 'market_cap_change_24h': 1188090, 'market_cap_change_percentage_24h': 0.1565, 'circulating_supply': 32510173772.6477, 'total_supply': 101567913009.677, 'max_supply': None, 'ath': 0.150073, 'ath_change_percentage': -84.41615, 'ath_date': '2023-01-10T03:14:05.921Z', 'atl': 0.00827405, 'atl_change_percentage': 182.65639, 'atl_date': '2023-10-19T03:35:41.663Z', 'roi': None, 'last_updated': '2024-01-31T20:17:14.816Z'}, {'id': 'frax-share', 'symbol': 'fxs', 'name': 'Frax Share', 'image': 'https://assets.coingecko.com/coins/images/13423/large/Frax_Shares_icon.png?1696513183', 'current_price': 9.83, 'market_cap': 748395685, 'market_cap_rank': 92, 'fully_diluted_valuation': 974999600, 'total_volume': 57318687, 'high_24h': 10.6, 'low_24h': 9.76, 'price_change_24h': -0.7767639993798969, 'price_change_percentage_24h': -7.32552, 'market_cap_change_24h': -65123084.90355599, 'market_cap_change_percentage_24h': -8.00511, 'circulating_supply': 76514083.8818445, 'total_supply': 99681495.5911336, 'max_supply': 99681495.5911336, 'ath': 42.8, 'ath_change_percentage': -77.02652, 'ath_date': '2022-01-12T15:22:27.465Z', 'atl': 1.5, 'atl_change_percentage': 554.12844, 'atl_date': '2021-06-25T16:50:51.447Z', 'roi': None, 'last_updated': '2024-01-31T20:17:24.689Z'}, {'id': 'usdd', 'symbol': 'usdd', 'name': 'USDD', 'image': 'https://assets.coingecko.com/coins/images/25380/large/UUSD.jpg?1696524513', 'current_price': 0.995649, 'market_cap': 720610480, 'market_cap_rank': 99, 'fully_diluted_valuation': None, 'total_volume': 11431757, 'high_24h': 0.997569, 'low_24h': 0.989797, 'price_change_24h': 0.00056315, 'price_change_percentage_24h': 0.05659, 'market_cap_change_24h': -328411.3787051439, 'market_cap_change_percentage_24h': -0.04555, 'circulating_supply': 725332033.742248, 'total_supply': None, 'max_supply': None, 'ath': 1.052, 'ath_change_percentage': -5.78806, 'ath_date': '2023-10-23T22:45:25.398Z', 'atl': 0.928067, 'atl_change_percentage': 6.77454, 'atl_date': '2022-06-19T16:15:11.558Z', 'roi': None, 'last_updated': '2024-01-31T20:17:15.789Z'}, {'id': 'frax-ether', 'symbol': 'frxeth', 'name': 'Frax Ether', 'image': 'https://assets.coingecko.com/coins/images/28284/large/frxETH_icon.png?1696527284', 'current_price': 2311.19, 'market_cap': 718153334, 'market_cap_rank': 98, 'fully_diluted_valuation': 718153334, 'total_volume': 4729970, 'high_24h': 2375.52, 'low_24h': 2277.5, 'price_change_24h': -46.32197861792474, 'price_change_percentage_24h': -1.96487, 'market_cap_change_24h': -15244061.79381764, 'market_cap_change_percentage_24h': -2.07855, 'circulating_supply': 312131.474362907, 'total_supply': 310231.474362907, 'max_supply': None, 'ath': 2672.41, 'ath_change_percentage': -13.80248, 'ath_date': '2024-01-12T16:49:45.243Z', 'atl': 1137.25, 'atl_change_percentage': 102.5547, 'atl_date': '2022-11-23T02:25:33.267Z', 'roi': None, 'last_updated': '2024-01-31T20:17:20.125Z'}, {'id': 'gala', 'symbol': 'gala', 'name': 'GALA', 'image': 'https://assets.coingecko.com/coins/images/12493/large/GALA-COINGECKO.png?1696512310', 'current_price': 0.02209412, 'market_cap': 717958250, 'market_cap_rank': 97, 'fully_diluted_valuation': 717952064, 'total_volume': 56936272, 'high_24h': 0.02337767, 'low_24h': 0.02189959, 'price_change_24h': -0.001234829291254076, 'price_change_percentage_24h': -5.29312, 'market_cap_change_24h': -42658545.75875366, 'market_cap_change_percentage_24h': -5.60841, 'circulating_supply': 32575957048.8699, 'total_supply': 32575957048.8699, 'max_supply': 50000000000.0, 'ath': 0.824837, 'ath_change_percentage': -97.29944, 'ath_date': '2021-11-26T01:03:48.731Z', 'atl': 0.00013475, 'atl_change_percentage': 16430.82246, 'atl_date': '2020-12-28T08:46:48.367Z', 'roi': None, 'last_updated': '2024-01-31T20:17:22.011Z'}, {'id': 'klay-token', 'symbol': 'klay', 'name': 'Klaytn', 'image': 'https://assets.coingecko.com/coins/images/9672/large/klaytn.png?1696509742', 'current_price': 0.196161, 'market_cap': 681636372, 'market_cap_rank': 100, 'fully_diluted_valuation': 1151502183, 'total_volume': 18772345, 'high_24h': 0.206912, 'low_24h': 0.190882, 'price_change_24h': -0.0104526704526845, 'price_change_percentage_24h': -5.05903, 'market_cap_change_24h': -38353291.28922975, 'market_cap_change_percentage_24h': -5.32692, 'circulating_supply': 3486649424.22865, 'total_supply': 5890067764.91025, 'max_supply': None, 'ath': 4.34, 'ath_change_percentage': -95.49115, 'ath_date': '2021-03-30T03:44:28.828Z', 'atl': 0.06044, 'atl_change_percentage': 223.68668, 'atl_date': '2020-04-29T08:19:34.574Z', 'roi': None, 'last_updated': '2024-01-31T20:17:17.964Z'}]\n"
          ]
        }
      ],
      "source": [
        "import requests\n",
        "resp = requests.get('https://api.coingecko.com/api/v3/coins/markets/?vs_currency=usd')\n",
        "cc_data = resp.json()\n",
        "print(cc_data)"
      ]
    },
    {
      "cell_type": "code",
      "source": [
        "import json\n",
        "\n",
        "json.dump(cc_data, open('/content/drive/MyDrive/AIS_DG/cc.json','w'))"
      ],
      "metadata": {
        "id": "tXPpKYECD_pJ"
      },
      "execution_count": 123,
      "outputs": []
    },
    {
      "cell_type": "code",
      "source": [
        "cc_data[:10]"
      ],
      "metadata": {
        "id": "hmDX9Dr0k6xY",
        "colab": {
          "base_uri": "https://localhost:8080/",
          "height": 0
        },
        "outputId": "ca34e747-0712-4173-84bf-8e808e4779ac"
      },
      "execution_count": 124,
      "outputs": [
        {
          "output_type": "execute_result",
          "data": {
            "text/plain": [
              "[{'id': 'bitcoin',\n",
              "  'symbol': 'btc',\n",
              "  'name': 'Bitcoin',\n",
              "  'image': 'https://assets.coingecko.com/coins/images/1/large/bitcoin.png?1696501400',\n",
              "  'current_price': 42886,\n",
              "  'market_cap': 838368145426,\n",
              "  'market_cap_rank': 1,\n",
              "  'fully_diluted_valuation': 897595286525,\n",
              "  'total_volume': 21822812951,\n",
              "  'high_24h': 43717,\n",
              "  'low_24h': 42410,\n",
              "  'price_change_24h': -684.4704503957328,\n",
              "  'price_change_percentage_24h': -1.57096,\n",
              "  'market_cap_change_24h': -15717311355.644043,\n",
              "  'market_cap_change_percentage_24h': -1.84025,\n",
              "  'circulating_supply': 19614331.0,\n",
              "  'total_supply': 21000000.0,\n",
              "  'max_supply': 21000000.0,\n",
              "  'ath': 69045,\n",
              "  'ath_change_percentage': -37.24682,\n",
              "  'ath_date': '2021-11-10T14:24:11.849Z',\n",
              "  'atl': 67.81,\n",
              "  'atl_change_percentage': 63796.81043,\n",
              "  'atl_date': '2013-07-06T00:00:00.000Z',\n",
              "  'roi': None,\n",
              "  'last_updated': '2024-01-31T20:17:14.678Z'},\n",
              " {'id': 'ethereum',\n",
              "  'symbol': 'eth',\n",
              "  'name': 'Ethereum',\n",
              "  'image': 'https://assets.coingecko.com/coins/images/279/large/ethereum.png?1696501628',\n",
              "  'current_price': 2302.18,\n",
              "  'market_cap': 275903905958,\n",
              "  'market_cap_rank': 2,\n",
              "  'fully_diluted_valuation': 275903905958,\n",
              "  'total_volume': 10698944994,\n",
              "  'high_24h': 2385.34,\n",
              "  'low_24h': 2282.14,\n",
              "  'price_change_24h': -78.98697655622345,\n",
              "  'price_change_percentage_24h': -3.31715,\n",
              "  'market_cap_change_24h': -10154839948.63623,\n",
              "  'market_cap_change_percentage_24h': -3.54991,\n",
              "  'circulating_supply': 120182821.049024,\n",
              "  'total_supply': 120182821.049024,\n",
              "  'max_supply': None,\n",
              "  'ath': 4878.26,\n",
              "  'ath_change_percentage': -52.37031,\n",
              "  'ath_date': '2021-11-10T14:24:19.604Z',\n",
              "  'atl': 0.432979,\n",
              "  'atl_change_percentage': 536531.3751,\n",
              "  'atl_date': '2015-10-20T00:00:00.000Z',\n",
              "  'roi': {'times': 70.77166703019178,\n",
              "   'currency': 'btc',\n",
              "   'percentage': 7077.166703019178},\n",
              "  'last_updated': '2024-01-31T20:17:15.140Z'},\n",
              " {'id': 'tether',\n",
              "  'symbol': 'usdt',\n",
              "  'name': 'Tether',\n",
              "  'image': 'https://assets.coingecko.com/coins/images/325/large/Tether.png?1696501661',\n",
              "  'current_price': 0.998104,\n",
              "  'market_cap': 95723781277,\n",
              "  'market_cap_rank': 3,\n",
              "  'fully_diluted_valuation': 95723781277,\n",
              "  'total_volume': 40193651300,\n",
              "  'high_24h': 1.002,\n",
              "  'low_24h': 0.99485,\n",
              "  'price_change_24h': -0.002473295713631418,\n",
              "  'price_change_percentage_24h': -0.24719,\n",
              "  'market_cap_change_24h': -385474498.14645386,\n",
              "  'market_cap_change_percentage_24h': -0.40108,\n",
              "  'circulating_supply': 96219281549.4949,\n",
              "  'total_supply': 96219281549.4949,\n",
              "  'max_supply': None,\n",
              "  'ath': 1.32,\n",
              "  'ath_change_percentage': -24.48271,\n",
              "  'ath_date': '2018-07-24T00:00:00.000Z',\n",
              "  'atl': 0.572521,\n",
              "  'atl_change_percentage': 74.52037,\n",
              "  'atl_date': '2015-03-02T00:00:00.000Z',\n",
              "  'roi': None,\n",
              "  'last_updated': '2024-01-31T20:15:17.050Z'},\n",
              " {'id': 'binancecoin',\n",
              "  'symbol': 'bnb',\n",
              "  'name': 'BNB',\n",
              "  'image': 'https://assets.coingecko.com/coins/images/825/large/bnb-icon2_2x.png?1696501970',\n",
              "  'current_price': 302.32,\n",
              "  'market_cap': 46361104492,\n",
              "  'market_cap_rank': 4,\n",
              "  'fully_diluted_valuation': 46361104492,\n",
              "  'total_volume': 652594667,\n",
              "  'high_24h': 310.56,\n",
              "  'low_24h': 300.59,\n",
              "  'price_change_24h': -7.86103098899639,\n",
              "  'price_change_percentage_24h': -2.53436,\n",
              "  'market_cap_change_24h': -1347776852.1702728,\n",
              "  'market_cap_change_percentage_24h': -2.825,\n",
              "  'circulating_supply': 153856150.0,\n",
              "  'total_supply': 153856150.0,\n",
              "  'max_supply': 200000000.0,\n",
              "  'ath': 686.31,\n",
              "  'ath_change_percentage': -55.58551,\n",
              "  'ath_date': '2021-05-10T07:24:17.097Z',\n",
              "  'atl': 0.0398177,\n",
              "  'atl_change_percentage': 765437.95283,\n",
              "  'atl_date': '2017-10-19T00:00:00.000Z',\n",
              "  'roi': None,\n",
              "  'last_updated': '2024-01-31T20:17:06.148Z'},\n",
              " {'id': 'solana',\n",
              "  'symbol': 'sol',\n",
              "  'name': 'Solana',\n",
              "  'image': 'https://assets.coingecko.com/coins/images/4128/large/solana.png?1696504756',\n",
              "  'current_price': 99.2,\n",
              "  'market_cap': 43266814955,\n",
              "  'market_cap_rank': 5,\n",
              "  'fully_diluted_valuation': 56436560955,\n",
              "  'total_volume': 3641162032,\n",
              "  'high_24h': 105.45,\n",
              "  'low_24h': 97.8,\n",
              "  'price_change_24h': -5.960725967199352,\n",
              "  'price_change_percentage_24h': -5.66819,\n",
              "  'market_cap_change_24h': -2611757669.3631363,\n",
              "  'market_cap_change_percentage_24h': -5.69276,\n",
              "  'circulating_supply': 435747756.743262,\n",
              "  'total_supply': 568382449.24628,\n",
              "  'max_supply': None,\n",
              "  'ath': 259.96,\n",
              "  'ath_change_percentage': -61.18572,\n",
              "  'ath_date': '2021-11-06T21:54:35.825Z',\n",
              "  'atl': 0.500801,\n",
              "  'atl_change_percentage': 20047.97524,\n",
              "  'atl_date': '2020-05-11T19:35:23.449Z',\n",
              "  'roi': None,\n",
              "  'last_updated': '2024-01-31T20:17:24.257Z'},\n",
              " {'id': 'ripple',\n",
              "  'symbol': 'xrp',\n",
              "  'name': 'XRP',\n",
              "  'image': 'https://assets.coingecko.com/coins/images/44/large/xrp-symbol-white-128.png?1696501442',\n",
              "  'current_price': 0.507667,\n",
              "  'market_cap': 27536942536,\n",
              "  'market_cap_rank': 6,\n",
              "  'fully_diluted_valuation': 50637007829,\n",
              "  'total_volume': 1665333815,\n",
              "  'high_24h': 0.514684,\n",
              "  'low_24h': 0.498261,\n",
              "  'price_change_24h': -0.007016517481078789,\n",
              "  'price_change_percentage_24h': -1.36327,\n",
              "  'market_cap_change_24h': -427533255.660759,\n",
              "  'market_cap_change_percentage_24h': -1.52884,\n",
              "  'circulating_supply': 54374512255.0,\n",
              "  'total_supply': 99987956150.0,\n",
              "  'max_supply': 100000000000.0,\n",
              "  'ath': 3.4,\n",
              "  'ath_change_percentage': -84.96847,\n",
              "  'ath_date': '2018-01-07T00:00:00.000Z',\n",
              "  'atl': 0.00268621,\n",
              "  'atl_change_percentage': 18917.121,\n",
              "  'atl_date': '2014-05-22T00:00:00.000Z',\n",
              "  'roi': None,\n",
              "  'last_updated': '2024-01-31T20:17:24.364Z'},\n",
              " {'id': 'usd-coin',\n",
              "  'symbol': 'usdc',\n",
              "  'name': 'USDC',\n",
              "  'image': 'https://assets.coingecko.com/coins/images/6319/large/usdc.png?1696506694',\n",
              "  'current_price': 0.999113,\n",
              "  'market_cap': 26766583031,\n",
              "  'market_cap_rank': 7,\n",
              "  'fully_diluted_valuation': 25365322676,\n",
              "  'total_volume': 7390834534,\n",
              "  'high_24h': 1.004,\n",
              "  'low_24h': 0.994008,\n",
              "  'price_change_24h': -0.001904053599131261,\n",
              "  'price_change_percentage_24h': -0.19021,\n",
              "  'market_cap_change_24h': 262822552,\n",
              "  'market_cap_change_percentage_24h': 0.99164,\n",
              "  'circulating_supply': 26877872464.183,\n",
              "  'total_supply': 25470785983.8999,\n",
              "  'max_supply': None,\n",
              "  'ath': 1.17,\n",
              "  'ath_change_percentage': -14.65554,\n",
              "  'ath_date': '2019-05-08T00:40:28.300Z',\n",
              "  'atl': 0.877647,\n",
              "  'atl_change_percentage': 14.03675,\n",
              "  'atl_date': '2023-03-11T08:02:13.981Z',\n",
              "  'roi': None,\n",
              "  'last_updated': '2024-01-31T20:17:16.440Z'},\n",
              " {'id': 'staked-ether',\n",
              "  'symbol': 'steth',\n",
              "  'name': 'Lido Staked Ether',\n",
              "  'image': 'https://assets.coingecko.com/coins/images/13442/large/steth_logo.png?1696513206',\n",
              "  'current_price': 2300.3,\n",
              "  'market_cap': 21615952642,\n",
              "  'market_cap_rank': 8,\n",
              "  'fully_diluted_valuation': 21615983099,\n",
              "  'total_volume': 15537795,\n",
              "  'high_24h': 2388.25,\n",
              "  'low_24h': 2282.2,\n",
              "  'price_change_24h': -79.4065247267713,\n",
              "  'price_change_percentage_24h': -3.33683,\n",
              "  'market_cap_change_24h': -771314688.6999855,\n",
              "  'market_cap_change_percentage_24h': -3.44533,\n",
              "  'circulating_supply': 9413448.85718321,\n",
              "  'total_supply': 9413462.12072922,\n",
              "  'max_supply': 9413448.85718321,\n",
              "  'ath': 4829.57,\n",
              "  'ath_change_percentage': -52.00204,\n",
              "  'ath_date': '2021-11-10T14:40:47.256Z',\n",
              "  'atl': 482.9,\n",
              "  'atl_change_percentage': 380.04005,\n",
              "  'atl_date': '2020-12-22T04:08:21.854Z',\n",
              "  'roi': None,\n",
              "  'last_updated': '2024-01-31T20:17:03.555Z'},\n",
              " {'id': 'cardano',\n",
              "  'symbol': 'ada',\n",
              "  'name': 'Cardano',\n",
              "  'image': 'https://assets.coingecko.com/coins/images/975/large/cardano.png?1696502090',\n",
              "  'current_price': 0.507282,\n",
              "  'market_cap': 17758193556,\n",
              "  'market_cap_rank': 9,\n",
              "  'fully_diluted_valuation': 22766708338,\n",
              "  'total_volume': 487152935,\n",
              "  'high_24h': 0.527035,\n",
              "  'low_24h': 0.497703,\n",
              "  'price_change_24h': -0.012504995040216405,\n",
              "  'price_change_percentage_24h': -2.40579,\n",
              "  'market_cap_change_24h': -501923537.3990059,\n",
              "  'market_cap_change_percentage_24h': -2.74874,\n",
              "  'circulating_supply': 35100318330.6778,\n",
              "  'total_supply': 45000000000.0,\n",
              "  'max_supply': 45000000000.0,\n",
              "  'ath': 3.09,\n",
              "  'ath_change_percentage': -83.40436,\n",
              "  'ath_date': '2021-09-02T06:00:10.474Z',\n",
              "  'atl': 0.01925275,\n",
              "  'atl_change_percentage': 2560.88116,\n",
              "  'atl_date': '2020-03-13T02:22:55.044Z',\n",
              "  'roi': None,\n",
              "  'last_updated': '2024-01-31T20:17:14.165Z'},\n",
              " {'id': 'avalanche-2',\n",
              "  'symbol': 'avax',\n",
              "  'name': 'Avalanche',\n",
              "  'image': 'https://assets.coingecko.com/coins/images/12559/large/Avalanche_Circle_RedWhite_Trans.png?1696512369',\n",
              "  'current_price': 34.79,\n",
              "  'market_cap': 12746055973,\n",
              "  'market_cap_rank': 10,\n",
              "  'fully_diluted_valuation': 15108313103,\n",
              "  'total_volume': 520177323,\n",
              "  'high_24h': 36.28,\n",
              "  'low_24h': 34.08,\n",
              "  'price_change_24h': -1.4558820470585871,\n",
              "  'price_change_percentage_24h': -4.0165,\n",
              "  'market_cap_change_24h': -549272885.7637234,\n",
              "  'market_cap_change_percentage_24h': -4.13132,\n",
              "  'circulating_supply': 367084026.783708,\n",
              "  'total_supply': 435116909.331076,\n",
              "  'max_supply': 720000000.0,\n",
              "  'ath': 144.96,\n",
              "  'ath_change_percentage': -75.75443,\n",
              "  'ath_date': '2021-11-21T14:18:56.538Z',\n",
              "  'atl': 2.8,\n",
              "  'atl_change_percentage': 1154.76122,\n",
              "  'atl_date': '2020-12-31T13:15:21.540Z',\n",
              "  'roi': None,\n",
              "  'last_updated': '2024-01-31T20:17:23.249Z'}]"
            ]
          },
          "metadata": {},
          "execution_count": 124
        }
      ]
    },
    {
      "cell_type": "markdown",
      "metadata": {
        "id": "uf6ogyD82AIp"
      },
      "source": [
        "1. What is the latest price of BTC?"
      ]
    },
    {
      "cell_type": "code",
      "execution_count": 125,
      "metadata": {
        "id": "MAkJg_4K2AIp",
        "colab": {
          "base_uri": "https://localhost:8080/",
          "height": 0
        },
        "outputId": "138be0bd-aecd-441d-a385-19d5db51b361"
      },
      "outputs": [
        {
          "output_type": "execute_result",
          "data": {
            "text/plain": [
              "42886"
            ]
          },
          "metadata": {},
          "execution_count": 125
        }
      ],
      "source": [
        "# Write your answer here\n",
        "cc_data[0]['current_price']"
      ]
    },
    {
      "cell_type": "markdown",
      "metadata": {
        "id": "QpcsDKJQ2AIp"
      },
      "source": [
        "2. What date is the date of data retrieval?"
      ]
    },
    {
      "cell_type": "code",
      "execution_count": 126,
      "metadata": {
        "id": "IbgbBATy2AIq",
        "colab": {
          "base_uri": "https://localhost:8080/",
          "height": 36
        },
        "outputId": "af84a67c-63d0-42a7-9758-de07a7da364d"
      },
      "outputs": [
        {
          "output_type": "execute_result",
          "data": {
            "text/plain": [
              "'2024-01-31T20:17:14.678Z'"
            ],
            "application/vnd.google.colaboratory.intrinsic+json": {
              "type": "string"
            }
          },
          "metadata": {},
          "execution_count": 126
        }
      ],
      "source": [
        "# Write your answer here\n",
        "cc_data[0]['last_updated']"
      ]
    },
    {
      "cell_type": "markdown",
      "metadata": {
        "id": "wYnWC0j82AIq"
      },
      "source": [
        "3. How do we know if our code can properly access the website or not? (require a bit of function reference searching on Internet)"
      ]
    },
    {
      "cell_type": "code",
      "execution_count": 127,
      "metadata": {
        "id": "f9em6TZg2AIq",
        "colab": {
          "base_uri": "https://localhost:8080/",
          "height": 0
        },
        "outputId": "6baaf2a4-b537-43dc-dbd8-d1a4cb789a2c"
      },
      "outputs": [
        {
          "output_type": "execute_result",
          "data": {
            "text/plain": [
              "200"
            ]
          },
          "metadata": {},
          "execution_count": 127
        }
      ],
      "source": [
        "# Write your answer here\n",
        "resp.status_code"
      ]
    },
    {
      "cell_type": "code",
      "execution_count": null,
      "metadata": {
        "id": "lYli6YxX2AIq"
      },
      "outputs": [],
      "source": []
    }
  ]
}