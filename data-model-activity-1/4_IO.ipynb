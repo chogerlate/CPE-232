{
  "nbformat": 4,
  "nbformat_minor": 0,
  "metadata": {
    "colab": {
      "provenance": []
    },
    "kernelspec": {
      "name": "python3",
      "display_name": "Python 3"
    },
    "language_info": {
      "name": "python"
    }
  },
  "cells": [
    {
      "cell_type": "markdown",
      "source": [
        "# Python Programming (Basic-Intermediate)\n",
        "## Module 4 - IO\n",
        "\n",
        "---"
      ],
      "metadata": {
        "id": "u6CK1eLQjh-X"
      }
    },
    {
      "cell_type": "markdown",
      "source": [
        "## File operation"
      ],
      "metadata": {
        "id": "kgzlPaQojx6u"
      }
    },
    {
      "cell_type": "code",
      "source": [
        "from google.colab import drive\n",
        "drive.mount('/content/drive')"
      ],
      "metadata": {
        "id": "LhIXAhccj2o3",
        "colab": {
          "base_uri": "https://localhost:8080/"
        },
        "outputId": "a05220ef-0890-4ac7-a247-0141f66d0d5f"
      },
      "execution_count": 14,
      "outputs": [
        {
          "output_type": "stream",
          "name": "stdout",
          "text": [
            "Mounted at /content/drive\n"
          ]
        }
      ]
    },
    {
      "cell_type": "code",
      "execution_count": null,
      "metadata": {
        "id": "9NfuamlR46HF"
      },
      "outputs": [],
      "source": [
        "f = open('/content/drive/MyDrive/AIS_DG/gpl-3.0.txt')\n",
        "content = f.read()\n",
        "f.close()\n",
        "print(content)"
      ]
    },
    {
      "cell_type": "code",
      "source": [
        "f.closed"
      ],
      "metadata": {
        "id": "EjVW7RIo1wv6"
      },
      "execution_count": null,
      "outputs": []
    },
    {
      "cell_type": "code",
      "source": [
        "f.mode"
      ],
      "metadata": {
        "id": "Lm0OQ-Io101H"
      },
      "execution_count": null,
      "outputs": []
    },
    {
      "cell_type": "code",
      "source": [
        "f.name"
      ],
      "metadata": {
        "id": "QPyZOgkP13b3"
      },
      "execution_count": null,
      "outputs": []
    },
    {
      "cell_type": "code",
      "source": [
        "f1 = open('/content/drive/MyDrive/AIS_DG/superstore.data', mode='rb')\n",
        "x = f1.read()\n",
        "f1.close()\n",
        "x"
      ],
      "metadata": {
        "id": "epIC6zTT2Kk6"
      },
      "execution_count": null,
      "outputs": []
    },
    {
      "cell_type": "code",
      "source": [
        "with open('/content/drive/MyDrive/AIS_DG/gpl-3.0.txt') as f:\n",
        "  content = f.read()\n",
        "  print(content)"
      ],
      "metadata": {
        "id": "dqfL7iDEkMKX"
      },
      "execution_count": null,
      "outputs": []
    },
    {
      "cell_type": "markdown",
      "source": [
        "## Reading line by line"
      ],
      "metadata": {
        "id": "b0-2V4SvlBDU"
      }
    },
    {
      "cell_type": "code",
      "source": [
        "filename = '/content/drive/MyDrive/AIS_DG/gpl-3.0.txt'\n",
        "\n",
        "with open(filename) as file_object:\n",
        "  ind = 1\n",
        "  for line in file_object:\n",
        "    print(ind,' ', line)\n",
        "    ind += 1"
      ],
      "metadata": {
        "id": "Me_3VS9LkbUe"
      },
      "execution_count": null,
      "outputs": []
    },
    {
      "cell_type": "markdown",
      "source": [
        "## Reading a list of lines from a file"
      ],
      "metadata": {
        "id": "jTtvsZexlEDk"
      }
    },
    {
      "cell_type": "code",
      "source": [
        "filename = '/content/drive/MyDrive/AIS_DG/gpl-3.0.txt'\n",
        "\n",
        "with open(filename) as file_object:\n",
        "  contents = file_object.readlines()\n",
        "\n",
        "print('Number of Lines: ', len(contents))\n",
        "print(contents)"
      ],
      "metadata": {
        "id": "QUtgAAQXk0Q7"
      },
      "execution_count": null,
      "outputs": []
    },
    {
      "cell_type": "markdown",
      "source": [
        "## Create and write a file"
      ],
      "metadata": {
        "id": "9339LgBXldB3"
      }
    },
    {
      "cell_type": "code",
      "source": [
        "with open('/content/drive/MyDrive/AIS_DG/programming.txt','w') as f:\n",
        "  f.write('I love programming.')"
      ],
      "metadata": {
        "id": "Z5Rx3k_DlZBk"
      },
      "execution_count": null,
      "outputs": []
    },
    {
      "cell_type": "code",
      "source": [
        "!cat /content/drive/MyDrive/AIS_DG/programming.txt"
      ],
      "metadata": {
        "id": "IHvssKJOlnor"
      },
      "execution_count": null,
      "outputs": []
    },
    {
      "cell_type": "markdown",
      "source": [
        "## File position"
      ],
      "metadata": {
        "id": "73M1NAsAlt-Q"
      }
    },
    {
      "cell_type": "code",
      "source": [
        "pos = 0\n",
        "with open('/content/drive/MyDrive/AIS_DG/gpl-3.0.txt') as f:\n",
        "  print(f.readline())\n",
        "  pos = f.tell()\n",
        "  print(pos, ' ', f.readline())\n",
        "  pos = f.tell()\n",
        "  print(pos, ' ', f.readline())\n",
        "  pos = f.tell()\n",
        "  print(pos, ' ', f.readline())\n",
        "  print('=== Seek to 47 from the beginning ===')\n",
        "  f.seek(47, 0)\n",
        "  pos = f.tell()\n",
        "  print(pos, ' ', f.readline())"
      ],
      "metadata": {
        "id": "IYmkI8DalqQl"
      },
      "execution_count": null,
      "outputs": []
    },
    {
      "cell_type": "markdown",
      "source": [
        "## os package"
      ],
      "metadata": {
        "id": "zVy2GmD0mzVo"
      }
    },
    {
      "cell_type": "code",
      "source": [
        "import os\n",
        "os.listdir('/content/drive/MyDrive/AIS_DG/')"
      ],
      "metadata": {
        "id": "nQBb6JSUmh33"
      },
      "execution_count": null,
      "outputs": []
    },
    {
      "cell_type": "code",
      "source": [
        "os.rename('/content/drive/MyDrive/AIS_DG/programming.txt',\n",
        "          '/content/drive/MyDrive/AIS_DG/p1.txt')\n",
        "os.listdir('/content/drive/MyDrive/AIS_DG/')"
      ],
      "metadata": {
        "id": "QAEjW0rWnKht"
      },
      "execution_count": null,
      "outputs": []
    },
    {
      "cell_type": "code",
      "source": [
        "import glob\n",
        "glob.glob('/content/drive/MyDrive/AIS_DG/*.csv')"
      ],
      "metadata": {
        "id": "c8tI7OPr7Lv4"
      },
      "execution_count": null,
      "outputs": []
    },
    {
      "cell_type": "code",
      "source": [
        "os.environ"
      ],
      "metadata": {
        "id": "am3MxllY8eI5"
      },
      "execution_count": null,
      "outputs": []
    },
    {
      "cell_type": "markdown",
      "source": [
        "## Reading CSV (Pandas DataFrame)"
      ],
      "metadata": {
        "id": "k517ikB8n10E"
      }
    },
    {
      "cell_type": "code",
      "source": [
        "import pandas as pd\n",
        "df = pd.read_csv('/content/drive/MyDrive/AIS_DG/Telco-Churn.csv')\n",
        "df.info()"
      ],
      "metadata": {
        "id": "PAVVFtfInugj"
      },
      "execution_count": null,
      "outputs": []
    },
    {
      "cell_type": "code",
      "source": [
        "df_chunks = pd.read_csv('/content/drive/MyDrive/AIS_DG/Telco-Churn.csv',\n",
        "                       iterator=True, chunksize=700)"
      ],
      "metadata": {
        "id": "wcBY6pMC-ZfG"
      },
      "execution_count": null,
      "outputs": []
    },
    {
      "cell_type": "code",
      "source": [
        "for d in df_chunks:\n",
        "    print(max(d.index))"
      ],
      "metadata": {
        "id": "DooSjsd4_N8T"
      },
      "execution_count": null,
      "outputs": []
    },
    {
      "cell_type": "code",
      "source": [
        "x1 = df_chunks.get_chunk()\n",
        "print(x1.shape)\n",
        "x1.head()"
      ],
      "metadata": {
        "id": "JZtVT0Ts-l2I"
      },
      "execution_count": null,
      "outputs": []
    },
    {
      "cell_type": "code",
      "source": [
        "x2 = df_chunks.get_chunk()\n",
        "print(x2.shape)\n",
        "x2.head()"
      ],
      "metadata": {
        "id": "e6HawAxS-3KL"
      },
      "execution_count": null,
      "outputs": []
    },
    {
      "cell_type": "code",
      "source": [
        "df_chunks"
      ],
      "metadata": {
        "id": "hzxCQxiU_CbE"
      },
      "execution_count": null,
      "outputs": []
    },
    {
      "cell_type": "markdown",
      "source": [
        "## Reading an Excel file"
      ],
      "metadata": {
        "id": "3TsPlkPDoLpK"
      }
    },
    {
      "cell_type": "code",
      "source": [
        "superstore = pd.read_excel('/content/drive/MyDrive/AIS_DG/Superstore.xlsx')\n",
        "superstore.head()"
      ],
      "metadata": {
        "id": "wAbyM8N-oA8x"
      },
      "execution_count": null,
      "outputs": []
    },
    {
      "cell_type": "code",
      "source": [
        "superstore_file = pd.ExcelFile('/content/drive/MyDrive/AIS_DG/Superstore.xlsx')"
      ],
      "metadata": {
        "id": "3mvV1uDgB54u"
      },
      "execution_count": null,
      "outputs": []
    },
    {
      "cell_type": "code",
      "source": [
        "sn = superstore_file.sheet_names"
      ],
      "metadata": {
        "id": "B1Y_zkHXCDUf"
      },
      "execution_count": null,
      "outputs": []
    },
    {
      "cell_type": "code",
      "source": [
        "d_excel = pd.read_excel(superstore_file, sheet_name=sn)"
      ],
      "metadata": {
        "id": "y7CLvGzuCiI4"
      },
      "execution_count": null,
      "outputs": []
    },
    {
      "cell_type": "code",
      "source": [
        "d_excel['People']"
      ],
      "metadata": {
        "id": "HyfA3YXRC468"
      },
      "execution_count": null,
      "outputs": []
    },
    {
      "cell_type": "markdown",
      "source": [
        "## Reading JSON"
      ],
      "metadata": {
        "id": "9UbPtSYXogvj"
      }
    },
    {
      "cell_type": "code",
      "source": [
        "import json\n",
        "\n",
        "f = open('/content/drive/MyDrive/AIS_DG/btc.json')\n",
        "\n",
        "content = json.load(f)\n",
        "\n",
        "f.close()\n",
        "print(content)"
      ],
      "metadata": {
        "id": "7C8kB400oT42"
      },
      "execution_count": null,
      "outputs": []
    },
    {
      "cell_type": "code",
      "source": [],
      "metadata": {
        "id": "l0mfZRYEFijR"
      },
      "execution_count": null,
      "outputs": []
    },
    {
      "cell_type": "code",
      "source": [
        "d = json.load(open('/content/drive/MyDrive/AIS_DG/cc.json'))\n",
        "d[:2]"
      ],
      "metadata": {
        "id": "TZ5ueTu8DdS9"
      },
      "execution_count": null,
      "outputs": []
    },
    {
      "cell_type": "code",
      "source": [
        "pd.read_json('/content/drive/MyDrive/AIS_DG/cc.json')"
      ],
      "metadata": {
        "id": "HuRkufiWFwg2"
      },
      "execution_count": null,
      "outputs": []
    },
    {
      "cell_type": "markdown",
      "source": [
        "## Read/write pickles"
      ],
      "metadata": {
        "id": "0Wq52gxapGTN"
      }
    },
    {
      "cell_type": "code",
      "source": [
        "import glob\n",
        "\n",
        "superstore.to_pickle('/content/drive/MyDrive/AIS_DG/superstore.data')\n",
        "print(glob.glob('/content/drive/MyDrive/AIS_DG/*.data'))"
      ],
      "metadata": {
        "id": "5zmhHHfKo5eN"
      },
      "execution_count": null,
      "outputs": []
    },
    {
      "cell_type": "code",
      "source": [
        "df1 = pd.read_pickle('/content/drive/MyDrive/AIS_DG/superstore.data')\n",
        "df1.head()"
      ],
      "metadata": {
        "id": "HCC5p3bwpVCp"
      },
      "execution_count": null,
      "outputs": []
    },
    {
      "cell_type": "code",
      "source": [
        "import pickle"
      ],
      "metadata": {
        "id": "MoyXp99gGv9U"
      },
      "execution_count": null,
      "outputs": []
    },
    {
      "cell_type": "code",
      "source": [
        "df1.to_pickle('test.data')"
      ],
      "metadata": {
        "id": "F45MUv15Gyy5"
      },
      "execution_count": null,
      "outputs": []
    },
    {
      "cell_type": "markdown",
      "source": [
        "## Read file from URL"
      ],
      "metadata": {
        "id": "csT6cIdopsGI"
      }
    },
    {
      "cell_type": "code",
      "source": [
        "weather = pd.read_csv('http://fastdata.in.th/AIS/weather_daily_darksky.csv')\n",
        "weather.head()"
      ],
      "metadata": {
        "id": "vDLYAdZzpjiw"
      },
      "execution_count": null,
      "outputs": []
    },
    {
      "cell_type": "markdown",
      "source": [
        "## API call"
      ],
      "metadata": {
        "id": "NqeDPjA4qxSR"
      }
    },
    {
      "cell_type": "code",
      "source": [
        "import requests\n",
        "\n",
        "resp = requests.get('https://api.coingecko.com/api/v3/coins/markets/?vs_currency=usd')\n",
        "print(resp.status_code)\n",
        "crypto_data = resp.json()\n",
        "print(crypto_data)"
      ],
      "metadata": {
        "id": "4599tN_uqGib"
      },
      "execution_count": null,
      "outputs": []
    },
    {
      "cell_type": "markdown",
      "source": [
        "---"
      ],
      "metadata": {
        "id": "WgDh5lhOrqiq"
      }
    },
    {
      "cell_type": "markdown",
      "source": [
        "## Activity\n",
        "\n",
        "Add a function to myutils.py\n",
        "\n",
        "Function Name: load_current_weather\n",
        "\n",
        "Description: extract data from TMD Weather API and append it to file specified in the argument. If not exist, create a new file.\n",
        "\n",
        "Import and test the function.\n",
        "\n",
        "TMD Weather URL: https://data.tmd.go.th"
      ],
      "metadata": {
        "id": "AEOr1IW1rruc"
      }
    },
    {
      "cell_type": "code",
      "source": [
        "# work here\n",
        "%%writefile myutils.py\n",
        "\n",
        "\n",
        "def load_current_weather(dest:str):\n",
        "  \"\"\" load and extract data from api to dataframe format and save\n",
        "      arg:\n",
        "        dest: file path\n",
        "  \"\"\"\n",
        "  import requests\n",
        "  from bs4 import BeautifulSoup\n",
        "  import pandas as pd\n",
        "\n",
        "  # load data from api\n",
        "  url = \"https://data.tmd.go.th/api/Weather3Hours/V2/?uid=api&ukey=api12345\"\n",
        "  response = requests.request(\"GET\", url)\n",
        "  data = response.text\n",
        "\n",
        "  # extract data\n",
        "  soup = BeautifulSoup(data, 'xml')\n",
        "  list_stations = soup.find_all('Station')\n",
        "\n",
        "  dt1 = [s.find('DateTime').text for s in list_stations]\n",
        "  sn1 = [s.find('StationNameThai').text for s in list_stations]\n",
        "  at1 = [s.find('AirTemperature').text for s in list_stations]\n",
        "\n",
        "  d = pd.DataFrame({'Date':dt1,'StationName': sn1, 'AirTemperature': at1})\n",
        "\n",
        "  d.to_csv(dest,mode = 'a',header=False)\n"
      ],
      "metadata": {
        "id": "AxLgxBvZq-eG",
        "colab": {
          "base_uri": "https://localhost:8080/"
        },
        "outputId": "97b4e430-2194-44aa-a046-3a8dd8fdc6ad"
      },
      "execution_count": 1,
      "outputs": [
        {
          "output_type": "stream",
          "name": "stdout",
          "text": [
            "Writing myutils.py\n"
          ]
        }
      ]
    },
    {
      "cell_type": "code",
      "source": [
        "from myutils import load_current_weather\n",
        "dest = \"./result.csv\"\n",
        "load_current_weather(dest)"
      ],
      "metadata": {
        "id": "xL5ZK7cuQi2M"
      },
      "execution_count": 2,
      "outputs": []
    },
    {
      "cell_type": "code",
      "source": [
        "import pandas as pd\n",
        "test_df = pd.read_csv(dest)\n",
        "test_df.head()"
      ],
      "metadata": {
        "colab": {
          "base_uri": "https://localhost:8080/",
          "height": 206
        },
        "id": "H9QW2kJRR0f3",
        "outputId": "dbba0404-db08-45d5-d88b-3ba70774e568"
      },
      "execution_count": 3,
      "outputs": [
        {
          "output_type": "execute_result",
          "data": {
            "text/plain": [
              "   0  02/02/2024 13:00:00     แม่ฮ่องสอน  26.2\n",
              "0  1  02/02/2024 13:00:00     ดอยอ่างขาง  17.0\n",
              "1  2  02/02/2024 13:00:00       เชียงราย  28.4\n",
              "2  3  02/02/2024 13:00:00  เชียงราย สกษ.  28.7\n",
              "3  4  02/02/2024 13:00:00       ทุ่งช้าง  31.0\n",
              "4  5  02/02/2024 13:00:00          พะเยา  31.0"
            ],
            "text/html": [
              "\n",
              "  <div id=\"df-4d8e8195-a5a3-4ff2-824a-2f3252479c03\" class=\"colab-df-container\">\n",
              "    <div>\n",
              "<style scoped>\n",
              "    .dataframe tbody tr th:only-of-type {\n",
              "        vertical-align: middle;\n",
              "    }\n",
              "\n",
              "    .dataframe tbody tr th {\n",
              "        vertical-align: top;\n",
              "    }\n",
              "\n",
              "    .dataframe thead th {\n",
              "        text-align: right;\n",
              "    }\n",
              "</style>\n",
              "<table border=\"1\" class=\"dataframe\">\n",
              "  <thead>\n",
              "    <tr style=\"text-align: right;\">\n",
              "      <th></th>\n",
              "      <th>0</th>\n",
              "      <th>02/02/2024 13:00:00</th>\n",
              "      <th>แม่ฮ่องสอน</th>\n",
              "      <th>26.2</th>\n",
              "    </tr>\n",
              "  </thead>\n",
              "  <tbody>\n",
              "    <tr>\n",
              "      <th>0</th>\n",
              "      <td>1</td>\n",
              "      <td>02/02/2024 13:00:00</td>\n",
              "      <td>ดอยอ่างขาง</td>\n",
              "      <td>17.0</td>\n",
              "    </tr>\n",
              "    <tr>\n",
              "      <th>1</th>\n",
              "      <td>2</td>\n",
              "      <td>02/02/2024 13:00:00</td>\n",
              "      <td>เชียงราย</td>\n",
              "      <td>28.4</td>\n",
              "    </tr>\n",
              "    <tr>\n",
              "      <th>2</th>\n",
              "      <td>3</td>\n",
              "      <td>02/02/2024 13:00:00</td>\n",
              "      <td>เชียงราย สกษ.</td>\n",
              "      <td>28.7</td>\n",
              "    </tr>\n",
              "    <tr>\n",
              "      <th>3</th>\n",
              "      <td>4</td>\n",
              "      <td>02/02/2024 13:00:00</td>\n",
              "      <td>ทุ่งช้าง</td>\n",
              "      <td>31.0</td>\n",
              "    </tr>\n",
              "    <tr>\n",
              "      <th>4</th>\n",
              "      <td>5</td>\n",
              "      <td>02/02/2024 13:00:00</td>\n",
              "      <td>พะเยา</td>\n",
              "      <td>31.0</td>\n",
              "    </tr>\n",
              "  </tbody>\n",
              "</table>\n",
              "</div>\n",
              "    <div class=\"colab-df-buttons\">\n",
              "\n",
              "  <div class=\"colab-df-container\">\n",
              "    <button class=\"colab-df-convert\" onclick=\"convertToInteractive('df-4d8e8195-a5a3-4ff2-824a-2f3252479c03')\"\n",
              "            title=\"Convert this dataframe to an interactive table.\"\n",
              "            style=\"display:none;\">\n",
              "\n",
              "  <svg xmlns=\"http://www.w3.org/2000/svg\" height=\"24px\" viewBox=\"0 -960 960 960\">\n",
              "    <path d=\"M120-120v-720h720v720H120Zm60-500h600v-160H180v160Zm220 220h160v-160H400v160Zm0 220h160v-160H400v160ZM180-400h160v-160H180v160Zm440 0h160v-160H620v160ZM180-180h160v-160H180v160Zm440 0h160v-160H620v160Z\"/>\n",
              "  </svg>\n",
              "    </button>\n",
              "\n",
              "  <style>\n",
              "    .colab-df-container {\n",
              "      display:flex;\n",
              "      gap: 12px;\n",
              "    }\n",
              "\n",
              "    .colab-df-convert {\n",
              "      background-color: #E8F0FE;\n",
              "      border: none;\n",
              "      border-radius: 50%;\n",
              "      cursor: pointer;\n",
              "      display: none;\n",
              "      fill: #1967D2;\n",
              "      height: 32px;\n",
              "      padding: 0 0 0 0;\n",
              "      width: 32px;\n",
              "    }\n",
              "\n",
              "    .colab-df-convert:hover {\n",
              "      background-color: #E2EBFA;\n",
              "      box-shadow: 0px 1px 2px rgba(60, 64, 67, 0.3), 0px 1px 3px 1px rgba(60, 64, 67, 0.15);\n",
              "      fill: #174EA6;\n",
              "    }\n",
              "\n",
              "    .colab-df-buttons div {\n",
              "      margin-bottom: 4px;\n",
              "    }\n",
              "\n",
              "    [theme=dark] .colab-df-convert {\n",
              "      background-color: #3B4455;\n",
              "      fill: #D2E3FC;\n",
              "    }\n",
              "\n",
              "    [theme=dark] .colab-df-convert:hover {\n",
              "      background-color: #434B5C;\n",
              "      box-shadow: 0px 1px 3px 1px rgba(0, 0, 0, 0.15);\n",
              "      filter: drop-shadow(0px 1px 2px rgba(0, 0, 0, 0.3));\n",
              "      fill: #FFFFFF;\n",
              "    }\n",
              "  </style>\n",
              "\n",
              "    <script>\n",
              "      const buttonEl =\n",
              "        document.querySelector('#df-4d8e8195-a5a3-4ff2-824a-2f3252479c03 button.colab-df-convert');\n",
              "      buttonEl.style.display =\n",
              "        google.colab.kernel.accessAllowed ? 'block' : 'none';\n",
              "\n",
              "      async function convertToInteractive(key) {\n",
              "        const element = document.querySelector('#df-4d8e8195-a5a3-4ff2-824a-2f3252479c03');\n",
              "        const dataTable =\n",
              "          await google.colab.kernel.invokeFunction('convertToInteractive',\n",
              "                                                    [key], {});\n",
              "        if (!dataTable) return;\n",
              "\n",
              "        const docLinkHtml = 'Like what you see? Visit the ' +\n",
              "          '<a target=\"_blank\" href=https://colab.research.google.com/notebooks/data_table.ipynb>data table notebook</a>'\n",
              "          + ' to learn more about interactive tables.';\n",
              "        element.innerHTML = '';\n",
              "        dataTable['output_type'] = 'display_data';\n",
              "        await google.colab.output.renderOutput(dataTable, element);\n",
              "        const docLink = document.createElement('div');\n",
              "        docLink.innerHTML = docLinkHtml;\n",
              "        element.appendChild(docLink);\n",
              "      }\n",
              "    </script>\n",
              "  </div>\n",
              "\n",
              "\n",
              "<div id=\"df-2d123464-ea17-4998-98f5-20218288f91a\">\n",
              "  <button class=\"colab-df-quickchart\" onclick=\"quickchart('df-2d123464-ea17-4998-98f5-20218288f91a')\"\n",
              "            title=\"Suggest charts\"\n",
              "            style=\"display:none;\">\n",
              "\n",
              "<svg xmlns=\"http://www.w3.org/2000/svg\" height=\"24px\"viewBox=\"0 0 24 24\"\n",
              "     width=\"24px\">\n",
              "    <g>\n",
              "        <path d=\"M19 3H5c-1.1 0-2 .9-2 2v14c0 1.1.9 2 2 2h14c1.1 0 2-.9 2-2V5c0-1.1-.9-2-2-2zM9 17H7v-7h2v7zm4 0h-2V7h2v10zm4 0h-2v-4h2v4z\"/>\n",
              "    </g>\n",
              "</svg>\n",
              "  </button>\n",
              "\n",
              "<style>\n",
              "  .colab-df-quickchart {\n",
              "      --bg-color: #E8F0FE;\n",
              "      --fill-color: #1967D2;\n",
              "      --hover-bg-color: #E2EBFA;\n",
              "      --hover-fill-color: #174EA6;\n",
              "      --disabled-fill-color: #AAA;\n",
              "      --disabled-bg-color: #DDD;\n",
              "  }\n",
              "\n",
              "  [theme=dark] .colab-df-quickchart {\n",
              "      --bg-color: #3B4455;\n",
              "      --fill-color: #D2E3FC;\n",
              "      --hover-bg-color: #434B5C;\n",
              "      --hover-fill-color: #FFFFFF;\n",
              "      --disabled-bg-color: #3B4455;\n",
              "      --disabled-fill-color: #666;\n",
              "  }\n",
              "\n",
              "  .colab-df-quickchart {\n",
              "    background-color: var(--bg-color);\n",
              "    border: none;\n",
              "    border-radius: 50%;\n",
              "    cursor: pointer;\n",
              "    display: none;\n",
              "    fill: var(--fill-color);\n",
              "    height: 32px;\n",
              "    padding: 0;\n",
              "    width: 32px;\n",
              "  }\n",
              "\n",
              "  .colab-df-quickchart:hover {\n",
              "    background-color: var(--hover-bg-color);\n",
              "    box-shadow: 0 1px 2px rgba(60, 64, 67, 0.3), 0 1px 3px 1px rgba(60, 64, 67, 0.15);\n",
              "    fill: var(--button-hover-fill-color);\n",
              "  }\n",
              "\n",
              "  .colab-df-quickchart-complete:disabled,\n",
              "  .colab-df-quickchart-complete:disabled:hover {\n",
              "    background-color: var(--disabled-bg-color);\n",
              "    fill: var(--disabled-fill-color);\n",
              "    box-shadow: none;\n",
              "  }\n",
              "\n",
              "  .colab-df-spinner {\n",
              "    border: 2px solid var(--fill-color);\n",
              "    border-color: transparent;\n",
              "    border-bottom-color: var(--fill-color);\n",
              "    animation:\n",
              "      spin 1s steps(1) infinite;\n",
              "  }\n",
              "\n",
              "  @keyframes spin {\n",
              "    0% {\n",
              "      border-color: transparent;\n",
              "      border-bottom-color: var(--fill-color);\n",
              "      border-left-color: var(--fill-color);\n",
              "    }\n",
              "    20% {\n",
              "      border-color: transparent;\n",
              "      border-left-color: var(--fill-color);\n",
              "      border-top-color: var(--fill-color);\n",
              "    }\n",
              "    30% {\n",
              "      border-color: transparent;\n",
              "      border-left-color: var(--fill-color);\n",
              "      border-top-color: var(--fill-color);\n",
              "      border-right-color: var(--fill-color);\n",
              "    }\n",
              "    40% {\n",
              "      border-color: transparent;\n",
              "      border-right-color: var(--fill-color);\n",
              "      border-top-color: var(--fill-color);\n",
              "    }\n",
              "    60% {\n",
              "      border-color: transparent;\n",
              "      border-right-color: var(--fill-color);\n",
              "    }\n",
              "    80% {\n",
              "      border-color: transparent;\n",
              "      border-right-color: var(--fill-color);\n",
              "      border-bottom-color: var(--fill-color);\n",
              "    }\n",
              "    90% {\n",
              "      border-color: transparent;\n",
              "      border-bottom-color: var(--fill-color);\n",
              "    }\n",
              "  }\n",
              "</style>\n",
              "\n",
              "  <script>\n",
              "    async function quickchart(key) {\n",
              "      const quickchartButtonEl =\n",
              "        document.querySelector('#' + key + ' button');\n",
              "      quickchartButtonEl.disabled = true;  // To prevent multiple clicks.\n",
              "      quickchartButtonEl.classList.add('colab-df-spinner');\n",
              "      try {\n",
              "        const charts = await google.colab.kernel.invokeFunction(\n",
              "            'suggestCharts', [key], {});\n",
              "      } catch (error) {\n",
              "        console.error('Error during call to suggestCharts:', error);\n",
              "      }\n",
              "      quickchartButtonEl.classList.remove('colab-df-spinner');\n",
              "      quickchartButtonEl.classList.add('colab-df-quickchart-complete');\n",
              "    }\n",
              "    (() => {\n",
              "      let quickchartButtonEl =\n",
              "        document.querySelector('#df-2d123464-ea17-4998-98f5-20218288f91a button');\n",
              "      quickchartButtonEl.style.display =\n",
              "        google.colab.kernel.accessAllowed ? 'block' : 'none';\n",
              "    })();\n",
              "  </script>\n",
              "</div>\n",
              "    </div>\n",
              "  </div>\n"
            ]
          },
          "metadata": {},
          "execution_count": 3
        }
      ]
    },
    {
      "cell_type": "code",
      "source": [
        "import requests\n",
        "\n",
        "url = \"https://data.tmd.go.th/api/Weather3Hours/V2/?uid=api&ukey=api12345\"\n",
        "\n",
        "response = requests.request(\"GET\", url)\n",
        "\n",
        "data = response.text"
      ],
      "metadata": {
        "id": "3aAOt33vu4R_"
      },
      "execution_count": 4,
      "outputs": []
    },
    {
      "cell_type": "code",
      "source": [
        "from bs4 import BeautifulSoup"
      ],
      "metadata": {
        "id": "_NwBCplJPWgS"
      },
      "execution_count": 5,
      "outputs": []
    },
    {
      "cell_type": "code",
      "source": [
        "soup = BeautifulSoup(data, 'xml')"
      ],
      "metadata": {
        "id": "5uJFLVLbO-wU"
      },
      "execution_count": 6,
      "outputs": []
    },
    {
      "cell_type": "code",
      "source": [
        "list_stations = soup.find_all('Station')"
      ],
      "metadata": {
        "id": "gcw3c839QDed"
      },
      "execution_count": 7,
      "outputs": []
    },
    {
      "cell_type": "code",
      "source": [
        "len(list_stations)"
      ],
      "metadata": {
        "id": "zID8JJkPQmNM",
        "colab": {
          "base_uri": "https://localhost:8080/"
        },
        "outputId": "13b65b44-799d-4d72-fb4f-1037b162ff2d"
      },
      "execution_count": 8,
      "outputs": [
        {
          "output_type": "execute_result",
          "data": {
            "text/plain": [
              "128"
            ]
          },
          "metadata": {},
          "execution_count": 8
        }
      ]
    },
    {
      "cell_type": "code",
      "source": [
        "list_stations[0]"
      ],
      "metadata": {
        "id": "RNBxD-AwRf1g",
        "colab": {
          "base_uri": "https://localhost:8080/"
        },
        "outputId": "bc4ed810-9901-4cad-b360-653b3009bcbf"
      },
      "execution_count": 9,
      "outputs": [
        {
          "output_type": "execute_result",
          "data": {
            "text/plain": [
              "<Station><WmoStationNumber>48300</WmoStationNumber><StationNameThai>แม่ฮ่องสอน</StationNameThai><StationNameEnglish>MAE HONG SON</StationNameEnglish><Province>แม่ฮ่องสอน</Province><Latitude Unit=\"decimal degree\">19.29897</Latitude><Longitude Unit=\"decimal degree\">97.97578</Longitude><Observation><DateTime>02/02/2024 13:00:00</DateTime><StationPressure unit=\"hPa\">984.30</StationPressure><MeanSeaLevelPressure Unit=\"hPa\">1014.57</MeanSeaLevelPressure><AirTemperature Unit=\"celsius\">26.2</AirTemperature><DewPoint Unit=\"celsius\">14.1</DewPoint><RelativeHumidity Unit=\"%\">47</RelativeHumidity><VaporPressure Unit=\"mb\">16.06</VaporPressure><LandVisibility Unit=\"km\">10.00</LandVisibility><WindDirection Unit=\"degree\">000</WindDirection><WindSpeed Unit=\"km/h\">0.0</WindSpeed><Rainfall Unit=\"mm\">0.00</Rainfall><Rainfall24Hr Unit=\"mm\">0.00</Rainfall24Hr></Observation></Station>"
            ]
          },
          "metadata": {},
          "execution_count": 9
        }
      ]
    },
    {
      "cell_type": "code",
      "source": [
        "list_stations[0].find('StationNameThai').text"
      ],
      "metadata": {
        "id": "TEdTa-yTQvAS",
        "colab": {
          "base_uri": "https://localhost:8080/",
          "height": 36
        },
        "outputId": "077738b4-9092-4788-9cbf-65e5486ecbe6"
      },
      "execution_count": 10,
      "outputs": [
        {
          "output_type": "execute_result",
          "data": {
            "text/plain": [
              "'แม่ฮ่องสอน'"
            ],
            "application/vnd.google.colaboratory.intrinsic+json": {
              "type": "string"
            }
          },
          "metadata": {},
          "execution_count": 10
        }
      ]
    },
    {
      "cell_type": "code",
      "source": [
        "dt1 = [s.find('DateTime').text for s in list_stations]\n",
        "sn1 = [s.find('StationNameThai').text for s in list_stations]\n",
        "at1 = [s.find('AirTemperature').text for s in list_stations]"
      ],
      "metadata": {
        "id": "Kc2p1FS1RKIX"
      },
      "execution_count": 11,
      "outputs": []
    },
    {
      "cell_type": "code",
      "source": [
        "d = pd.DataFrame({'Date':dt1,'StationName': sn1, 'AirTemperature': at1})\n",
        "d.head()"
      ],
      "metadata": {
        "id": "A3W21CdRRw0x",
        "colab": {
          "base_uri": "https://localhost:8080/",
          "height": 206
        },
        "outputId": "86de867d-7426-46bf-d072-96bad1593a87"
      },
      "execution_count": 12,
      "outputs": [
        {
          "output_type": "execute_result",
          "data": {
            "text/plain": [
              "                  Date    StationName AirTemperature\n",
              "0  02/02/2024 13:00:00     แม่ฮ่องสอน           26.2\n",
              "1  02/02/2024 13:00:00     ดอยอ่างขาง           17.0\n",
              "2  02/02/2024 13:00:00       เชียงราย           28.4\n",
              "3  02/02/2024 13:00:00  เชียงราย สกษ.           28.7\n",
              "4  02/02/2024 13:00:00       ทุ่งช้าง           31.0"
            ],
            "text/html": [
              "\n",
              "  <div id=\"df-e4ddcf9e-e1d9-4eb1-94a6-d3846121259c\" class=\"colab-df-container\">\n",
              "    <div>\n",
              "<style scoped>\n",
              "    .dataframe tbody tr th:only-of-type {\n",
              "        vertical-align: middle;\n",
              "    }\n",
              "\n",
              "    .dataframe tbody tr th {\n",
              "        vertical-align: top;\n",
              "    }\n",
              "\n",
              "    .dataframe thead th {\n",
              "        text-align: right;\n",
              "    }\n",
              "</style>\n",
              "<table border=\"1\" class=\"dataframe\">\n",
              "  <thead>\n",
              "    <tr style=\"text-align: right;\">\n",
              "      <th></th>\n",
              "      <th>Date</th>\n",
              "      <th>StationName</th>\n",
              "      <th>AirTemperature</th>\n",
              "    </tr>\n",
              "  </thead>\n",
              "  <tbody>\n",
              "    <tr>\n",
              "      <th>0</th>\n",
              "      <td>02/02/2024 13:00:00</td>\n",
              "      <td>แม่ฮ่องสอน</td>\n",
              "      <td>26.2</td>\n",
              "    </tr>\n",
              "    <tr>\n",
              "      <th>1</th>\n",
              "      <td>02/02/2024 13:00:00</td>\n",
              "      <td>ดอยอ่างขาง</td>\n",
              "      <td>17.0</td>\n",
              "    </tr>\n",
              "    <tr>\n",
              "      <th>2</th>\n",
              "      <td>02/02/2024 13:00:00</td>\n",
              "      <td>เชียงราย</td>\n",
              "      <td>28.4</td>\n",
              "    </tr>\n",
              "    <tr>\n",
              "      <th>3</th>\n",
              "      <td>02/02/2024 13:00:00</td>\n",
              "      <td>เชียงราย สกษ.</td>\n",
              "      <td>28.7</td>\n",
              "    </tr>\n",
              "    <tr>\n",
              "      <th>4</th>\n",
              "      <td>02/02/2024 13:00:00</td>\n",
              "      <td>ทุ่งช้าง</td>\n",
              "      <td>31.0</td>\n",
              "    </tr>\n",
              "  </tbody>\n",
              "</table>\n",
              "</div>\n",
              "    <div class=\"colab-df-buttons\">\n",
              "\n",
              "  <div class=\"colab-df-container\">\n",
              "    <button class=\"colab-df-convert\" onclick=\"convertToInteractive('df-e4ddcf9e-e1d9-4eb1-94a6-d3846121259c')\"\n",
              "            title=\"Convert this dataframe to an interactive table.\"\n",
              "            style=\"display:none;\">\n",
              "\n",
              "  <svg xmlns=\"http://www.w3.org/2000/svg\" height=\"24px\" viewBox=\"0 -960 960 960\">\n",
              "    <path d=\"M120-120v-720h720v720H120Zm60-500h600v-160H180v160Zm220 220h160v-160H400v160Zm0 220h160v-160H400v160ZM180-400h160v-160H180v160Zm440 0h160v-160H620v160ZM180-180h160v-160H180v160Zm440 0h160v-160H620v160Z\"/>\n",
              "  </svg>\n",
              "    </button>\n",
              "\n",
              "  <style>\n",
              "    .colab-df-container {\n",
              "      display:flex;\n",
              "      gap: 12px;\n",
              "    }\n",
              "\n",
              "    .colab-df-convert {\n",
              "      background-color: #E8F0FE;\n",
              "      border: none;\n",
              "      border-radius: 50%;\n",
              "      cursor: pointer;\n",
              "      display: none;\n",
              "      fill: #1967D2;\n",
              "      height: 32px;\n",
              "      padding: 0 0 0 0;\n",
              "      width: 32px;\n",
              "    }\n",
              "\n",
              "    .colab-df-convert:hover {\n",
              "      background-color: #E2EBFA;\n",
              "      box-shadow: 0px 1px 2px rgba(60, 64, 67, 0.3), 0px 1px 3px 1px rgba(60, 64, 67, 0.15);\n",
              "      fill: #174EA6;\n",
              "    }\n",
              "\n",
              "    .colab-df-buttons div {\n",
              "      margin-bottom: 4px;\n",
              "    }\n",
              "\n",
              "    [theme=dark] .colab-df-convert {\n",
              "      background-color: #3B4455;\n",
              "      fill: #D2E3FC;\n",
              "    }\n",
              "\n",
              "    [theme=dark] .colab-df-convert:hover {\n",
              "      background-color: #434B5C;\n",
              "      box-shadow: 0px 1px 3px 1px rgba(0, 0, 0, 0.15);\n",
              "      filter: drop-shadow(0px 1px 2px rgba(0, 0, 0, 0.3));\n",
              "      fill: #FFFFFF;\n",
              "    }\n",
              "  </style>\n",
              "\n",
              "    <script>\n",
              "      const buttonEl =\n",
              "        document.querySelector('#df-e4ddcf9e-e1d9-4eb1-94a6-d3846121259c button.colab-df-convert');\n",
              "      buttonEl.style.display =\n",
              "        google.colab.kernel.accessAllowed ? 'block' : 'none';\n",
              "\n",
              "      async function convertToInteractive(key) {\n",
              "        const element = document.querySelector('#df-e4ddcf9e-e1d9-4eb1-94a6-d3846121259c');\n",
              "        const dataTable =\n",
              "          await google.colab.kernel.invokeFunction('convertToInteractive',\n",
              "                                                    [key], {});\n",
              "        if (!dataTable) return;\n",
              "\n",
              "        const docLinkHtml = 'Like what you see? Visit the ' +\n",
              "          '<a target=\"_blank\" href=https://colab.research.google.com/notebooks/data_table.ipynb>data table notebook</a>'\n",
              "          + ' to learn more about interactive tables.';\n",
              "        element.innerHTML = '';\n",
              "        dataTable['output_type'] = 'display_data';\n",
              "        await google.colab.output.renderOutput(dataTable, element);\n",
              "        const docLink = document.createElement('div');\n",
              "        docLink.innerHTML = docLinkHtml;\n",
              "        element.appendChild(docLink);\n",
              "      }\n",
              "    </script>\n",
              "  </div>\n",
              "\n",
              "\n",
              "<div id=\"df-e8dcc9bb-f8b8-4db4-bcff-f69e833c1b48\">\n",
              "  <button class=\"colab-df-quickchart\" onclick=\"quickchart('df-e8dcc9bb-f8b8-4db4-bcff-f69e833c1b48')\"\n",
              "            title=\"Suggest charts\"\n",
              "            style=\"display:none;\">\n",
              "\n",
              "<svg xmlns=\"http://www.w3.org/2000/svg\" height=\"24px\"viewBox=\"0 0 24 24\"\n",
              "     width=\"24px\">\n",
              "    <g>\n",
              "        <path d=\"M19 3H5c-1.1 0-2 .9-2 2v14c0 1.1.9 2 2 2h14c1.1 0 2-.9 2-2V5c0-1.1-.9-2-2-2zM9 17H7v-7h2v7zm4 0h-2V7h2v10zm4 0h-2v-4h2v4z\"/>\n",
              "    </g>\n",
              "</svg>\n",
              "  </button>\n",
              "\n",
              "<style>\n",
              "  .colab-df-quickchart {\n",
              "      --bg-color: #E8F0FE;\n",
              "      --fill-color: #1967D2;\n",
              "      --hover-bg-color: #E2EBFA;\n",
              "      --hover-fill-color: #174EA6;\n",
              "      --disabled-fill-color: #AAA;\n",
              "      --disabled-bg-color: #DDD;\n",
              "  }\n",
              "\n",
              "  [theme=dark] .colab-df-quickchart {\n",
              "      --bg-color: #3B4455;\n",
              "      --fill-color: #D2E3FC;\n",
              "      --hover-bg-color: #434B5C;\n",
              "      --hover-fill-color: #FFFFFF;\n",
              "      --disabled-bg-color: #3B4455;\n",
              "      --disabled-fill-color: #666;\n",
              "  }\n",
              "\n",
              "  .colab-df-quickchart {\n",
              "    background-color: var(--bg-color);\n",
              "    border: none;\n",
              "    border-radius: 50%;\n",
              "    cursor: pointer;\n",
              "    display: none;\n",
              "    fill: var(--fill-color);\n",
              "    height: 32px;\n",
              "    padding: 0;\n",
              "    width: 32px;\n",
              "  }\n",
              "\n",
              "  .colab-df-quickchart:hover {\n",
              "    background-color: var(--hover-bg-color);\n",
              "    box-shadow: 0 1px 2px rgba(60, 64, 67, 0.3), 0 1px 3px 1px rgba(60, 64, 67, 0.15);\n",
              "    fill: var(--button-hover-fill-color);\n",
              "  }\n",
              "\n",
              "  .colab-df-quickchart-complete:disabled,\n",
              "  .colab-df-quickchart-complete:disabled:hover {\n",
              "    background-color: var(--disabled-bg-color);\n",
              "    fill: var(--disabled-fill-color);\n",
              "    box-shadow: none;\n",
              "  }\n",
              "\n",
              "  .colab-df-spinner {\n",
              "    border: 2px solid var(--fill-color);\n",
              "    border-color: transparent;\n",
              "    border-bottom-color: var(--fill-color);\n",
              "    animation:\n",
              "      spin 1s steps(1) infinite;\n",
              "  }\n",
              "\n",
              "  @keyframes spin {\n",
              "    0% {\n",
              "      border-color: transparent;\n",
              "      border-bottom-color: var(--fill-color);\n",
              "      border-left-color: var(--fill-color);\n",
              "    }\n",
              "    20% {\n",
              "      border-color: transparent;\n",
              "      border-left-color: var(--fill-color);\n",
              "      border-top-color: var(--fill-color);\n",
              "    }\n",
              "    30% {\n",
              "      border-color: transparent;\n",
              "      border-left-color: var(--fill-color);\n",
              "      border-top-color: var(--fill-color);\n",
              "      border-right-color: var(--fill-color);\n",
              "    }\n",
              "    40% {\n",
              "      border-color: transparent;\n",
              "      border-right-color: var(--fill-color);\n",
              "      border-top-color: var(--fill-color);\n",
              "    }\n",
              "    60% {\n",
              "      border-color: transparent;\n",
              "      border-right-color: var(--fill-color);\n",
              "    }\n",
              "    80% {\n",
              "      border-color: transparent;\n",
              "      border-right-color: var(--fill-color);\n",
              "      border-bottom-color: var(--fill-color);\n",
              "    }\n",
              "    90% {\n",
              "      border-color: transparent;\n",
              "      border-bottom-color: var(--fill-color);\n",
              "    }\n",
              "  }\n",
              "</style>\n",
              "\n",
              "  <script>\n",
              "    async function quickchart(key) {\n",
              "      const quickchartButtonEl =\n",
              "        document.querySelector('#' + key + ' button');\n",
              "      quickchartButtonEl.disabled = true;  // To prevent multiple clicks.\n",
              "      quickchartButtonEl.classList.add('colab-df-spinner');\n",
              "      try {\n",
              "        const charts = await google.colab.kernel.invokeFunction(\n",
              "            'suggestCharts', [key], {});\n",
              "      } catch (error) {\n",
              "        console.error('Error during call to suggestCharts:', error);\n",
              "      }\n",
              "      quickchartButtonEl.classList.remove('colab-df-spinner');\n",
              "      quickchartButtonEl.classList.add('colab-df-quickchart-complete');\n",
              "    }\n",
              "    (() => {\n",
              "      let quickchartButtonEl =\n",
              "        document.querySelector('#df-e8dcc9bb-f8b8-4db4-bcff-f69e833c1b48 button');\n",
              "      quickchartButtonEl.style.display =\n",
              "        google.colab.kernel.accessAllowed ? 'block' : 'none';\n",
              "    })();\n",
              "  </script>\n",
              "</div>\n",
              "    </div>\n",
              "  </div>\n"
            ]
          },
          "metadata": {},
          "execution_count": 12
        }
      ]
    },
    {
      "cell_type": "code",
      "source": [
        "arg = '/content/drive/MyDrive/AIS_DG/result.csv'\n",
        "d.to_csv(arg,mode = 'a',header=False)"
      ],
      "metadata": {
        "id": "D6ERvo8eJiuc"
      },
      "execution_count": 15,
      "outputs": []
    },
    {
      "cell_type": "code",
      "source": [
        "pd.read_csv(arg).shape"
      ],
      "metadata": {
        "id": "JdNornurXAZe",
        "colab": {
          "base_uri": "https://localhost:8080/"
        },
        "outputId": "64887e43-d39f-4c87-8e81-9c4eb137cfca"
      },
      "execution_count": 16,
      "outputs": [
        {
          "output_type": "execute_result",
          "data": {
            "text/plain": [
              "(371, 4)"
            ]
          },
          "metadata": {},
          "execution_count": 16
        }
      ]
    }
  ]
}