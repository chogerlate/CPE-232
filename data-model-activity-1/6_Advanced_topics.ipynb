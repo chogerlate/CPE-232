{
  "nbformat": 4,
  "nbformat_minor": 0,
  "metadata": {
    "colab": {
      "provenance": [],
      "toc_visible": true
    },
    "kernelspec": {
      "name": "python3",
      "display_name": "Python 3"
    },
    "language_info": {
      "name": "python"
    }
  },
  "cells": [
    {
      "cell_type": "markdown",
      "source": [
        "# Python Programming (Basic-Intermediate)\n",
        "## Module 6 - Advanced Topics\n",
        "\n",
        "---"
      ],
      "metadata": {
        "id": "dv0grqTX14EZ"
      }
    },
    {
      "cell_type": "markdown",
      "source": [
        "# Object Oriented Programming (OOP)"
      ],
      "metadata": {
        "id": "Ss06od2gJu09"
      }
    },
    {
      "cell_type": "markdown",
      "source": [
        "## Creating the class"
      ],
      "metadata": {
        "id": "VRV-At0UA-xp"
      }
    },
    {
      "cell_type": "code",
      "execution_count": 1,
      "metadata": {
        "id": "9NfuamlR46HF"
      },
      "outputs": [],
      "source": [
        "class Dog:\n",
        "    \"\"\"A simple class of dogs\"\"\"\n",
        "\n",
        "    def __init__(self, name, age):\n",
        "        \"\"\"Initialize name and age attrbutes.\"\"\"\n",
        "        self.name = name\n",
        "        self.age = age\n",
        "\n",
        "    def sit(self):\n",
        "        \"\"\"Simulate a dog sitting in response to the command.\"\"\"\n",
        "        print(f\"{self.name} is now sitting.\")\n",
        "\n",
        "    def roll_over(self):\n",
        "        \"\"\"SImulate rolling over in response to the command.\"\"\"\n",
        "        print(f\"{self.name} rolled over.\")"
      ]
    },
    {
      "cell_type": "code",
      "source": [
        "dir()"
      ],
      "metadata": {
        "id": "_pvmDJvsEA16",
        "colab": {
          "base_uri": "https://localhost:8080/"
        },
        "outputId": "d3ae03ca-e652-478b-827f-9dbe0f7b4fb0"
      },
      "execution_count": 2,
      "outputs": [
        {
          "output_type": "execute_result",
          "data": {
            "text/plain": [
              "['Dog',\n",
              " 'In',\n",
              " 'Out',\n",
              " '_',\n",
              " '__',\n",
              " '___',\n",
              " '__builtin__',\n",
              " '__builtins__',\n",
              " '__doc__',\n",
              " '__loader__',\n",
              " '__name__',\n",
              " '__package__',\n",
              " '__spec__',\n",
              " '_dh',\n",
              " '_i',\n",
              " '_i1',\n",
              " '_i2',\n",
              " '_ih',\n",
              " '_ii',\n",
              " '_iii',\n",
              " '_oh',\n",
              " 'exit',\n",
              " 'get_ipython',\n",
              " 'quit']"
            ]
          },
          "metadata": {},
          "execution_count": 2
        }
      ]
    },
    {
      "cell_type": "code",
      "source": [
        "my_dog = Dog('Will', 6)\n",
        "\n",
        "print(f\"My dog's name is {my_dog.name}.\")\n",
        "print(f\"My dog is {my_dog.age} years old.\")"
      ],
      "metadata": {
        "id": "UsYGG1l1Bxw5",
        "colab": {
          "base_uri": "https://localhost:8080/"
        },
        "outputId": "a624e58f-c7af-4b8f-bb88-6de71a691000"
      },
      "execution_count": 3,
      "outputs": [
        {
          "output_type": "stream",
          "name": "stdout",
          "text": [
            "My dog's name is Will.\n",
            "My dog is 6 years old.\n"
          ]
        }
      ]
    },
    {
      "cell_type": "markdown",
      "source": [
        "## Calling methods"
      ],
      "metadata": {
        "id": "84IV1jSBCdBq"
      }
    },
    {
      "cell_type": "code",
      "source": [
        "my_dog.sit()"
      ],
      "metadata": {
        "id": "HRmH5bQpCV1L",
        "colab": {
          "base_uri": "https://localhost:8080/"
        },
        "outputId": "5a30cbcf-386d-46ca-dde8-6207eb1dbd20"
      },
      "execution_count": 4,
      "outputs": [
        {
          "output_type": "stream",
          "name": "stdout",
          "text": [
            "Will is now sitting.\n"
          ]
        }
      ]
    },
    {
      "cell_type": "code",
      "source": [
        "my_dog.roll_over()"
      ],
      "metadata": {
        "id": "rxRtsvxwChBg",
        "colab": {
          "base_uri": "https://localhost:8080/"
        },
        "outputId": "2795f0e5-3666-42f5-cd60-7777a55ad2f4"
      },
      "execution_count": 5,
      "outputs": [
        {
          "output_type": "stream",
          "name": "stdout",
          "text": [
            "Will rolled over.\n"
          ]
        }
      ]
    },
    {
      "cell_type": "markdown",
      "source": [
        "## Creating multiple instances"
      ],
      "metadata": {
        "id": "7vBIOB44Cltq"
      }
    },
    {
      "cell_type": "code",
      "source": [
        "my_dog = Dog('Will', 6)\n",
        "your_dog = Dog('Black', 3)\n",
        "\n",
        "print(f\"My dog's name is {my_dog.name}.\")\n",
        "print(f\"My dog is {my_dog.age} years old.\")\n",
        "\n",
        "print(f\"My dog's name is {your_dog.name}.\")\n",
        "print(f\"My dog is {your_dog.age} years old.\")\n",
        "your_dog.sit()"
      ],
      "metadata": {
        "id": "pX9haut-Cifr",
        "colab": {
          "base_uri": "https://localhost:8080/"
        },
        "outputId": "e9e80dbf-08b1-40ea-a8ae-d6da7dfa1251"
      },
      "execution_count": 6,
      "outputs": [
        {
          "output_type": "stream",
          "name": "stdout",
          "text": [
            "My dog's name is Will.\n",
            "My dog is 6 years old.\n",
            "My dog's name is Black.\n",
            "My dog is 3 years old.\n",
            "Black is now sitting.\n"
          ]
        }
      ]
    },
    {
      "cell_type": "markdown",
      "source": [
        "## Car class"
      ],
      "metadata": {
        "id": "PskULtbbDFgu"
      }
    },
    {
      "cell_type": "code",
      "source": [
        "class Car:\n",
        "    \"\"\"A simple attempt to represent a car.\"\"\"\n",
        "\n",
        "    def __init__(self, make, model, year):\n",
        "        \"\"\"Initialize attributes to describe a car.\"\"\"\n",
        "        self.make = make\n",
        "        self.model = model\n",
        "        self.year = year\n",
        "\n",
        "    def get_description_name(self):\n",
        "        \"\"\"Return a neatly formatted descriptive name.\"\"\"\n",
        "        long_name = f\"{self.year} {self.make} {self.model}\"\n",
        "        return long_name.title()"
      ],
      "metadata": {
        "id": "xUEqp5naC2QF"
      },
      "execution_count": 7,
      "outputs": []
    },
    {
      "cell_type": "code",
      "source": [
        "my_old_car = Car('Honda','Accord', 2018)\n",
        "print(my_old_car.get_description_name())"
      ],
      "metadata": {
        "id": "cLeiH8-lDuPO",
        "colab": {
          "base_uri": "https://localhost:8080/"
        },
        "outputId": "d20c6ca7-f692-4f03-eb88-dbf239a4e056"
      },
      "execution_count": 8,
      "outputs": [
        {
          "output_type": "stream",
          "name": "stdout",
          "text": [
            "2018 Honda Accord\n"
          ]
        }
      ]
    },
    {
      "cell_type": "markdown",
      "source": [
        "## Default value for an attribute"
      ],
      "metadata": {
        "id": "tEIlRx1nD8VN"
      }
    },
    {
      "cell_type": "code",
      "source": [
        "class Car:\n",
        "    \"\"\"A simple attempt to represent a car.\"\"\"\n",
        "\n",
        "    def __init__(self, make, model, year):\n",
        "        \"\"\"Initialize attributes to describe a car.\"\"\"\n",
        "        self.make = make\n",
        "        self.model = model\n",
        "        self.year = year\n",
        "        self.odometer_reading = 0\n",
        "\n",
        "    def get_description_name(self):\n",
        "        \"\"\"Return a neatly formatted descriptive name.\"\"\"\n",
        "        long_name = f\"{self.year} {self.make} {self.model}\"\n",
        "        return long_name.title()\n",
        "\n",
        "    def read_odometer(self):\n",
        "        \"\"\"Print a statement showing the car's mileage.\"\"\"\n",
        "        print(f\"This car has {self.odometer_reading} miles on it.\")"
      ],
      "metadata": {
        "id": "RXqLM658D2Qe"
      },
      "execution_count": 9,
      "outputs": []
    },
    {
      "cell_type": "code",
      "source": [
        "my_old_car = Car('Honda','Accord', 2018)\n",
        "print(my_old_car.get_description_name())\n",
        "my_old_car.read_odometer()"
      ],
      "metadata": {
        "id": "EUqKvtfnEDtI",
        "colab": {
          "base_uri": "https://localhost:8080/"
        },
        "outputId": "b30179fc-5fbb-4e90-8840-427c697c54ad"
      },
      "execution_count": 10,
      "outputs": [
        {
          "output_type": "stream",
          "name": "stdout",
          "text": [
            "2018 Honda Accord\n",
            "This car has 0 miles on it.\n"
          ]
        }
      ]
    },
    {
      "cell_type": "code",
      "source": [
        "my_old_car.odometer_reading = 97\n",
        "my_old_car.read_odometer()"
      ],
      "metadata": {
        "id": "F0lS24lXETiP",
        "colab": {
          "base_uri": "https://localhost:8080/"
        },
        "outputId": "32dfe98a-5bc5-46ce-87c8-b2594bf44730"
      },
      "execution_count": 11,
      "outputs": [
        {
          "output_type": "stream",
          "name": "stdout",
          "text": [
            "This car has 97 miles on it.\n"
          ]
        }
      ]
    },
    {
      "cell_type": "markdown",
      "source": [
        "## Modifying attribute values through a method"
      ],
      "metadata": {
        "id": "XdTB9J7TEuNT"
      }
    },
    {
      "cell_type": "code",
      "source": [
        "class Car:\n",
        "    \"\"\"A simple attempt to represent a car.\"\"\"\n",
        "\n",
        "    def __init__(self, make, model, year):\n",
        "        \"\"\"Initialize attributes to describe a car.\"\"\"\n",
        "        self.make = make\n",
        "        self.model = model\n",
        "        self.year = year\n",
        "        self.odometer_reading = 0\n",
        "\n",
        "    def get_description_name(self):\n",
        "        \"\"\"Return a neatly formatted descriptive name.\"\"\"\n",
        "        long_name = f\"{self.year} {self.make} {self.model}\"\n",
        "        return long_name.title()\n",
        "\n",
        "    def read_odometer(self):\n",
        "        \"\"\"Print a statement showing the car's mileage.\"\"\"\n",
        "        print(f\"This car has {self.odometer_reading} miles on it.\")\n",
        "\n",
        "    def update_odometer(self, mileage):\n",
        "        \"\"\"Set the odometer reading to the given value.\"\"\"\n",
        "        self.odometer_reading = mileage"
      ],
      "metadata": {
        "id": "grdoEfJWEpCL"
      },
      "execution_count": 12,
      "outputs": []
    },
    {
      "cell_type": "code",
      "source": [
        "my_old_car = Car('Honda','Accord', 2018)\n",
        "print(my_old_car.get_description_name())\n",
        "my_old_car.update_odometer(80)\n",
        "my_old_car.read_odometer()"
      ],
      "metadata": {
        "id": "AeDV07CRE3nW",
        "colab": {
          "base_uri": "https://localhost:8080/"
        },
        "outputId": "8812dfea-42df-4522-bc25-5affc5929f3e"
      },
      "execution_count": 13,
      "outputs": [
        {
          "output_type": "stream",
          "name": "stdout",
          "text": [
            "2018 Honda Accord\n",
            "This car has 80 miles on it.\n"
          ]
        }
      ]
    },
    {
      "cell_type": "code",
      "source": [
        "class Car:\n",
        "    \"\"\"A simple attempt to represent a car.\"\"\"\n",
        "\n",
        "    def __init__(self, make, model, year):\n",
        "        \"\"\"Initialize attributes to describe a car.\"\"\"\n",
        "        self.make = make\n",
        "        self.model = model\n",
        "        self.year = year\n",
        "        self.odometer_reading = 0\n",
        "\n",
        "    def get_description_name(self):\n",
        "        \"\"\"Return a neatly formatted descriptive name.\"\"\"\n",
        "        long_name = f\"{self.year} {self.make} {self.model}\"\n",
        "        return long_name.title()\n",
        "\n",
        "    def read_odometer(self):\n",
        "        \"\"\"Print a statement showing the car's mileage.\"\"\"\n",
        "        print(f\"This car has {self.odometer_reading} miles on it.\")\n",
        "\n",
        "    def update_odometer(self, mileage):\n",
        "        \"\"\"Set the odometer reading to the given value.\"\"\"\n",
        "        self.odometer_reading = mileage\n",
        "\n",
        "    def increment_odometer(self, miles):\n",
        "        self.odometer_reading += miles"
      ],
      "metadata": {
        "id": "OLk2o_2nE-zM"
      },
      "execution_count": 14,
      "outputs": []
    },
    {
      "cell_type": "code",
      "source": [
        "my_old_car = Car('Honda','Accord', 2018)\n",
        "print(my_old_car.get_description_name())\n",
        "my_old_car.update_odometer(1500)\n",
        "my_old_car.read_odometer()\n",
        "my_old_car.increment_odometer(100)\n",
        "my_old_car.read_odometer()"
      ],
      "metadata": {
        "id": "De7w7ywxFHWx",
        "colab": {
          "base_uri": "https://localhost:8080/"
        },
        "outputId": "1c9460b8-134a-4d5b-916a-2ffabe2dbfab"
      },
      "execution_count": 15,
      "outputs": [
        {
          "output_type": "stream",
          "name": "stdout",
          "text": [
            "2018 Honda Accord\n",
            "This car has 1500 miles on it.\n",
            "This car has 1600 miles on it.\n"
          ]
        }
      ]
    },
    {
      "cell_type": "markdown",
      "source": [
        "## Default printing method"
      ],
      "metadata": {
        "id": "JzxQPfcxF16Q"
      }
    },
    {
      "cell_type": "code",
      "source": [
        "print(my_old_car)"
      ],
      "metadata": {
        "id": "Wp19B3ezGKSj",
        "colab": {
          "base_uri": "https://localhost:8080/"
        },
        "outputId": "a50532a1-a5a3-4376-81ea-3f8b7332e8ea"
      },
      "execution_count": 16,
      "outputs": [
        {
          "output_type": "stream",
          "name": "stdout",
          "text": [
            "<__main__.Car object at 0x7d42307fe8c0>\n"
          ]
        }
      ]
    },
    {
      "cell_type": "code",
      "source": [
        "class Car:\n",
        "    \"\"\"A simple attempt to represent a car.\"\"\"\n",
        "\n",
        "    def __init__(self, make, model, year):\n",
        "        \"\"\"Initialize attributes to describe a car.\"\"\"\n",
        "        self.make = make\n",
        "        self.model = model\n",
        "        self.year = year\n",
        "        self.odometer_reading = 0\n",
        "\n",
        "    def get_description_name(self):\n",
        "        \"\"\"Return a neatly formatted descriptive name.\"\"\"\n",
        "        long_name = f\"{self.year} {self.make} {self.model}\"\n",
        "        return long_name.title()\n",
        "\n",
        "    def __str__(self):\n",
        "        return self.get_description_name()\n",
        "\n",
        "    def read_odometer(self):\n",
        "        \"\"\"Print a statement showing the car's mileage.\"\"\"\n",
        "        print(f\"This car has {self.odometer_reading} miles on it.\")\n",
        "\n",
        "    def update_odometer(self, mileage):\n",
        "        \"\"\"Set the odometer reading to the given value.\"\"\"\n",
        "        self.odometer_reading = mileage\n",
        "\n",
        "    def increment_odometer(self, miles):\n",
        "        self.odometer_reading += miles"
      ],
      "metadata": {
        "id": "aC_kQDGOFzxI"
      },
      "execution_count": 17,
      "outputs": []
    },
    {
      "cell_type": "code",
      "source": [
        "my_old_car = Car('Honda', 'Accord', 2018)\n",
        "print(my_old_car)"
      ],
      "metadata": {
        "id": "LHbg2vlXF_W8",
        "colab": {
          "base_uri": "https://localhost:8080/"
        },
        "outputId": "62164bcf-af3d-485d-a940-70c841185edd"
      },
      "execution_count": 18,
      "outputs": [
        {
          "output_type": "stream",
          "name": "stdout",
          "text": [
            "2018 Honda Accord\n"
          ]
        }
      ]
    },
    {
      "cell_type": "markdown",
      "source": [
        "## Default object display method"
      ],
      "metadata": {
        "id": "3gY15ECsGZD7"
      }
    },
    {
      "cell_type": "code",
      "source": [
        "my_old_car"
      ],
      "metadata": {
        "id": "4DlxTZW0GagB",
        "colab": {
          "base_uri": "https://localhost:8080/"
        },
        "outputId": "ca57753a-6552-41fc-92fc-444c47bff1e3"
      },
      "execution_count": 19,
      "outputs": [
        {
          "output_type": "execute_result",
          "data": {
            "text/plain": [
              "<__main__.Car at 0x7d42307ffdc0>"
            ]
          },
          "metadata": {},
          "execution_count": 19
        }
      ]
    },
    {
      "cell_type": "code",
      "source": [
        "class Car:\n",
        "    \"\"\"A simple attempt to represent a car.\"\"\"\n",
        "\n",
        "    def __init__(self, make, model, year):\n",
        "        \"\"\"Initialize attributes to describe a car.\"\"\"\n",
        "        self.make = make\n",
        "        self.model = model\n",
        "        self.year = year\n",
        "        self.odometer_reading = 0\n",
        "\n",
        "    def get_description_name(self):\n",
        "        \"\"\"Return a neatly formatted descriptive name.\"\"\"\n",
        "        long_name = f\"{self.year} {self.make} {self.model}\"\n",
        "        return long_name.title()\n",
        "\n",
        "    def __str__(self):\n",
        "        return self.get_description_name()\n",
        "\n",
        "    def __repr__(self):\n",
        "        return \"Car Instance: \" +  self.get_description_name()\n",
        "\n",
        "    def read_odometer(self):\n",
        "        \"\"\"Print a statement showing the car's mileage.\"\"\"\n",
        "        print(f\"This car has {self.odometer_reading} miles on it.\")\n",
        "\n",
        "    def update_odometer(self, mileage):\n",
        "        \"\"\"Set the odometer reading to the given value.\"\"\"\n",
        "        self.odometer_reading = mileage\n",
        "\n",
        "    def increment_odometer(self, miles):\n",
        "        self.odometer_reading += miles"
      ],
      "metadata": {
        "id": "MCu1n6bhGE0H"
      },
      "execution_count": 20,
      "outputs": []
    },
    {
      "cell_type": "code",
      "source": [
        "Car('Honda', 'Accord', 2018)"
      ],
      "metadata": {
        "id": "oQnjphL8GicT",
        "colab": {
          "base_uri": "https://localhost:8080/"
        },
        "outputId": "32957c7e-e1df-4bfe-81e4-09858cae0ecb"
      },
      "execution_count": 21,
      "outputs": [
        {
          "output_type": "execute_result",
          "data": {
            "text/plain": [
              "Car Instance: 2018 Honda Accord"
            ]
          },
          "metadata": {},
          "execution_count": 21
        }
      ]
    },
    {
      "cell_type": "code",
      "source": [
        "import pandas as pd\n",
        "df = pd.read_csv('/content/sample_data/california_housing_test.csv')"
      ],
      "metadata": {
        "id": "fFMbsRiJHZ28"
      },
      "execution_count": 22,
      "outputs": []
    },
    {
      "cell_type": "code",
      "source": [
        "print(df)"
      ],
      "metadata": {
        "id": "qSGQ1GC_Hkwb",
        "colab": {
          "base_uri": "https://localhost:8080/"
        },
        "outputId": "1d464d81-1fec-4ebe-8a50-4cad99b1c4d5"
      },
      "execution_count": 23,
      "outputs": [
        {
          "output_type": "stream",
          "name": "stdout",
          "text": [
            "      longitude  latitude  housing_median_age  total_rooms  total_bedrooms  \\\n",
            "0       -122.05     37.37                27.0       3885.0           661.0   \n",
            "1       -118.30     34.26                43.0       1510.0           310.0   \n",
            "2       -117.81     33.78                27.0       3589.0           507.0   \n",
            "3       -118.36     33.82                28.0         67.0            15.0   \n",
            "4       -119.67     36.33                19.0       1241.0           244.0   \n",
            "...         ...       ...                 ...          ...             ...   \n",
            "2995    -119.86     34.42                23.0       1450.0           642.0   \n",
            "2996    -118.14     34.06                27.0       5257.0          1082.0   \n",
            "2997    -119.70     36.30                10.0        956.0           201.0   \n",
            "2998    -117.12     34.10                40.0         96.0            14.0   \n",
            "2999    -119.63     34.42                42.0       1765.0           263.0   \n",
            "\n",
            "      population  households  median_income  median_house_value  \n",
            "0         1537.0       606.0         6.6085            344700.0  \n",
            "1          809.0       277.0         3.5990            176500.0  \n",
            "2         1484.0       495.0         5.7934            270500.0  \n",
            "3           49.0        11.0         6.1359            330000.0  \n",
            "4          850.0       237.0         2.9375             81700.0  \n",
            "...          ...         ...            ...                 ...  \n",
            "2995      1258.0       607.0         1.1790            225000.0  \n",
            "2996      3496.0      1036.0         3.3906            237200.0  \n",
            "2997       693.0       220.0         2.2895             62000.0  \n",
            "2998        46.0        14.0         3.2708            162500.0  \n",
            "2999       753.0       260.0         8.5608            500001.0  \n",
            "\n",
            "[3000 rows x 9 columns]\n"
          ]
        }
      ]
    },
    {
      "cell_type": "code",
      "source": [
        "df"
      ],
      "metadata": {
        "id": "DFFhdRjNHqEk",
        "colab": {
          "base_uri": "https://localhost:8080/",
          "height": 424
        },
        "outputId": "40dd2e57-77d8-47de-fb46-09b7ff46924e"
      },
      "execution_count": 24,
      "outputs": [
        {
          "output_type": "execute_result",
          "data": {
            "text/plain": [
              "      longitude  latitude  housing_median_age  total_rooms  total_bedrooms  \\\n",
              "0       -122.05     37.37                27.0       3885.0           661.0   \n",
              "1       -118.30     34.26                43.0       1510.0           310.0   \n",
              "2       -117.81     33.78                27.0       3589.0           507.0   \n",
              "3       -118.36     33.82                28.0         67.0            15.0   \n",
              "4       -119.67     36.33                19.0       1241.0           244.0   \n",
              "...         ...       ...                 ...          ...             ...   \n",
              "2995    -119.86     34.42                23.0       1450.0           642.0   \n",
              "2996    -118.14     34.06                27.0       5257.0          1082.0   \n",
              "2997    -119.70     36.30                10.0        956.0           201.0   \n",
              "2998    -117.12     34.10                40.0         96.0            14.0   \n",
              "2999    -119.63     34.42                42.0       1765.0           263.0   \n",
              "\n",
              "      population  households  median_income  median_house_value  \n",
              "0         1537.0       606.0         6.6085            344700.0  \n",
              "1          809.0       277.0         3.5990            176500.0  \n",
              "2         1484.0       495.0         5.7934            270500.0  \n",
              "3           49.0        11.0         6.1359            330000.0  \n",
              "4          850.0       237.0         2.9375             81700.0  \n",
              "...          ...         ...            ...                 ...  \n",
              "2995      1258.0       607.0         1.1790            225000.0  \n",
              "2996      3496.0      1036.0         3.3906            237200.0  \n",
              "2997       693.0       220.0         2.2895             62000.0  \n",
              "2998        46.0        14.0         3.2708            162500.0  \n",
              "2999       753.0       260.0         8.5608            500001.0  \n",
              "\n",
              "[3000 rows x 9 columns]"
            ],
            "text/html": [
              "\n",
              "  <div id=\"df-a3fdede9-eb23-4894-ace4-7eca2df8c0d5\" class=\"colab-df-container\">\n",
              "    <div>\n",
              "<style scoped>\n",
              "    .dataframe tbody tr th:only-of-type {\n",
              "        vertical-align: middle;\n",
              "    }\n",
              "\n",
              "    .dataframe tbody tr th {\n",
              "        vertical-align: top;\n",
              "    }\n",
              "\n",
              "    .dataframe thead th {\n",
              "        text-align: right;\n",
              "    }\n",
              "</style>\n",
              "<table border=\"1\" class=\"dataframe\">\n",
              "  <thead>\n",
              "    <tr style=\"text-align: right;\">\n",
              "      <th></th>\n",
              "      <th>longitude</th>\n",
              "      <th>latitude</th>\n",
              "      <th>housing_median_age</th>\n",
              "      <th>total_rooms</th>\n",
              "      <th>total_bedrooms</th>\n",
              "      <th>population</th>\n",
              "      <th>households</th>\n",
              "      <th>median_income</th>\n",
              "      <th>median_house_value</th>\n",
              "    </tr>\n",
              "  </thead>\n",
              "  <tbody>\n",
              "    <tr>\n",
              "      <th>0</th>\n",
              "      <td>-122.05</td>\n",
              "      <td>37.37</td>\n",
              "      <td>27.0</td>\n",
              "      <td>3885.0</td>\n",
              "      <td>661.0</td>\n",
              "      <td>1537.0</td>\n",
              "      <td>606.0</td>\n",
              "      <td>6.6085</td>\n",
              "      <td>344700.0</td>\n",
              "    </tr>\n",
              "    <tr>\n",
              "      <th>1</th>\n",
              "      <td>-118.30</td>\n",
              "      <td>34.26</td>\n",
              "      <td>43.0</td>\n",
              "      <td>1510.0</td>\n",
              "      <td>310.0</td>\n",
              "      <td>809.0</td>\n",
              "      <td>277.0</td>\n",
              "      <td>3.5990</td>\n",
              "      <td>176500.0</td>\n",
              "    </tr>\n",
              "    <tr>\n",
              "      <th>2</th>\n",
              "      <td>-117.81</td>\n",
              "      <td>33.78</td>\n",
              "      <td>27.0</td>\n",
              "      <td>3589.0</td>\n",
              "      <td>507.0</td>\n",
              "      <td>1484.0</td>\n",
              "      <td>495.0</td>\n",
              "      <td>5.7934</td>\n",
              "      <td>270500.0</td>\n",
              "    </tr>\n",
              "    <tr>\n",
              "      <th>3</th>\n",
              "      <td>-118.36</td>\n",
              "      <td>33.82</td>\n",
              "      <td>28.0</td>\n",
              "      <td>67.0</td>\n",
              "      <td>15.0</td>\n",
              "      <td>49.0</td>\n",
              "      <td>11.0</td>\n",
              "      <td>6.1359</td>\n",
              "      <td>330000.0</td>\n",
              "    </tr>\n",
              "    <tr>\n",
              "      <th>4</th>\n",
              "      <td>-119.67</td>\n",
              "      <td>36.33</td>\n",
              "      <td>19.0</td>\n",
              "      <td>1241.0</td>\n",
              "      <td>244.0</td>\n",
              "      <td>850.0</td>\n",
              "      <td>237.0</td>\n",
              "      <td>2.9375</td>\n",
              "      <td>81700.0</td>\n",
              "    </tr>\n",
              "    <tr>\n",
              "      <th>...</th>\n",
              "      <td>...</td>\n",
              "      <td>...</td>\n",
              "      <td>...</td>\n",
              "      <td>...</td>\n",
              "      <td>...</td>\n",
              "      <td>...</td>\n",
              "      <td>...</td>\n",
              "      <td>...</td>\n",
              "      <td>...</td>\n",
              "    </tr>\n",
              "    <tr>\n",
              "      <th>2995</th>\n",
              "      <td>-119.86</td>\n",
              "      <td>34.42</td>\n",
              "      <td>23.0</td>\n",
              "      <td>1450.0</td>\n",
              "      <td>642.0</td>\n",
              "      <td>1258.0</td>\n",
              "      <td>607.0</td>\n",
              "      <td>1.1790</td>\n",
              "      <td>225000.0</td>\n",
              "    </tr>\n",
              "    <tr>\n",
              "      <th>2996</th>\n",
              "      <td>-118.14</td>\n",
              "      <td>34.06</td>\n",
              "      <td>27.0</td>\n",
              "      <td>5257.0</td>\n",
              "      <td>1082.0</td>\n",
              "      <td>3496.0</td>\n",
              "      <td>1036.0</td>\n",
              "      <td>3.3906</td>\n",
              "      <td>237200.0</td>\n",
              "    </tr>\n",
              "    <tr>\n",
              "      <th>2997</th>\n",
              "      <td>-119.70</td>\n",
              "      <td>36.30</td>\n",
              "      <td>10.0</td>\n",
              "      <td>956.0</td>\n",
              "      <td>201.0</td>\n",
              "      <td>693.0</td>\n",
              "      <td>220.0</td>\n",
              "      <td>2.2895</td>\n",
              "      <td>62000.0</td>\n",
              "    </tr>\n",
              "    <tr>\n",
              "      <th>2998</th>\n",
              "      <td>-117.12</td>\n",
              "      <td>34.10</td>\n",
              "      <td>40.0</td>\n",
              "      <td>96.0</td>\n",
              "      <td>14.0</td>\n",
              "      <td>46.0</td>\n",
              "      <td>14.0</td>\n",
              "      <td>3.2708</td>\n",
              "      <td>162500.0</td>\n",
              "    </tr>\n",
              "    <tr>\n",
              "      <th>2999</th>\n",
              "      <td>-119.63</td>\n",
              "      <td>34.42</td>\n",
              "      <td>42.0</td>\n",
              "      <td>1765.0</td>\n",
              "      <td>263.0</td>\n",
              "      <td>753.0</td>\n",
              "      <td>260.0</td>\n",
              "      <td>8.5608</td>\n",
              "      <td>500001.0</td>\n",
              "    </tr>\n",
              "  </tbody>\n",
              "</table>\n",
              "<p>3000 rows × 9 columns</p>\n",
              "</div>\n",
              "    <div class=\"colab-df-buttons\">\n",
              "\n",
              "  <div class=\"colab-df-container\">\n",
              "    <button class=\"colab-df-convert\" onclick=\"convertToInteractive('df-a3fdede9-eb23-4894-ace4-7eca2df8c0d5')\"\n",
              "            title=\"Convert this dataframe to an interactive table.\"\n",
              "            style=\"display:none;\">\n",
              "\n",
              "  <svg xmlns=\"http://www.w3.org/2000/svg\" height=\"24px\" viewBox=\"0 -960 960 960\">\n",
              "    <path d=\"M120-120v-720h720v720H120Zm60-500h600v-160H180v160Zm220 220h160v-160H400v160Zm0 220h160v-160H400v160ZM180-400h160v-160H180v160Zm440 0h160v-160H620v160ZM180-180h160v-160H180v160Zm440 0h160v-160H620v160Z\"/>\n",
              "  </svg>\n",
              "    </button>\n",
              "\n",
              "  <style>\n",
              "    .colab-df-container {\n",
              "      display:flex;\n",
              "      gap: 12px;\n",
              "    }\n",
              "\n",
              "    .colab-df-convert {\n",
              "      background-color: #E8F0FE;\n",
              "      border: none;\n",
              "      border-radius: 50%;\n",
              "      cursor: pointer;\n",
              "      display: none;\n",
              "      fill: #1967D2;\n",
              "      height: 32px;\n",
              "      padding: 0 0 0 0;\n",
              "      width: 32px;\n",
              "    }\n",
              "\n",
              "    .colab-df-convert:hover {\n",
              "      background-color: #E2EBFA;\n",
              "      box-shadow: 0px 1px 2px rgba(60, 64, 67, 0.3), 0px 1px 3px 1px rgba(60, 64, 67, 0.15);\n",
              "      fill: #174EA6;\n",
              "    }\n",
              "\n",
              "    .colab-df-buttons div {\n",
              "      margin-bottom: 4px;\n",
              "    }\n",
              "\n",
              "    [theme=dark] .colab-df-convert {\n",
              "      background-color: #3B4455;\n",
              "      fill: #D2E3FC;\n",
              "    }\n",
              "\n",
              "    [theme=dark] .colab-df-convert:hover {\n",
              "      background-color: #434B5C;\n",
              "      box-shadow: 0px 1px 3px 1px rgba(0, 0, 0, 0.15);\n",
              "      filter: drop-shadow(0px 1px 2px rgba(0, 0, 0, 0.3));\n",
              "      fill: #FFFFFF;\n",
              "    }\n",
              "  </style>\n",
              "\n",
              "    <script>\n",
              "      const buttonEl =\n",
              "        document.querySelector('#df-a3fdede9-eb23-4894-ace4-7eca2df8c0d5 button.colab-df-convert');\n",
              "      buttonEl.style.display =\n",
              "        google.colab.kernel.accessAllowed ? 'block' : 'none';\n",
              "\n",
              "      async function convertToInteractive(key) {\n",
              "        const element = document.querySelector('#df-a3fdede9-eb23-4894-ace4-7eca2df8c0d5');\n",
              "        const dataTable =\n",
              "          await google.colab.kernel.invokeFunction('convertToInteractive',\n",
              "                                                    [key], {});\n",
              "        if (!dataTable) return;\n",
              "\n",
              "        const docLinkHtml = 'Like what you see? Visit the ' +\n",
              "          '<a target=\"_blank\" href=https://colab.research.google.com/notebooks/data_table.ipynb>data table notebook</a>'\n",
              "          + ' to learn more about interactive tables.';\n",
              "        element.innerHTML = '';\n",
              "        dataTable['output_type'] = 'display_data';\n",
              "        await google.colab.output.renderOutput(dataTable, element);\n",
              "        const docLink = document.createElement('div');\n",
              "        docLink.innerHTML = docLinkHtml;\n",
              "        element.appendChild(docLink);\n",
              "      }\n",
              "    </script>\n",
              "  </div>\n",
              "\n",
              "\n",
              "<div id=\"df-1fa04e50-c670-4b09-92bb-62bb63773014\">\n",
              "  <button class=\"colab-df-quickchart\" onclick=\"quickchart('df-1fa04e50-c670-4b09-92bb-62bb63773014')\"\n",
              "            title=\"Suggest charts\"\n",
              "            style=\"display:none;\">\n",
              "\n",
              "<svg xmlns=\"http://www.w3.org/2000/svg\" height=\"24px\"viewBox=\"0 0 24 24\"\n",
              "     width=\"24px\">\n",
              "    <g>\n",
              "        <path d=\"M19 3H5c-1.1 0-2 .9-2 2v14c0 1.1.9 2 2 2h14c1.1 0 2-.9 2-2V5c0-1.1-.9-2-2-2zM9 17H7v-7h2v7zm4 0h-2V7h2v10zm4 0h-2v-4h2v4z\"/>\n",
              "    </g>\n",
              "</svg>\n",
              "  </button>\n",
              "\n",
              "<style>\n",
              "  .colab-df-quickchart {\n",
              "      --bg-color: #E8F0FE;\n",
              "      --fill-color: #1967D2;\n",
              "      --hover-bg-color: #E2EBFA;\n",
              "      --hover-fill-color: #174EA6;\n",
              "      --disabled-fill-color: #AAA;\n",
              "      --disabled-bg-color: #DDD;\n",
              "  }\n",
              "\n",
              "  [theme=dark] .colab-df-quickchart {\n",
              "      --bg-color: #3B4455;\n",
              "      --fill-color: #D2E3FC;\n",
              "      --hover-bg-color: #434B5C;\n",
              "      --hover-fill-color: #FFFFFF;\n",
              "      --disabled-bg-color: #3B4455;\n",
              "      --disabled-fill-color: #666;\n",
              "  }\n",
              "\n",
              "  .colab-df-quickchart {\n",
              "    background-color: var(--bg-color);\n",
              "    border: none;\n",
              "    border-radius: 50%;\n",
              "    cursor: pointer;\n",
              "    display: none;\n",
              "    fill: var(--fill-color);\n",
              "    height: 32px;\n",
              "    padding: 0;\n",
              "    width: 32px;\n",
              "  }\n",
              "\n",
              "  .colab-df-quickchart:hover {\n",
              "    background-color: var(--hover-bg-color);\n",
              "    box-shadow: 0 1px 2px rgba(60, 64, 67, 0.3), 0 1px 3px 1px rgba(60, 64, 67, 0.15);\n",
              "    fill: var(--button-hover-fill-color);\n",
              "  }\n",
              "\n",
              "  .colab-df-quickchart-complete:disabled,\n",
              "  .colab-df-quickchart-complete:disabled:hover {\n",
              "    background-color: var(--disabled-bg-color);\n",
              "    fill: var(--disabled-fill-color);\n",
              "    box-shadow: none;\n",
              "  }\n",
              "\n",
              "  .colab-df-spinner {\n",
              "    border: 2px solid var(--fill-color);\n",
              "    border-color: transparent;\n",
              "    border-bottom-color: var(--fill-color);\n",
              "    animation:\n",
              "      spin 1s steps(1) infinite;\n",
              "  }\n",
              "\n",
              "  @keyframes spin {\n",
              "    0% {\n",
              "      border-color: transparent;\n",
              "      border-bottom-color: var(--fill-color);\n",
              "      border-left-color: var(--fill-color);\n",
              "    }\n",
              "    20% {\n",
              "      border-color: transparent;\n",
              "      border-left-color: var(--fill-color);\n",
              "      border-top-color: var(--fill-color);\n",
              "    }\n",
              "    30% {\n",
              "      border-color: transparent;\n",
              "      border-left-color: var(--fill-color);\n",
              "      border-top-color: var(--fill-color);\n",
              "      border-right-color: var(--fill-color);\n",
              "    }\n",
              "    40% {\n",
              "      border-color: transparent;\n",
              "      border-right-color: var(--fill-color);\n",
              "      border-top-color: var(--fill-color);\n",
              "    }\n",
              "    60% {\n",
              "      border-color: transparent;\n",
              "      border-right-color: var(--fill-color);\n",
              "    }\n",
              "    80% {\n",
              "      border-color: transparent;\n",
              "      border-right-color: var(--fill-color);\n",
              "      border-bottom-color: var(--fill-color);\n",
              "    }\n",
              "    90% {\n",
              "      border-color: transparent;\n",
              "      border-bottom-color: var(--fill-color);\n",
              "    }\n",
              "  }\n",
              "</style>\n",
              "\n",
              "  <script>\n",
              "    async function quickchart(key) {\n",
              "      const quickchartButtonEl =\n",
              "        document.querySelector('#' + key + ' button');\n",
              "      quickchartButtonEl.disabled = true;  // To prevent multiple clicks.\n",
              "      quickchartButtonEl.classList.add('colab-df-spinner');\n",
              "      try {\n",
              "        const charts = await google.colab.kernel.invokeFunction(\n",
              "            'suggestCharts', [key], {});\n",
              "      } catch (error) {\n",
              "        console.error('Error during call to suggestCharts:', error);\n",
              "      }\n",
              "      quickchartButtonEl.classList.remove('colab-df-spinner');\n",
              "      quickchartButtonEl.classList.add('colab-df-quickchart-complete');\n",
              "    }\n",
              "    (() => {\n",
              "      let quickchartButtonEl =\n",
              "        document.querySelector('#df-1fa04e50-c670-4b09-92bb-62bb63773014 button');\n",
              "      quickchartButtonEl.style.display =\n",
              "        google.colab.kernel.accessAllowed ? 'block' : 'none';\n",
              "    })();\n",
              "  </script>\n",
              "</div>\n",
              "    </div>\n",
              "  </div>\n"
            ]
          },
          "metadata": {},
          "execution_count": 24
        }
      ]
    },
    {
      "cell_type": "markdown",
      "source": [
        "## Inheritance"
      ],
      "metadata": {
        "id": "7KlDAjdaGr6t"
      }
    },
    {
      "cell_type": "code",
      "source": [
        "class ElectricCar(Car):\n",
        "    \"\"\"Represent aspect of a car, specific to electric vehicles.\"\"\"\n",
        "\n",
        "    def __init__(self, make, model, year):\n",
        "        \"\"\"Initialize attributes of the parent class.\"\"\"\n",
        "        \"\"\"Then initialize attributes specific to an electric car.\"\"\"\n",
        "        super().__init__(make, model, year)\n",
        "        self.battery_size = 75\n",
        "\n",
        "    def describe_battery(self):\n",
        "        \"\"\"Print a statement describing the battery size.\"\"\"\n",
        "        print(f\"This car has a {self.battery_size}-kWh battery.\")"
      ],
      "metadata": {
        "id": "TsfdG0BNGlOK"
      },
      "execution_count": 25,
      "outputs": []
    },
    {
      "cell_type": "code",
      "source": [
        "my_tesla = ElectricCar('tesla','model s', 2020)\n",
        "print(my_tesla)\n",
        "my_tesla.describe_battery()"
      ],
      "metadata": {
        "id": "L9aRM4iDHO8h",
        "colab": {
          "base_uri": "https://localhost:8080/"
        },
        "outputId": "50d74437-a2a5-49a0-e959-776ff71f14f2"
      },
      "execution_count": 26,
      "outputs": [
        {
          "output_type": "stream",
          "name": "stdout",
          "text": [
            "2020 Tesla Model S\n",
            "This car has a 75-kWh battery.\n"
          ]
        }
      ]
    },
    {
      "cell_type": "markdown",
      "source": [
        "## Override parent class method"
      ],
      "metadata": {
        "id": "xMcHkxwCHe2J"
      }
    },
    {
      "cell_type": "code",
      "source": [
        "class ElectricCar(Car):\n",
        "    \"\"\"Represent aspect of a car, specific to electric vehicles.\"\"\"\n",
        "\n",
        "    def __init__(self, make, model, year):\n",
        "        \"\"\"Initialize attributes of the parent class.\"\"\"\n",
        "        \"\"\"Then initialize attributes specific to an electric car.\"\"\"\n",
        "        super().__init__(make, model, year)\n",
        "        self.battery_size = 75\n",
        "\n",
        "    def describe_battery(self):\n",
        "        \"\"\"Print a statement describing the battery size.\"\"\"\n",
        "        print(f\"This car has a {self.battery_size}-kWh battery.\")\n",
        "\n",
        "    def read_odometer(self):\n",
        "        \"\"\"Override the parent read_odometer method\"\"\"\n",
        "        print(f\"Overrided: This car has {self.odometer_reading} miles on it.\")"
      ],
      "metadata": {
        "id": "5dBUFGI0HbhA"
      },
      "execution_count": 27,
      "outputs": []
    },
    {
      "cell_type": "code",
      "source": [
        "my_tesla = ElectricCar('tesla','model s', 2020)\n",
        "print(my_tesla)\n",
        "my_tesla.read_odometer()"
      ],
      "metadata": {
        "id": "hJ9Qpu1cHxHE",
        "colab": {
          "base_uri": "https://localhost:8080/"
        },
        "outputId": "98d4b71a-51e6-4864-aa2a-f3b6fb49ff9e"
      },
      "execution_count": 28,
      "outputs": [
        {
          "output_type": "stream",
          "name": "stdout",
          "text": [
            "2020 Tesla Model S\n",
            "Overrided: This car has 0 miles on it.\n"
          ]
        }
      ]
    },
    {
      "cell_type": "markdown",
      "source": [
        "## Storing and importing class from modules"
      ],
      "metadata": {
        "id": "EBVgaK1jH-vb"
      }
    },
    {
      "cell_type": "code",
      "source": [
        "del Car, ElectricCar"
      ],
      "metadata": {
        "id": "--ezvLb8IUt2"
      },
      "execution_count": 29,
      "outputs": []
    },
    {
      "cell_type": "code",
      "source": [
        "from google.colab import drive\n",
        "drive.mount('/content/drive')"
      ],
      "metadata": {
        "id": "48DtYQM-DPXU",
        "colab": {
          "base_uri": "https://localhost:8080/"
        },
        "outputId": "c5d76d0a-a2d9-48d3-cc96-03a7553ccad3"
      },
      "execution_count": 30,
      "outputs": [
        {
          "output_type": "stream",
          "name": "stdout",
          "text": [
            "Mounted at /content/drive\n"
          ]
        }
      ]
    },
    {
      "cell_type": "code",
      "source": [
        "import sys\n",
        "sys.path.append('/content/drive/MyDrive/AIS_DG/lib')"
      ],
      "metadata": {
        "id": "7xqbbzYYH0q9"
      },
      "execution_count": 31,
      "outputs": []
    },
    {
      "cell_type": "code",
      "source": [
        "from car import Car, ElectricCar"
      ],
      "metadata": {
        "id": "FIzG2iAyIJiU"
      },
      "execution_count": 32,
      "outputs": []
    },
    {
      "cell_type": "code",
      "source": [
        "x = ElectricCar('tesla', 'model y', 2022)\n",
        "print(x)\n",
        "x.describe_battery()"
      ],
      "metadata": {
        "id": "coh4d14VIWz-",
        "colab": {
          "base_uri": "https://localhost:8080/"
        },
        "outputId": "81381c13-5ff6-41a2-f0b8-a2d0d4e89259"
      },
      "execution_count": 33,
      "outputs": [
        {
          "output_type": "stream",
          "name": "stdout",
          "text": [
            "2022 Tesla Model Y\n",
            "This car has a 75-kWh battery.\n"
          ]
        }
      ]
    },
    {
      "cell_type": "markdown",
      "source": [
        "# Exception"
      ],
      "metadata": {
        "id": "5FT1dACtJ2yK"
      }
    },
    {
      "cell_type": "markdown",
      "source": [
        "## Using try-except block"
      ],
      "metadata": {
        "id": "EaerK9y8KF9-"
      }
    },
    {
      "cell_type": "code",
      "source": [
        " print(5/0)\n"
      ],
      "metadata": {
        "id": "Ja7VseBmJdag",
        "colab": {
          "base_uri": "https://localhost:8080/",
          "height": 177
        },
        "outputId": "1e1951ca-4b7b-41c8-85df-97fa51861a11"
      },
      "execution_count": 43,
      "outputs": [
        {
          "output_type": "error",
          "ename": "ZeroDivisionError",
          "evalue": "division by zero",
          "traceback": [
            "\u001b[0;31m---------------------------------------------------------------------------\u001b[0m",
            "\u001b[0;31mZeroDivisionError\u001b[0m                         Traceback (most recent call last)",
            "\u001b[0;32m<ipython-input-43-fad870a50e27>\u001b[0m in \u001b[0;36m<cell line: 1>\u001b[0;34m()\u001b[0m\n\u001b[0;32m----> 1\u001b[0;31m \u001b[0mprint\u001b[0m\u001b[0;34m(\u001b[0m\u001b[0;36m5\u001b[0m\u001b[0;34m/\u001b[0m\u001b[0;36m0\u001b[0m\u001b[0;34m)\u001b[0m\u001b[0;34m\u001b[0m\u001b[0;34m\u001b[0m\u001b[0m\n\u001b[0m",
            "\u001b[0;31mZeroDivisionError\u001b[0m: division by zero"
          ]
        }
      ]
    },
    {
      "cell_type": "code",
      "source": [
        "try:\n",
        "    print(5/0)\n",
        "except:\n",
        "    print(\"You cannot divide by zero.\")"
      ],
      "metadata": {
        "id": "sZlBmttZJ8K3",
        "colab": {
          "base_uri": "https://localhost:8080/"
        },
        "outputId": "8f48a469-45d9-40c8-c5e7-84a63c8dc29b"
      },
      "execution_count": 46,
      "outputs": [
        {
          "output_type": "stream",
          "name": "stdout",
          "text": [
            "You cannot divide by zero.\n"
          ]
        }
      ]
    },
    {
      "cell_type": "markdown",
      "source": [
        "## try..except..else block"
      ],
      "metadata": {
        "id": "Efpi9N8jKJWA"
      }
    },
    {
      "cell_type": "code",
      "source": [
        "x = 0\n",
        "try:\n",
        "    y = 5/x\n",
        "except:\n",
        "    print(\"You cannot divide by 0.\")\n",
        "else:\n",
        "    print(f\"The answer of 5/{x} is {y}.\")"
      ],
      "metadata": {
        "id": "rWajhcH_KDvd",
        "colab": {
          "base_uri": "https://localhost:8080/"
        },
        "outputId": "aac74a46-6c83-4234-805e-cd1dc3f4139c"
      },
      "execution_count": 37,
      "outputs": [
        {
          "output_type": "stream",
          "name": "stdout",
          "text": [
            "You cannot divide by 0.\n"
          ]
        }
      ]
    },
    {
      "cell_type": "code",
      "source": [
        "x = 2\n",
        "try:\n",
        "    y = 5/x\n",
        "except:\n",
        "    print(\"You cannot divide by 0.\")\n",
        "else:\n",
        "    print(f\"The answer of 5/{x} is {y}.\")"
      ],
      "metadata": {
        "id": "nuKfTDgFKeCk",
        "colab": {
          "base_uri": "https://localhost:8080/"
        },
        "outputId": "0bdc3fee-aff6-4b5a-f6f4-2cb7d9e65aee"
      },
      "execution_count": 38,
      "outputs": [
        {
          "output_type": "stream",
          "name": "stdout",
          "text": [
            "The answer of 5/2 is 2.5.\n"
          ]
        }
      ]
    },
    {
      "cell_type": "markdown",
      "source": [
        "## Handling a specific exception"
      ],
      "metadata": {
        "id": "o65FVTgjKp-E"
      }
    },
    {
      "cell_type": "code",
      "source": [
        "filename = 'data.txt'\n",
        "\n",
        "with open(filename) as f:\n",
        "    contents = f.read()"
      ],
      "metadata": {
        "id": "zWi57w4pKmsF",
        "colab": {
          "base_uri": "https://localhost:8080/",
          "height": 229
        },
        "outputId": "5a857bc0-938c-4231-fa7d-fa466cbbe847"
      },
      "execution_count": 47,
      "outputs": [
        {
          "output_type": "error",
          "ename": "FileNotFoundError",
          "evalue": "[Errno 2] No such file or directory: 'data.txt'",
          "traceback": [
            "\u001b[0;31m---------------------------------------------------------------------------\u001b[0m",
            "\u001b[0;31mFileNotFoundError\u001b[0m                         Traceback (most recent call last)",
            "\u001b[0;32m<ipython-input-47-12512fb06d2b>\u001b[0m in \u001b[0;36m<cell line: 3>\u001b[0;34m()\u001b[0m\n\u001b[1;32m      1\u001b[0m \u001b[0mfilename\u001b[0m \u001b[0;34m=\u001b[0m \u001b[0;34m'data.txt'\u001b[0m\u001b[0;34m\u001b[0m\u001b[0;34m\u001b[0m\u001b[0m\n\u001b[1;32m      2\u001b[0m \u001b[0;34m\u001b[0m\u001b[0m\n\u001b[0;32m----> 3\u001b[0;31m \u001b[0;32mwith\u001b[0m \u001b[0mopen\u001b[0m\u001b[0;34m(\u001b[0m\u001b[0mfilename\u001b[0m\u001b[0;34m)\u001b[0m \u001b[0;32mas\u001b[0m \u001b[0mf\u001b[0m\u001b[0;34m:\u001b[0m\u001b[0;34m\u001b[0m\u001b[0;34m\u001b[0m\u001b[0m\n\u001b[0m\u001b[1;32m      4\u001b[0m     \u001b[0mcontents\u001b[0m \u001b[0;34m=\u001b[0m \u001b[0mf\u001b[0m\u001b[0;34m.\u001b[0m\u001b[0mread\u001b[0m\u001b[0;34m(\u001b[0m\u001b[0;34m)\u001b[0m\u001b[0;34m\u001b[0m\u001b[0;34m\u001b[0m\u001b[0m\n",
            "\u001b[0;31mFileNotFoundError\u001b[0m: [Errno 2] No such file or directory: 'data.txt'"
          ]
        }
      ]
    },
    {
      "cell_type": "code",
      "source": [
        "filename = 'data.txt'\n",
        "\n",
        "try:\n",
        "    with open(filename) as f:\n",
        "        contents = f.read()\n",
        "except FileNotFoundError:\n",
        "    print(f\"Sorry, the file {filename} does not exist.\")"
      ],
      "metadata": {
        "id": "BHhqCppMKxlK",
        "colab": {
          "base_uri": "https://localhost:8080/"
        },
        "outputId": "f019180a-7532-4ce4-cf81-cda1e45b7ef0"
      },
      "execution_count": 48,
      "outputs": [
        {
          "output_type": "stream",
          "name": "stdout",
          "text": [
            "Sorry, the file data.txt does not exist.\n"
          ]
        }
      ]
    },
    {
      "cell_type": "markdown",
      "source": [
        "## finally"
      ],
      "metadata": {
        "id": "drW9HhqNK-hI"
      }
    },
    {
      "cell_type": "code",
      "source": [
        "x = 2\n",
        "try:\n",
        "    y = 5/x\n",
        "except:\n",
        "    print(\"You cannot divide by 0.\")\n",
        "else:\n",
        "    print(f\"The answer of 5/{x} is {y}.\")\n",
        "finally:\n",
        "    print(\"----------------------------\")"
      ],
      "metadata": {
        "id": "-4SlKQ7wK9B3"
      },
      "execution_count": null,
      "outputs": []
    },
    {
      "cell_type": "code",
      "source": [
        "x = 0\n",
        "try:\n",
        "    y = 5/x\n",
        "except:\n",
        "    print(\"You cannot divide by 0.\")\n",
        "else:\n",
        "    print(f\"The answer of 5/{x} is {y}.\")\n",
        "finally:\n",
        "    print(\"----------------------------\")"
      ],
      "metadata": {
        "id": "RDRqtJS_LJcF",
        "colab": {
          "base_uri": "https://localhost:8080/"
        },
        "outputId": "d09bd148-6386-4926-fdcf-24958ece2f84"
      },
      "execution_count": 40,
      "outputs": [
        {
          "output_type": "stream",
          "name": "stdout",
          "text": [
            "You cannot divide by 0.\n",
            "----------------------------\n"
          ]
        }
      ]
    },
    {
      "cell_type": "code",
      "source": [
        "!pip install pyspark"
      ],
      "metadata": {
        "id": "k-vXemzPLL3B",
        "colab": {
          "base_uri": "https://localhost:8080/"
        },
        "outputId": "a1c762c9-8b47-49fd-f46f-956141210874"
      },
      "execution_count": 41,
      "outputs": [
        {
          "output_type": "stream",
          "name": "stdout",
          "text": [
            "Collecting pyspark\n",
            "  Downloading pyspark-3.5.0.tar.gz (316.9 MB)\n",
            "\u001b[2K     \u001b[90m━━━━━━━━━━━━━━━━━━━━━━━━━━━━━━━━━━━━━━━━\u001b[0m \u001b[32m316.9/316.9 MB\u001b[0m \u001b[31m3.2 MB/s\u001b[0m eta \u001b[36m0:00:00\u001b[0m\n",
            "\u001b[?25h  Preparing metadata (setup.py) ... \u001b[?25l\u001b[?25hdone\n",
            "Requirement already satisfied: py4j==0.10.9.7 in /usr/local/lib/python3.10/dist-packages (from pyspark) (0.10.9.7)\n",
            "Building wheels for collected packages: pyspark\n",
            "  Building wheel for pyspark (setup.py) ... \u001b[?25l\u001b[?25hdone\n",
            "  Created wheel for pyspark: filename=pyspark-3.5.0-py2.py3-none-any.whl size=317425345 sha256=19fd362e2c2e4115832014ca46d616b6b1e16b0d959fa8b08a8b7ef0023ac021\n",
            "  Stored in directory: /root/.cache/pip/wheels/41/4e/10/c2cf2467f71c678cfc8a6b9ac9241e5e44a01940da8fbb17fc\n",
            "Successfully built pyspark\n",
            "Installing collected packages: pyspark\n",
            "Successfully installed pyspark-3.5.0\n"
          ]
        }
      ]
    },
    {
      "cell_type": "code",
      "source": [
        "  import pyspark.pandas as ps"
      ],
      "metadata": {
        "id": "q23QdqGmTrj5",
        "colab": {
          "base_uri": "https://localhost:8080/"
        },
        "outputId": "74e78bb2-1aea-4bae-f4ab-3ca363a2cd1d"
      },
      "execution_count": 42,
      "outputs": [
        {
          "output_type": "stream",
          "name": "stderr",
          "text": [
            "/usr/local/lib/python3.10/dist-packages/pyspark/pandas/__init__.py:50: UserWarning: 'PYARROW_IGNORE_TIMEZONE' environment variable was not set. It is required to set this environment variable to '1' in both driver and executor sides if you use pyarrow>=2.0.0. pandas-on-Spark will set it for you but it does not work if there is a Spark context already launched.\n",
            "  warnings.warn(\n"
          ]
        }
      ]
    },
    {
      "cell_type": "code",
      "source": [
        " df = ps.read_csv('/content/drive/MyDrive/AIS_DG/Flight_flights.csv')"
      ],
      "metadata": {
        "id": "CMO4JdkmUGOk",
        "colab": {
          "base_uri": "https://localhost:8080/"
        },
        "outputId": "eae585d6-55cc-4929-d7b7-3aa7d0ee071d"
      },
      "execution_count": 44,
      "outputs": [
        {
          "output_type": "stream",
          "name": "stderr",
          "text": [
            "/usr/local/lib/python3.10/dist-packages/pyspark/pandas/utils.py:1016: PandasAPIOnSparkAdviceWarning: If `index_col` is not specified for `read_csv`, the default index is attached which can cause additional overhead.\n",
            "  warnings.warn(message, PandasAPIOnSparkAdviceWarning)\n"
          ]
        }
      ]
    },
    {
      "cell_type": "code",
      "source": [
        "type(df)"
      ],
      "metadata": {
        "id": "wQkzJnuiUObL",
        "colab": {
          "base_uri": "https://localhost:8080/"
        },
        "outputId": "d5efd36c-0d55-402d-fa67-0f9a05a5405a"
      },
      "execution_count": 45,
      "outputs": [
        {
          "output_type": "execute_result",
          "data": {
            "text/plain": [
              "pyspark.pandas.frame.DataFrame"
            ]
          },
          "metadata": {},
          "execution_count": 45
        }
      ]
    }
  ]
}